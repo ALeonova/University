{
 "cells": [
  {
   "cell_type": "markdown",
   "metadata": {},
   "source": [
    "### РОССИЙСКИЙ УНИВЕРСИТЕТ ДРУЖБЫ НАРОДОВ"
   ]
  },
  {
   "cell_type": "markdown",
   "metadata": {},
   "source": [
    "#### Факультет физико-математических и естественных наук  \n",
    "#### Кафедра информационных технологий "
   ]
  },
  {
   "cell_type": "markdown",
   "metadata": {},
   "source": [
    "## ОТЧЕТ ПО ЛАБОРАТОРНОЙ РАБОТЕ №6"
   ]
  },
  {
   "cell_type": "markdown",
   "metadata": {},
   "source": [
    "#### Дисциплина: Интеллектуальный анализ данных"
   ]
  },
  {
   "cell_type": "markdown",
   "metadata": {},
   "source": [
    "##### Студент:   Леонова Алина\n",
    "##### Группа:    НФИбд-02-17"
   ]
  },
  {
   "cell_type": "markdown",
   "metadata": {},
   "source": [
    "### Москва 2020\n",
    "***"
   ]
  },
  {
   "cell_type": "markdown",
   "metadata": {},
   "source": [
    "### Вариант №25\n",
    "Ozone Level Detection Data Set  \n",
    "\n",
    "Название файла: eighthr.data \n",
    "\n",
    "Ссылка: http://archive.ics.uci.edu/ml/datasets/Ozone+Level+Detection  \n",
    "\n",
    "Класс: class (столбец No 74) "
   ]
  },
  {
   "cell_type": "markdown",
   "metadata": {},
   "source": [
    "\n",
    "***\n",
    "#### Постановка задачи:\n",
    "1.         Считайте заданный набор данных из репозитария UCI.\n",
    "\n",
    " \n",
    "\n",
    "2.         Если среди меток класса имеются пропущенные значения, то удалите записи с пропущенными метками класса. Если в признаках имеются пропущенные значения, то замените их на медианные значения признака. Если какие-либо числовые признаки в наборе были распознаны неверно, то преобразуйте их в числовые. Оставьте в наборе данных только числовые признаки.\n",
    "\n",
    " \n",
    "\n",
    "3.         Вычислите и визуализируйте матрицу корреляций признаков. Удалите из набора признаки, имеющие высокую корреляцию (близкую к +1 или -1) с другими признаками.\n",
    "\n",
    " \n",
    "\n",
    "4.         Если столбец с метками классов содержит более двух классов, то объедините некоторые классы, чтобы получить набор для бинарной классификации. Объединяйте классы таким образом, чтобы положительный и отрицательный классы были сопоставимы по количеству точек.\n",
    "\n",
    " \n",
    "\n",
    "5.         Используя метод рекурсивного исключения признаков (RFE) и логистическую регрессию, определите и оставьте в наборе наиболее значимые признаки (не менее двух). Если в наборе данных осталось более двух признаков, то определите два признака с наибольшей дисперсией для визуализации.\n",
    "\n",
    " \n",
    "\n",
    "6.         Масштабируйте признаки набора данных на интервал от 0 до 1.\n",
    "\n",
    " \n",
    "\n",
    "7.         Используя разделение набора данных на обучающую и тестовую выборки в соотношении 70% на 30%, создайте и обучите классификаторы на основе наивного байесовского классификатора, логистической регрессии, линейного дискриминантного анализа и метода опорных векторов.\n",
    "\n",
    " \n",
    "\n",
    "8.         Визуализируйте для каждого из классификаторов границу решения, подписывая оси и рисунок и создавая легенду для меток классов набора данных.\n",
    "\n",
    " \n",
    "\n",
    "9.         Визуализируйте на одном рисунке ROC кривые для каждого из классификаторов, подписывая оси и рисунок и создавая легенду для методов бинарной классификации.\n",
    "\n",
    " \n",
    "\n",
    "10.       Определите лучший метод бинарной классификации набора данных по показателю ROC_AUC (площади под ROC кривой).\n",
    "***"
   ]
  },
  {
   "cell_type": "markdown",
   "metadata": {},
   "source": [
    "**1. Считайте заданный набор данных из репозитария UCI.**\n",
    "\n",
    "\tclass (столбец No 74)"
   ]
  },
  {
   "cell_type": "code",
   "execution_count": 1,
   "metadata": {},
   "outputs": [
    {
     "name": "stdout",
     "output_type": "stream",
     "text": [
      "         V0   V1   V2   V3   V4   V5   V6   V7   V8   V9  ...   V64    V65  \\\n",
      "0  1/1/1998  0.8  1.8  2.4  2.1    2  2.1  1.5  1.7  1.9  ...  0.15  10.67   \n",
      "1  1/2/1998  2.8  3.2  3.3  2.7  3.3  3.2  2.9  2.8  3.1  ...  0.48   8.39   \n",
      "2  1/3/1998  2.9  2.8  2.6  2.1  2.2  2.5  2.5  2.7  2.2  ...   0.6   6.94   \n",
      "3  1/4/1998  4.7  3.8  3.7  3.8  2.9  3.1  2.8  2.5  2.4  ...  0.49   8.73   \n",
      "4  1/5/1998  2.6  2.1  1.6  1.4  0.9  1.5  1.2  1.4  1.3  ...     ?      ?   \n",
      "\n",
      "     V66   V67    V68   V69    V70  V71   V72  V73  \n",
      "0  -1.56  5795  -12.1  17.9  10330  -55     0  0.0  \n",
      "1   3.84  5805  14.05    29  10275  -55     0  0.0  \n",
      "2    9.8  5790   17.9  41.3  10235  -40     0  0.0  \n",
      "3  10.54  5775  31.15  51.7  10195  -40  2.08  0.0  \n",
      "4      ?     ?      ?     ?      ?    ?  0.58  0.0  \n",
      "\n",
      "[5 rows x 74 columns]\n"
     ]
    }
   ],
   "source": [
    "import numpy as np\n",
    "import pandas as pd\n",
    "\n",
    "url = \\\n",
    "\"http://archive.ics.uci.edu/ml/machine-learning-databases/ozone/eighthr.data\"\n",
    "data = pd.read_csv( url, header=None, prefix=\"V\")\n",
    "print(data[0:5])"
   ]
  },
  {
   "cell_type": "markdown",
   "metadata": {},
   "source": [
    "**2. Если среди меток класса имеются пропущенные значения, то удалите записи с пропущенными метками класса. Если в признаках имеются пропущенные значения, то замените их на медианные значения признака. Если какие-либо числовые признаки в наборе были распознаны неверно, то преобразуйте их в числовые. Оставьте в наборе данных только числовые признаки.**"
   ]
  },
  {
   "cell_type": "code",
   "execution_count": 2,
   "metadata": {},
   "outputs": [
    {
     "name": "stdout",
     "output_type": "stream",
     "text": [
      "Типы:\n",
      " V0      object\n",
      "V1      object\n",
      "V2      object\n",
      "V3      object\n",
      "V4      object\n",
      "        ...   \n",
      "V69     object\n",
      "V70     object\n",
      "V71     object\n",
      "V72     object\n",
      "V73    float64\n",
      "Length: 74, dtype: object\n",
      "\n",
      "Число записей = 2534\n",
      "Число признаков = 74\n",
      "Число отсутствующих значений:\n",
      "\tV0: 0\n",
      "\tV1: 299\n",
      "\tV2: 292\n",
      "\tV3: 294\n",
      "\tV4: 292\n",
      "\tV5: 293\n",
      "\tV6: 292\n",
      "\tV7: 291\n",
      "\tV8: 289\n",
      "\tV9: 290\n",
      "\tV10: 287\n",
      "\tV11: 288\n",
      "\tV12: 292\n",
      "\tV13: 287\n",
      "\tV14: 288\n",
      "\tV15: 288\n",
      "\tV16: 286\n",
      "\tV17: 284\n",
      "\tV18: 283\n",
      "\tV19: 286\n",
      "\tV20: 292\n",
      "\tV21: 294\n",
      "\tV22: 293\n",
      "\tV23: 300\n",
      "\tV24: 297\n",
      "\tV25: 273\n",
      "\tV26: 273\n",
      "\tV27: 190\n",
      "\tV28: 185\n",
      "\tV29: 187\n",
      "\tV30: 184\n",
      "\tV31: 184\n",
      "\tV32: 183\n",
      "\tV33: 183\n",
      "\tV34: 183\n",
      "\tV35: 185\n",
      "\tV36: 185\n",
      "\tV37: 188\n",
      "\tV38: 192\n",
      "\tV39: 189\n",
      "\tV40: 191\n",
      "\tV41: 192\n",
      "\tV42: 187\n",
      "\tV43: 184\n",
      "\tV44: 182\n",
      "\tV45: 184\n",
      "\tV46: 188\n",
      "\tV47: 189\n",
      "\tV48: 185\n",
      "\tV49: 192\n",
      "\tV50: 189\n",
      "\tV51: 175\n",
      "\tV52: 175\n",
      "\tV53: 99\n",
      "\tV54: 105\n",
      "\tV55: 180\n",
      "\tV56: 180\n",
      "\tV57: 95\n",
      "\tV58: 107\n",
      "\tV59: 115\n",
      "\tV60: 157\n",
      "\tV61: 157\n",
      "\tV62: 100\n",
      "\tV63: 115\n",
      "\tV64: 125\n",
      "\tV65: 210\n",
      "\tV66: 210\n",
      "\tV67: 112\n",
      "\tV68: 136\n",
      "\tV69: 125\n",
      "\tV70: 95\n",
      "\tV71: 158\n",
      "\tV72: 2\n",
      "\tV73: 0\n"
     ]
    }
   ],
   "source": [
    "df = data.replace('?',np.NaN)\n",
    "\n",
    "print( \"Типы:\\n\", df.dtypes)\n",
    "print('\\nЧисло записей = %d' % (df.shape[0]))\n",
    "print('Число признаков = %d' % (df.shape[1]))\n",
    "\n",
    "print('Число отсутствующих значений:')\n",
    "for col in df.columns:\n",
    "    print('\\t%s: %d' % (col,df[col].isna().sum()))"
   ]
  },
  {
   "cell_type": "markdown",
   "metadata": {},
   "source": [
    "V73 - класс, в нём нет пропущенных значений. Каждая строка набора хранит в себе дату и числовые данные. Избавляюсь от даты (V0) и конвертирую нераспознанное в числа."
   ]
  },
  {
   "cell_type": "code",
   "execution_count": 3,
   "metadata": {},
   "outputs": [
    {
     "name": "stdout",
     "output_type": "stream",
     "text": [
      "Типы:\n",
      " V1     float64\n",
      "V2     float64\n",
      "V3     float64\n",
      "V4     float64\n",
      "V5     float64\n",
      "        ...   \n",
      "V69    float64\n",
      "V70    float64\n",
      "V71    float64\n",
      "V72    float64\n",
      "V73    float64\n",
      "Length: 73, dtype: object\n"
     ]
    }
   ],
   "source": [
    "df = df.drop(['V0'],axis=1)\n",
    "for i in df.columns:\n",
    "    df[[i]] = df[[i]].apply(pd.to_numeric)\n",
    "print( \"Типы:\\n\", df.dtypes)"
   ]
  },
  {
   "cell_type": "markdown",
   "metadata": {},
   "source": [
    "Заменяю пропущенные значения на медианные значения соответствующих признаков."
   ]
  },
  {
   "cell_type": "code",
   "execution_count": 4,
   "metadata": {},
   "outputs": [
    {
     "name": "stdout",
     "output_type": "stream",
     "text": [
      "\n",
      "Медианные значения признаков:\n",
      "V1 1.3\n",
      "V2 1.3\n",
      "V3 1.2\n",
      "V4 1.3\n",
      "V5 1.3\n",
      "V6 1.3\n",
      "V7 1.4\n",
      "V8 1.9\n",
      "V9 2.5\n",
      "V10 2.8\n",
      "V11 2.9\n",
      "V12 2.9\n",
      "V13 3.0\n",
      "V14 3.0\n",
      "V15 3.1\n",
      "V16 3.2\n",
      "V17 3.2\n",
      "V18 2.9\n",
      "V19 2.5\n",
      "V20 2.2\n",
      "V21 2.0\n",
      "V22 1.7\n",
      "V23 1.6\n",
      "V24 1.4\n",
      "V25 4.1\n",
      "V26 2.2\n",
      "V27 20.4\n",
      "V28 20.2\n",
      "V29 19.9\n",
      "V30 19.85\n",
      "V31 19.7\n",
      "V32 19.6\n",
      "V33 19.7\n",
      "V34 20.4\n",
      "V35 21.4\n",
      "V36 22.9\n",
      "V37 24.0\n",
      "V38 24.8\n",
      "V39 25.3\n",
      "V40 25.5\n",
      "V41 25.7\n",
      "V42 25.6\n",
      "V43 25.25\n",
      "V44 24.4\n",
      "V45 23.4\n",
      "V46 22.5\n",
      "V47 21.8\n",
      "V48 21.3\n",
      "V49 20.9\n",
      "V50 20.7\n",
      "V51 26.6\n",
      "V52 22.2\n",
      "V53 14.3\n",
      "V54 0.64\n",
      "V55 1.875\n",
      "V56 1.545\n",
      "V57 1535.0\n",
      "V58 6.8\n",
      "V59 0.38\n",
      "V60 5.09\n",
      "V61 0.86\n",
      "V62 3153.5\n",
      "V63 -10.1\n",
      "V64 0.23\n",
      "V65 9.25\n",
      "V66 0.36\n",
      "V67 5835.0\n",
      "V68 14.925\n",
      "V69 41.1\n",
      "V70 10160.0\n",
      "V71 0.0\n",
      "V72 0.0\n",
      "\n",
      "Число отсутствующих значений после заммены:\n",
      "\tV1: 0\n",
      "\tV2: 0\n",
      "\tV3: 0\n",
      "\tV4: 0\n",
      "\tV5: 0\n",
      "\tV6: 0\n",
      "\tV7: 0\n",
      "\tV8: 0\n",
      "\tV9: 0\n",
      "\tV10: 0\n",
      "\tV11: 0\n",
      "\tV12: 0\n",
      "\tV13: 0\n",
      "\tV14: 0\n",
      "\tV15: 0\n",
      "\tV16: 0\n",
      "\tV17: 0\n",
      "\tV18: 0\n",
      "\tV19: 0\n",
      "\tV20: 0\n",
      "\tV21: 0\n",
      "\tV22: 0\n",
      "\tV23: 0\n",
      "\tV24: 0\n",
      "\tV25: 0\n",
      "\tV26: 0\n",
      "\tV27: 0\n",
      "\tV28: 0\n",
      "\tV29: 0\n",
      "\tV30: 0\n",
      "\tV31: 0\n",
      "\tV32: 0\n",
      "\tV33: 0\n",
      "\tV34: 0\n",
      "\tV35: 0\n",
      "\tV36: 0\n",
      "\tV37: 0\n",
      "\tV38: 0\n",
      "\tV39: 0\n",
      "\tV40: 0\n",
      "\tV41: 0\n",
      "\tV42: 0\n",
      "\tV43: 0\n",
      "\tV44: 0\n",
      "\tV45: 0\n",
      "\tV46: 0\n",
      "\tV47: 0\n",
      "\tV48: 0\n",
      "\tV49: 0\n",
      "\tV50: 0\n",
      "\tV51: 0\n",
      "\tV52: 0\n",
      "\tV53: 0\n",
      "\tV54: 0\n",
      "\tV55: 0\n",
      "\tV56: 0\n",
      "\tV57: 0\n",
      "\tV58: 0\n",
      "\tV59: 0\n",
      "\tV60: 0\n",
      "\tV61: 0\n",
      "\tV62: 0\n",
      "\tV63: 0\n",
      "\tV64: 0\n",
      "\tV65: 0\n",
      "\tV66: 0\n",
      "\tV67: 0\n",
      "\tV68: 0\n",
      "\tV69: 0\n",
      "\tV70: 0\n",
      "\tV71: 0\n",
      "\tV72: 0\n",
      "\tV73: 0\n"
     ]
    }
   ],
   "source": [
    " print( '\\nМедианные значения признаков:')\n",
    "av = []\n",
    "c = df.drop(['V73'],axis=1).columns\n",
    "for i in c:\n",
    "    av = np.nanmedian(df[i].values)\n",
    "    print(i,av)\n",
    "    df.fillna(value = {i:av}, inplace = True)\n",
    " \n",
    "print('\\nЧисло отсутствующих значений после заммены:')\n",
    "for col in df.columns:\n",
    "    print('\\t%s: %d' % (col,df[col].isna().sum()))"
   ]
  },
  {
   "cell_type": "markdown",
   "metadata": {},
   "source": [
    "**3. Вычислите и визуализируйте матрицу корреляций признаков. Удалите из набора признаки, имеющие высокую корреляцию (близкую к +1 или -1) с другими признаками.**"
   ]
  },
  {
   "cell_type": "code",
   "execution_count": 5,
   "metadata": {},
   "outputs": [
    {
     "name": "stdout",
     "output_type": "stream",
     "text": [
      "\n",
      "Корреляционная матрица признаков:\n",
      "            V1        V2        V3        V4        V5        V6        V7  \\\n",
      "V1   1.000000  0.919563  0.860405  0.802468  0.753572  0.703452  0.665626   \n",
      "V2   0.919563  1.000000  0.925181  0.851380  0.802080  0.747513  0.710108   \n",
      "V3   0.860405  0.925181  1.000000  0.916683  0.846544  0.786159  0.747142   \n",
      "V4   0.802468  0.851380  0.916683  1.000000  0.913868  0.846335  0.789377   \n",
      "V5   0.753572  0.802080  0.846544  0.913868  1.000000  0.914685  0.835782   \n",
      "..        ...       ...       ...       ...       ...       ...       ...   \n",
      "V68  0.097556  0.095098  0.082670  0.075753  0.072317  0.059903  0.075683   \n",
      "V69  0.152418  0.145516  0.131370  0.124640  0.113367  0.103512  0.113723   \n",
      "V70 -0.117625 -0.106754 -0.088396 -0.088001 -0.070416 -0.073611 -0.088436   \n",
      "V71 -0.112243 -0.102185 -0.113536 -0.106731 -0.099015 -0.093575 -0.093393   \n",
      "V72  0.087363  0.098844  0.092781  0.099487  0.120267  0.113232  0.105559   \n",
      "\n",
      "           V8        V9       V10  ...       V63       V64       V65  \\\n",
      "V1   0.596721  0.540016  0.494373  ... -0.121085  0.115334  0.203753   \n",
      "V2   0.641675  0.574481  0.521148  ... -0.135614  0.107777  0.213007   \n",
      "V3   0.673755  0.604886  0.554600  ... -0.157941  0.095072  0.241320   \n",
      "V4   0.708344  0.624527  0.568390  ... -0.173362  0.096765  0.258318   \n",
      "V5   0.735416  0.627687  0.563770  ... -0.175243  0.098615  0.251381   \n",
      "..        ...       ...       ...  ...       ...       ...       ...   \n",
      "V68  0.126054  0.064591 -0.057125  ...  0.414892  0.465410 -0.324826   \n",
      "V69  0.143126  0.083488 -0.017124  ...  0.230273  0.355498 -0.237184   \n",
      "V70 -0.143061 -0.124400 -0.053933  ... -0.373193 -0.147445  0.135478   \n",
      "V71 -0.098772 -0.060289 -0.050363  ... -0.078778 -0.120680  0.074658   \n",
      "V72  0.071281  0.019185 -0.037560  ...  0.055020  0.213000  0.007488   \n",
      "\n",
      "          V66       V67       V68       V69       V70       V71       V72  \n",
      "V1   0.314420 -0.142422  0.097556  0.152418 -0.117625 -0.112243  0.087363  \n",
      "V2   0.316430 -0.161679  0.095098  0.145516 -0.106754 -0.102185  0.098844  \n",
      "V3   0.328145 -0.181960  0.082670  0.131370 -0.088396 -0.113536  0.092781  \n",
      "V4   0.328218 -0.204760  0.075753  0.124640 -0.088001 -0.106731  0.099487  \n",
      "V5   0.318490 -0.212248  0.072317  0.113367 -0.070416 -0.099015  0.120267  \n",
      "..        ...       ...       ...       ...       ...       ...       ...  \n",
      "V68  0.228184  0.361244  1.000000  0.856787 -0.483892 -0.235256  0.196379  \n",
      "V69  0.222751  0.251774  0.856787  1.000000 -0.531081 -0.277624  0.144974  \n",
      "V70 -0.248356 -0.076304 -0.483892 -0.531081  1.000000  0.329649 -0.096333  \n",
      "V71 -0.179720 -0.023896 -0.235256 -0.277624  0.329649  1.000000 -0.086714  \n",
      "V72  0.208804  0.018960  0.196379  0.144974 -0.096333 -0.086714  1.000000  \n",
      "\n",
      "[72 rows x 72 columns]\n"
     ]
    },
    {
     "data": {
      "image/png": "[encoded data removed]",
      "text/plain": [
       "<Figure size 1152x864 with 2 Axes>"
      ]
     },
     "metadata": {
      "needs_background": "light"
     },
     "output_type": "display_data"
    }
   ],
   "source": [
    " def correlation_matrix(df):\n",
    "    from matplotlib import pyplot as plt\n",
    "    from matplotlib import cm as cm\n",
    "\n",
    "    fig = plt.figure(figsize=(16,12))\n",
    "    ax1 = fig.add_subplot(111)\n",
    "    cmap = cm.get_cmap('jet', 30)\n",
    "    print('\\nКорреляционная матрица признаков:\\n', df.corr())\n",
    "    cax = ax1.imshow(df.corr(), interpolation=\"nearest\", cmap=cmap)\n",
    "    ax1.grid(True)\n",
    "    plt.title('Визуализация корреляции признаков в наборе данных\\n',fontsize=15)\n",
    "    labels=df.columns\n",
    "    ax1.set_xticklabels(labels,fontsize=9)\n",
    "    ax1.set_yticklabels(labels,fontsize=9)\n",
    "    fig.colorbar(cax, ticks=[0.1*i for i in range(-11,11)])\n",
    "    plt.show()\n",
    "\n",
    "correlation_matrix(df.drop(['V73'],axis=1))"
   ]
  },
  {
   "cell_type": "markdown",
   "metadata": {},
   "source": [
    "Удаление признаков, имеющих высокую корреляцию с другими признаками. \n",
    "Матрица симметричная так что проверяю значения только по одну сторону от главной диагонали. \n",
    "Близкими к единице считаю значения по модую большие 0.9."
   ]
  },
  {
   "cell_type": "code",
   "execution_count": 6,
   "metadata": {},
   "outputs": [
    {
     "name": "stdout",
     "output_type": "stream",
     "text": [
      "\n",
      "Корреляционная матрица признаков:\n",
      "            V1        V8        V9       V10       V11       V12       V13  \\\n",
      "V1   1.000000  0.596721  0.540016  0.494373  0.465033  0.439997  0.412667   \n",
      "V8   0.596721  1.000000  0.850626  0.686303  0.587330  0.521795  0.466992   \n",
      "V9   0.540016  0.850626  1.000000  0.832773  0.690122  0.585390  0.522380   \n",
      "V10  0.494373  0.686303  0.832773  1.000000  0.864582  0.735416  0.656798   \n",
      "V11  0.465033  0.587330  0.690122  0.864582  1.000000  0.881030  0.789233   \n",
      "V12  0.439997  0.521795  0.585390  0.735416  0.881030  1.000000  0.878282   \n",
      "V13  0.412667  0.466992  0.522380  0.656798  0.789233  0.878282  1.000000   \n",
      "V14  0.384246  0.418953  0.459376  0.593868  0.720396  0.796021  0.886711   \n",
      "V15  0.342636  0.377431  0.414783  0.536203  0.652353  0.728256  0.792408   \n",
      "V16  0.328815  0.354447  0.385981  0.499877  0.601897  0.660232  0.720132   \n",
      "V17  0.303803  0.324800  0.363696  0.458948  0.545845  0.587180  0.638262   \n",
      "V18  0.255291  0.299839  0.340262  0.401624  0.459892  0.496842  0.527205   \n",
      "V19  0.244353  0.302049  0.327803  0.363986  0.401658  0.420731  0.436202   \n",
      "V20  0.264245  0.289791  0.318556  0.356575  0.392769  0.399204  0.407692   \n",
      "V21  0.278779  0.284433  0.299575  0.342214  0.385330  0.401240  0.411879   \n",
      "V22  0.327322  0.307210  0.313436  0.362828  0.402323  0.422351  0.429887   \n",
      "V25  0.505449  0.522453  0.552500  0.641184  0.723784  0.752995  0.763248   \n",
      "V26  0.680267  0.713095  0.716658  0.760890  0.794925  0.798875  0.796615   \n",
      "V27  0.000349  0.051442  0.040852 -0.077604 -0.147737 -0.181865 -0.177579   \n",
      "V53 -0.031313  0.034556  0.022652 -0.101403 -0.174016 -0.203472 -0.202407   \n",
      "V54  0.132025  0.128985  0.044987 -0.031737 -0.070857 -0.065850 -0.055501   \n",
      "V55  0.184572  0.082639  0.102328  0.164061  0.190470  0.177629  0.166924   \n",
      "V56  0.388536  0.266861  0.208343  0.195373  0.225326  0.248646  0.252032   \n",
      "V57 -0.218859 -0.180662 -0.167435 -0.195307 -0.219460 -0.228784 -0.218659   \n",
      "V58 -0.013452  0.031334  0.019480 -0.073693 -0.128656 -0.156065 -0.152017   \n",
      "V59  0.073197  0.090267  0.038192 -0.052137 -0.103165 -0.110333 -0.110240   \n",
      "V60  0.207749  0.102318  0.111838  0.195024  0.234630  0.236547  0.224654   \n",
      "V61  0.389244  0.265923  0.193199  0.175283  0.205104  0.228668  0.234321   \n",
      "V62 -0.172865 -0.114033 -0.112562 -0.193737 -0.248190 -0.271583 -0.262523   \n",
      "V63 -0.121085 -0.026503 -0.046215 -0.151359 -0.218451 -0.246914 -0.235395   \n",
      "V64  0.115334  0.071614  0.033541 -0.020309 -0.040502 -0.033487 -0.028827   \n",
      "V65  0.203753  0.105518  0.100318  0.191636  0.244906  0.257480  0.253976   \n",
      "V66  0.314420  0.229027  0.159906  0.148510  0.173382  0.194748  0.193668   \n",
      "V68  0.097556  0.126054  0.064591 -0.057125 -0.122424 -0.138499 -0.133751   \n",
      "V69  0.152418  0.143126  0.083488 -0.017124 -0.064427 -0.071309 -0.064344   \n",
      "V70 -0.117625 -0.143061 -0.124400 -0.053933 -0.023599 -0.012322 -0.007710   \n",
      "V71 -0.112243 -0.098772 -0.060289 -0.050363 -0.089222 -0.112269 -0.102845   \n",
      "V72  0.087363  0.071281  0.019185 -0.037560 -0.016724 -0.007399 -0.017063   \n",
      "V73 -0.168438 -0.117495 -0.128215 -0.182397 -0.210392 -0.212577 -0.215430   \n",
      "\n",
      "          V14       V15       V16  ...       V63       V64       V65  \\\n",
      "V1   0.384246  0.342636  0.328815  ... -0.121085  0.115334  0.203753   \n",
      "V8   0.418953  0.377431  0.354447  ... -0.026503  0.071614  0.105518   \n",
      "V9   0.459376  0.414783  0.385981  ... -0.046215  0.033541  0.100318   \n",
      "V10  0.593868  0.536203  0.499877  ... -0.151359 -0.020309  0.191636   \n",
      "V11  0.720396  0.652353  0.601897  ... -0.218451 -0.040502  0.244906   \n",
      "V12  0.796021  0.728256  0.660232  ... -0.246914 -0.033487  0.257480   \n",
      "V13  0.886711  0.792408  0.720132  ... -0.235395 -0.028827  0.253976   \n",
      "V14  1.000000  0.883176  0.800777  ... -0.217477 -0.024310  0.227490   \n",
      "V15  0.883176  1.000000  0.885636  ... -0.194537 -0.039579  0.184883   \n",
      "V16  0.800777  0.885636  1.000000  ... -0.168062 -0.042007  0.146284   \n",
      "V17  0.708592  0.776370  0.867838  ... -0.152290 -0.053261  0.106625   \n",
      "V18  0.581616  0.635905  0.717331  ... -0.087561 -0.030906  0.038201   \n",
      "V19  0.473566  0.520867  0.582097  ... -0.030627 -0.012469 -0.014993   \n",
      "V20  0.437064  0.464005  0.505650  ... -0.033998 -0.002821  0.022741   \n",
      "V21  0.438479  0.454276  0.486453  ... -0.053150  0.003842  0.052681   \n",
      "V22  0.443287  0.448595  0.473118  ... -0.061634  0.025862  0.070409   \n",
      "V25  0.778931  0.774282  0.770554  ... -0.207400  0.016794  0.200121   \n",
      "V26  0.787680  0.765804  0.752130  ... -0.187624  0.029167  0.223643   \n",
      "V27 -0.154659 -0.121551 -0.081687  ...  0.712195  0.158171 -0.579110   \n",
      "V53 -0.180700 -0.148651 -0.106687  ...  0.812762  0.160495 -0.599161   \n",
      "V54 -0.055657 -0.054984 -0.054920  ...  0.274808  0.346600 -0.171175   \n",
      "V55  0.147019  0.114581  0.092374  ... -0.396755 -0.046176  0.603501   \n",
      "V56  0.258211  0.258070  0.260443  ...  0.184903  0.224716 -0.041026   \n",
      "V57 -0.214813 -0.188216 -0.183653  ...  0.312058 -0.018566 -0.452632   \n",
      "V58 -0.133754 -0.105079 -0.070319  ...  0.839231  0.063952 -0.544752   \n",
      "V59 -0.107421 -0.120471 -0.119785  ...  0.220693  0.533262 -0.164231   \n",
      "V60  0.196350  0.157078  0.120672  ... -0.586734 -0.039690  0.815872   \n",
      "V61  0.246428  0.226401  0.215350  ...  0.096457  0.263737  0.097592   \n",
      "V62 -0.248983 -0.213506 -0.190435  ...  0.675113  0.068805 -0.645378   \n",
      "V63 -0.217477 -0.194537 -0.168062  ...  1.000000  0.065459 -0.603763   \n",
      "V64 -0.024310 -0.039579 -0.042007  ...  0.065459  1.000000 -0.034347   \n",
      "V65  0.227490  0.184883  0.146284  ... -0.603763 -0.034347  1.000000   \n",
      "V66  0.198609  0.165649  0.153419  ... -0.037482  0.286086  0.264805   \n",
      "V68 -0.124077 -0.118093 -0.102698  ...  0.414892  0.465410 -0.324826   \n",
      "V69 -0.055983 -0.041172 -0.021493  ...  0.230273  0.355498 -0.237184   \n",
      "V70 -0.024121 -0.029855 -0.057918  ... -0.373193 -0.147445  0.135478   \n",
      "V71 -0.112327 -0.116481 -0.121775  ... -0.078778 -0.120680  0.074658   \n",
      "V72 -0.012546 -0.042869 -0.051622  ...  0.055020  0.213000  0.007488   \n",
      "V73 -0.193040 -0.162059 -0.125974  ...  0.137957 -0.096846 -0.161103   \n",
      "\n",
      "          V66       V68       V69       V70       V71       V72       V73  \n",
      "V1   0.314420  0.097556  0.152418 -0.117625 -0.112243  0.087363 -0.168438  \n",
      "V8   0.229027  0.126054  0.143126 -0.143061 -0.098772  0.071281 -0.117495  \n",
      "V9   0.159906  0.064591  0.083488 -0.124400 -0.060289  0.019185 -0.128215  \n",
      "V10  0.148510 -0.057125 -0.017124 -0.053933 -0.050363 -0.037560 -0.182397  \n",
      "V11  0.173382 -0.122424 -0.064427 -0.023599 -0.089222 -0.016724 -0.210392  \n",
      "V12  0.194748 -0.138499 -0.071309 -0.012322 -0.112269 -0.007399 -0.212577  \n",
      "V13  0.193668 -0.133751 -0.064344 -0.007710 -0.102845 -0.017063 -0.215430  \n",
      "V14  0.198609 -0.124077 -0.055983 -0.024121 -0.112327 -0.012546 -0.193040  \n",
      "V15  0.165649 -0.118093 -0.041172 -0.029855 -0.116481 -0.042869 -0.162059  \n",
      "V16  0.153419 -0.102698 -0.021493 -0.057918 -0.121775 -0.051622 -0.125974  \n",
      "V17  0.127906 -0.090932 -0.005827 -0.068740 -0.118198 -0.052982 -0.085138  \n",
      "V18  0.084531 -0.013700  0.072339 -0.106958 -0.113982 -0.022891 -0.016890  \n",
      "V19  0.056273  0.019483  0.097967 -0.090840 -0.136806  0.004358 -0.013631  \n",
      "V20  0.061472  0.016832  0.086667 -0.074359 -0.165453  0.032445 -0.039262  \n",
      "V21  0.085446  0.017699  0.084388 -0.059859 -0.158762  0.031037 -0.061080  \n",
      "V22  0.108639  0.036373  0.097151 -0.062347 -0.174523  0.044015 -0.090098  \n",
      "V25  0.242369 -0.025898  0.053283 -0.118949 -0.178819  0.088580 -0.150883  \n",
      "V26  0.263641 -0.008974  0.071603 -0.094504 -0.160433  0.043884 -0.186212  \n",
      "V27 -0.019180  0.590419  0.571436 -0.528519 -0.220463  0.083771  0.136009  \n",
      "V53 -0.000476  0.565213  0.497012 -0.557316 -0.178486  0.062413  0.175952  \n",
      "V54  0.274103  0.758196  0.818077 -0.374507 -0.254767  0.181715 -0.042621  \n",
      "V55  0.176906 -0.159152 -0.049921 -0.062804 -0.050529 -0.039793 -0.138909  \n",
      "V56  0.506995  0.325628  0.389385 -0.321624 -0.462150  0.197997 -0.127157  \n",
      "V57 -0.314737  0.026803 -0.062059  0.637414  0.188399 -0.045245  0.062015  \n",
      "V58 -0.019087  0.320844  0.326231 -0.457336 -0.145895  0.024599  0.135089  \n",
      "V59  0.260717  0.798935  0.480935 -0.226034 -0.146784  0.231578 -0.059782  \n",
      "V60  0.233452 -0.271099 -0.191786  0.073340  0.088111 -0.015822 -0.169057  \n",
      "V61  0.766842  0.287772  0.312170 -0.285038 -0.307947  0.237936 -0.145090  \n",
      "V62 -0.234636  0.286955  0.190539  0.195416  0.049881 -0.002654  0.122344  \n",
      "V63 -0.037482  0.414892  0.230273 -0.373193 -0.078778  0.055020  0.137957  \n",
      "V64  0.286086  0.465410  0.355498 -0.147445 -0.120680  0.213000 -0.096846  \n",
      "V65  0.264805 -0.324826 -0.237184  0.135478  0.074658  0.007488 -0.161103  \n",
      "V66  1.000000  0.228184  0.222751 -0.248356 -0.179720  0.208804 -0.135372  \n",
      "V68  0.228184  1.000000  0.856787 -0.483892 -0.235256  0.196379  0.022286  \n",
      "V69  0.222751  0.856787  1.000000 -0.531081 -0.277624  0.144974  0.037816  \n",
      "V70 -0.248356 -0.483892 -0.531081  1.000000  0.329649 -0.096333 -0.097073  \n",
      "V71 -0.179720 -0.235256 -0.277624  0.329649  1.000000 -0.086714 -0.007344  \n",
      "V72  0.208804  0.196379  0.144974 -0.096333 -0.086714  1.000000 -0.062720  \n",
      "V73 -0.135372  0.022286  0.037816 -0.097073 -0.007344 -0.062720  1.000000  \n",
      "\n",
      "[39 rows x 39 columns]\n"
     ]
    },
    {
     "data": {
      "image/png": "[encoded data removed]",
      "text/plain": [
       "<Figure size 1152x864 with 2 Axes>"
      ]
     },
     "metadata": {
      "needs_background": "light"
     },
     "output_type": "display_data"
    }
   ],
   "source": [
    "d = df\n",
    "corm = d.corr()\n",
    "l = len(d.columns)\n",
    "for j in range(l):\n",
    "    for i in range(l):   \n",
    "        if ( (i > j) and (abs( np.array(corm)[i,j] ) > 0.9) ):\n",
    "            d.drop([c[i]],axis=1,inplace=True,errors='ignore')\n",
    "            #d.drop([c[j]],axis=1,inplace=True,errors='ignore')\n",
    "            \n",
    "correlation_matrix(d)"
   ]
  },
  {
   "cell_type": "markdown",
   "metadata": {},
   "source": [
    "**4. Если столбец с метками классов содержит более двух классов, то объедините некоторые классы, чтобы получить набор для бинарной классификации. Объединяйте классы таким образом, чтобы положительный и отрицательный классы были сопоставимы по количеству точек.**"
   ]
  },
  {
   "cell_type": "code",
   "execution_count": 7,
   "metadata": {},
   "outputs": [
    {
     "name": "stdout",
     "output_type": "stream",
     "text": [
      "Количество классов =  2\n",
      "Количество записей классов 0 1: 2374 160\n"
     ]
    }
   ],
   "source": [
    "print( 'Количество классов = ',df['V73'].nunique() )\n",
    "cl1, cl2 = 0, 0\n",
    "for i in d['V73']:\n",
    "    if (i == 0.0):\n",
    "        cl1 += 1\n",
    "    elif (i == 1.0):\n",
    "        cl2 += 1\n",
    "print('Количество записей классов 0 1:',cl1,cl2)"
   ]
  },
  {
   "cell_type": "markdown",
   "metadata": {},
   "source": [
    "Классов изначально два, так что ничего не поделать с имеющейся разницей между количеством записей классов. "
   ]
  },
  {
   "cell_type": "markdown",
   "metadata": {},
   "source": [
    "**5. Используя метод рекурсивного исключения признаков (RFE) и логистическую регрессию, определите и оставьте в наборе наиболее значимые признаки (не менее двух). Если в наборе данных осталось более двух признаков, то определите два признака с наибольшей дисперсией для визуализации.**\n"
   ]
  },
  {
   "cell_type": "code",
   "execution_count": 8,
   "metadata": {},
   "outputs": [
    {
     "name": "stdout",
     "output_type": "stream",
     "text": [
      "Число признаков: 19\n",
      "\n",
      "Выбранные признаки: [ True  True False  True  True False  True  True False False  True  True\n",
      "  True  True  True  True  True False False  True False False  True False\n",
      "  True  True False False False False  True False False False False False\n",
      " False  True]\n",
      "\n",
      "Ранг признаков: [ 1  1 14  1  1  2  1  1  3 16  1  1  1  1  1  1  1 10 13  1  4  5  1 19\n",
      "  1  1  9 11 18 17  1  8 12  7  6 20 15  1]\n"
     ]
    }
   ],
   "source": [
    "# Feature Extraction with RFE\n",
    "from sklearn.feature_selection import RFE\n",
    "from sklearn.linear_model import LogisticRegression\n",
    "X = d.drop(['V73'],axis=1)\n",
    "y = df['V73']\n",
    "# feature extraction\n",
    "model = LogisticRegression(max_iter=10000)\n",
    "#rfe = RFE(model,n_features_to_select=2)\n",
    "rfe = RFE(model)\n",
    "fit = rfe.fit(X, y)\n",
    "\n",
    "print(\"Число признаков: %d\" % fit.n_features_)\n",
    "print(\"\\nВыбранные признаки: %s\" % fit.support_)\n",
    "print(\"\\nРанг признаков: %s\" % fit.ranking_)"
   ]
  },
  {
   "cell_type": "markdown",
   "metadata": {},
   "source": [
    "Определение двух наиболее заначимых признаков:"
   ]
  },
  {
   "cell_type": "code",
   "execution_count": 9,
   "metadata": {},
   "outputs": [
    {
     "name": "stdout",
     "output_type": "stream",
     "text": [
      "Лучшие признаки:  ['V1', 'V8', 'V10', 'V11', 'V13', 'V14', 'V17', 'V18', 'V19', 'V20', 'V21', 'V22', 'V25', 'V53', 'V56', 'V58', 'V59', 'V64', 'V72']\n",
      "Их дисперсии: [ 1.43847277  1.19486831  1.32236186  1.50349638  1.78249272  1.83877855\n",
      "  1.45886205  1.35389556  1.36270935  1.30317768  1.28458557  1.2966313\n",
      "  1.22904301 22.83733009 34.93723579 14.34633111  0.0685854   0.05921847\n",
      "  1.73506768]\n",
      "\n",
      "Два признака с наибольшими дисперсиями:\n",
      "V56 34.93723578829109\n",
      "V53 22.837330094845846\n"
     ]
    }
   ],
   "source": [
    "tf = np.array(fit.support_)\n",
    "c = d.columns\n",
    "rang1 = []\n",
    "for i in range(len(c)-1):\n",
    "    if (tf[i]):\n",
    "        rang1.append(c[i])\n",
    "print('Лучшие признаки: ', rang1)\n",
    "\n",
    "disp = []\n",
    "for i in rang1:\n",
    "    disp.append(np.var(d[i]))\n",
    "disp = np.array(disp)\n",
    "print('Их дисперсии:', disp)\n",
    "\n",
    "print('\\nДва признака с наибольшими дисперсиями:')\n",
    "m = np.argmax(disp)\n",
    "print(rang1[m], disp[m])\n",
    "\n",
    "rang1 = np.delete(rang1, m)\n",
    "disp = np.delete(disp, m)\n",
    "\n",
    "m = np.argmax(disp)\n",
    "print(rang1[m], disp[m])"
   ]
  },
  {
   "cell_type": "markdown",
   "metadata": {},
   "source": [
    "**6. Масштабируйте признаки набора данных на интервал от 0 до 1.**"
   ]
  },
  {
   "cell_type": "code",
   "execution_count": 10,
   "metadata": {},
   "outputs": [
    {
     "name": "stdout",
     "output_type": "stream",
     "text": [
      "Было:\n",
      "        V53     V56  V73\n",
      "0      6.7   0.140  0.0\n",
      "1      9.0   9.530  0.0\n",
      "2      9.0  10.170  0.0\n",
      "3      9.9   8.580  0.0\n",
      "4     14.3   1.545  0.0\n",
      "...    ...     ...  ...\n",
      "2529   5.5  -1.920  0.0\n",
      "2530   5.8   4.710  0.0\n",
      "2531   7.5   3.130  0.0\n",
      "2532   9.3   9.760  0.0\n",
      "2533  10.1   8.120  0.0\n",
      "\n",
      "[2534 rows x 3 columns]\n",
      "\n",
      "Стало:\n",
      "            V53       V56  V73\n",
      "0     0.436709  0.453055    0\n",
      "1     0.509494  0.686289    0\n",
      "2     0.509494  0.702186    0\n",
      "3     0.537975  0.662692    0\n",
      "4     0.677215  0.487953    0\n",
      "...        ...       ...  ...\n",
      "2529  0.398734  0.401888    0\n",
      "2530  0.408228  0.566567    0\n",
      "2531  0.462025  0.527322    0\n",
      "2532  0.518987  0.692002    0\n",
      "2533  0.544304  0.651267    0\n",
      "\n",
      "[2534 rows x 3 columns]\n"
     ]
    }
   ],
   "source": [
    "from numpy import set_printoptions\n",
    "from sklearn.preprocessing import MinMaxScaler\n",
    "\n",
    "X = d[['V53','V56','V73']]\n",
    "scaler = MinMaxScaler(feature_range=(0, 1))\n",
    "rescaledX = scaler.fit_transform(X)\n",
    "set_printoptions(precision=3)\n",
    "print('Было:\\n',X)\n",
    "\n",
    "resX = pd.DataFrame(data=rescaledX, columns=['V53','V56','V73'])\n",
    "resX[['V73']] = resX[['V73']].astype(int)\n",
    "print('\\nСтало:\\n',resX)"
   ]
  },
  {
   "cell_type": "markdown",
   "metadata": {},
   "source": [
    "**7. Используя разделение набора данных на обучающую и тестовую выборки в соотношении 70% на 30%, создайте и обучите классификаторы на основе наивного байесовского классификатора, логистической регрессии, линейного дискриминантного анализа и метода опорных векторов.**"
   ]
  },
  {
   "cell_type": "markdown",
   "metadata": {},
   "source": [
    "Разделение набора"
   ]
  },
  {
   "cell_type": "code",
   "execution_count": 11,
   "metadata": {},
   "outputs": [],
   "source": [
    "from sklearn.model_selection import train_test_split\n",
    "\n",
    "test_size=0.3 # тестовая выборка 30%\n",
    "\n",
    "X = resX.drop('V73',axis=1)\n",
    "y = resX['V73']\n",
    "X_train, X_test, y_train, y_test = train_test_split(X, y, test_size=test_size, random_state=42)\n",
    "# random_state чтобы деление не менялось"
   ]
  },
  {
   "cell_type": "markdown",
   "metadata": {},
   "source": [
    "**Наивная байесовская классификация**"
   ]
  },
  {
   "cell_type": "code",
   "execution_count": 12,
   "metadata": {},
   "outputs": [
    {
     "name": "stdout",
     "output_type": "stream",
     "text": [
      "Ошибочно классифицированно 47 из 761 точки тестового множества\n",
      "Точность классификации =  0.938239159001314\n"
     ]
    }
   ],
   "source": [
    "from sklearn.naive_bayes import GaussianNB\n",
    "\n",
    "nbc = GaussianNB()\n",
    "nbc.fit(X_train,y_train);\n",
    "\n",
    "y_pred_bayes = nbc.predict(X_test)\n",
    "mislabel_b = np.sum((y_test != y_pred_bayes))\n",
    "print('Ошибочно классифицированно {} из {} точки тестового множества'.format(mislabel_b,len(y_test)))\n",
    "print('Точность классификации = ', nbc.score(X_test, y_test))"
   ]
  },
  {
   "cell_type": "markdown",
   "metadata": {},
   "source": [
    "**Классификатор логистической регрессии**"
   ]
  },
  {
   "cell_type": "code",
   "execution_count": 13,
   "metadata": {},
   "outputs": [
    {
     "name": "stdout",
     "output_type": "stream",
     "text": [
      "Ошибочно классифицированно 47 из 761 точки тестового множества\n",
      "Точность классификации =  0.938239159001314\n"
     ]
    }
   ],
   "source": [
    "from sklearn.linear_model import LogisticRegression\n",
    "\n",
    "log_reg = LogisticRegression()\n",
    "log_reg.fit(X_train, y_train)\n",
    "\n",
    "y_pred_lr = log_reg.predict(X_test)\n",
    "mislabel_lr = np.sum((y_test != y_pred_lr))\n",
    "print('Ошибочно классифицированно {} из {} точки тестового множества'.format(mislabel_lr,len(y_test)))\n",
    "print('Точность классификации = ', log_reg.score(X_test, y_test))"
   ]
  },
  {
   "cell_type": "markdown",
   "metadata": {},
   "source": [
    "**Классификация методом линейного дискриминантного анализа**"
   ]
  },
  {
   "cell_type": "code",
   "execution_count": 14,
   "metadata": {},
   "outputs": [
    {
     "name": "stdout",
     "output_type": "stream",
     "text": [
      "Ошибочно классифицированно 49 из 761 точки тестового множества\n",
      "Точность классификации =  0.9356110381077529\n"
     ]
    }
   ],
   "source": [
    "from sklearn.discriminant_analysis import LinearDiscriminantAnalysis\n",
    "\n",
    "lda = LinearDiscriminantAnalysis()\n",
    "lda.fit(X_train, y_train)\n",
    "\n",
    "y_pred_lda = lda.predict(X_test)\n",
    "mislabel_lda = np.sum((y_test != y_pred_lda))\n",
    "print('Ошибочно классифицированно {} из {} точки тестового множества'.format(mislabel_lda,len(y_test)))\n",
    "print('Точность классификации = ', lda.score(X_test, y_test))"
   ]
  },
  {
   "cell_type": "markdown",
   "metadata": {},
   "source": [
    "**Классификация методом опорных векторов**"
   ]
  },
  {
   "cell_type": "code",
   "execution_count": 15,
   "metadata": {},
   "outputs": [
    {
     "name": "stdout",
     "output_type": "stream",
     "text": [
      "Ошибочно классифицированно 47 из 761 точки тестового множества\n",
      "Точность классификации =  0.938239159001314\n"
     ]
    },
    {
     "name": "stderr",
     "output_type": "stream",
     "text": [
      "c:\\wintools\\python\\lib\\site-packages\\sklearn\\svm\\_base.py:946: ConvergenceWarning: Liblinear failed to converge, increase the number of iterations.\n",
      "  warnings.warn(\"Liblinear failed to converge, increase \"\n"
     ]
    }
   ],
   "source": [
    "from sklearn.svm import LinearSVC\n",
    "\n",
    "svc = LinearSVC(C=1e9, max_iter=1000)\n",
    "svc.fit(X_train, y_train)\n",
    "\n",
    "y_pred_svc = svc.predict(X_test)\n",
    "mislabel_svc = np.sum((y_test != y_pred_svc))\n",
    "print('Ошибочно классифицированно {} из {} точки тестового множества'.format(mislabel_svc,len(y_test)))\n",
    "print('Точность классификации = ', svc.score(X_test, y_test))"
   ]
  },
  {
   "cell_type": "markdown",
   "metadata": {},
   "source": [
    "max_iter=1000000 будет всё ещё мало"
   ]
  },
  {
   "cell_type": "markdown",
   "metadata": {},
   "source": [
    "**8. Визуализируйте для каждого из классификаторов границу решения, подписывая оси и рисунок и создавая легенду для меток классов набора данных.**"
   ]
  },
  {
   "cell_type": "markdown",
   "metadata": {},
   "source": [
    "Функция для визуализации границы решения"
   ]
  },
  {
   "cell_type": "code",
   "execution_count": 16,
   "metadata": {},
   "outputs": [],
   "source": [
    "import matplotlib.pyplot as plt\n",
    "from matplotlib.colors import ListedColormap\n",
    "\n",
    "X = np.array(X)\n",
    "def plot_decision_boundary(model, axis): \n",
    "    x0, x1 = np.meshgrid(\n",
    "        np.linspace(axis[0], axis[1], int((axis[1]-axis[0])*100)).reshape(-1, 1),\n",
    "        np.linspace(axis[2], axis[3], int((axis[3]-axis[2])*100)).reshape(-1, 1),\n",
    "    )\n",
    "    X_new = np.c_[x0.ravel(), x1.ravel()]\n",
    "\n",
    "    y_predict = model.predict(X_new)\n",
    "    zz = y_predict.reshape(x0.shape)\n",
    "\n",
    "    custom_cmap = ListedColormap(['#90f9db','#f99590'])\n",
    "    \n",
    "    plt.contourf(x0, x1, zz, cmap=custom_cmap)\n",
    "\n",
    "    plt.scatter(X[y==0,0], X[y==0,1], color=\"blue\", label=0)\n",
    "    plt.scatter(X[y==1,0], X[y==1,1], color=\"red\", label=1)\n",
    "    plt.legend()\n",
    "    plt.xlabel('V53')\n",
    "    plt.ylabel('V56')\n",
    "    plt.show()"
   ]
  },
  {
   "cell_type": "code",
   "execution_count": 17,
   "metadata": {},
   "outputs": [
    {
     "data": {
      "image/png": "[encoded data removed]",
      "text/plain": [
       "<Figure size 432x288 with 1 Axes>"
      ]
     },
     "metadata": {
      "needs_background": "light"
     },
     "output_type": "display_data"
    },
    {
     "data": {
      "image/png": "[encoded data removed]",
      "text/plain": [
       "<Figure size 432x288 with 1 Axes>"
      ]
     },
     "metadata": {
      "needs_background": "light"
     },
     "output_type": "display_data"
    },
    {
     "data": {
      "image/png": "[encoded data removed]",
      "text/plain": [
       "<Figure size 432x288 with 1 Axes>"
      ]
     },
     "metadata": {
      "needs_background": "light"
     },
     "output_type": "display_data"
    },
    {
     "data": {
      "image/png": "[encoded data removed]",
      "text/plain": [
       "<Figure size 432x288 with 1 Axes>"
      ]
     },
     "metadata": {
      "needs_background": "light"
     },
     "output_type": "display_data"
    }
   ],
   "source": [
    "plt.title('Граница решения для наивной байесовской классификации')\n",
    "plot_decision_boundary(nbc, axis=[-0.5, 1.5, -0.25, 1.25])\n",
    "\n",
    "plt.title('Граница решения классификации логистической регрессии')\n",
    "plot_decision_boundary(log_reg, axis=[-0.5, 1.5, -0.25, 1.25])\n",
    "\n",
    "plt.title('Граница решения классификации методом линейного дискриминантного анализа')\n",
    "plot_decision_boundary(lda, axis=[-0.5, 1.5, -0.25, 1.25])\n",
    "\n",
    "plt.title('Граница решения классификации методом опорных векторов')\n",
    "plot_decision_boundary(svc, axis=[-0.5, 1.5, -0.25, 1.25])"
   ]
  },
  {
   "cell_type": "markdown",
   "metadata": {},
   "source": [
    "Выглядит несколько странно, неадекватно и дико, но точек класса 0 значительно больше, некоторые точки разных классов накладываются друг на друга, так что, вероятно, при нормальном выделении класса 1, ошибок классификации стало бы больше. "
   ]
  },
  {
   "cell_type": "markdown",
   "metadata": {},
   "source": [
    "**9. Визуализируйте на одном рисунке ROC кривые для каждого из классификаторов, подписывая оси и рисунок и создавая легенду для методов бинарной классификации.**"
   ]
  },
  {
   "cell_type": "markdown",
   "metadata": {},
   "source": [
    "В GaussianNB отсутствует decision_function, вместо неё использую второй столбец predict_proba"
   ]
  },
  {
   "cell_type": "code",
   "execution_count": 18,
   "metadata": {},
   "outputs": [
    {
     "data": {
      "image/png": "[encoded data removed]",
      "text/plain": [
       "<Figure size 864x720 with 1 Axes>"
      ]
     },
     "metadata": {
      "needs_background": "light"
     },
     "output_type": "display_data"
    }
   ],
   "source": [
    "from sklearn.metrics import roc_curve\n",
    "\n",
    "ds_bayes = []\n",
    "bayes = nbc.predict_proba(X_test)\n",
    "for i in bayes:\n",
    "    ds_bayes.append(i[1])\n",
    "ds_bayes = np.array(ds_bayes)\n",
    "\n",
    "ds_lr = log_reg.decision_function(X_test)\n",
    "ds_lda = lda.decision_function(X_test)\n",
    "ds_svc= svc.decision_function(X_test)\n",
    "\n",
    "fprs1, tprs1, thresholds = roc_curve(y_test, ds_bayes)\n",
    "fprs2, tprs2, thresholds = roc_curve(y_test, ds_lr)\n",
    "fprs3, tprs3, thresholds = roc_curve(y_test, ds_lda)\n",
    "fprs4, tprs4, thresholds = roc_curve(y_test, ds_svc)\n",
    "\n",
    "plt.figure(figsize=(12,10))\n",
    "plt.plot(fprs1, tprs1, color=\"red\", label='Gaussian Naive Bayes')\n",
    "plt.plot(fprs2, tprs2, color=\"blue\", label='Logistic Regression')\n",
    "plt.plot(fprs3, tprs3, color=\"magenta\", label='Linear Discriminant Analysis')\n",
    "plt.plot(fprs4, tprs4, color=\"black\", label='Linear Support Vector Classification')\n",
    "plt.xlabel('False Positive Rate')\n",
    "plt.ylabel('True Positive Rate')\n",
    "plt.legend()\n",
    "plt.show()"
   ]
  },
  {
   "cell_type": "markdown",
   "metadata": {},
   "source": [
    "**10. Определите лучший метод бинарной классификации набора данных по показателю ROC_AUC (площади под ROC кривой).**"
   ]
  },
  {
   "cell_type": "code",
   "execution_count": 19,
   "metadata": {},
   "outputs": [
    {
     "name": "stdout",
     "output_type": "stream",
     "text": [
      "Площадь под кривой (roc_auc)\n",
      "\tGaussian Naive Bayes:  0.7694141486381786\n",
      "\tLogistic Regression:  0.7490315275046189\n",
      "\tLinear Discriminant Analysis:  0.7524286310268788\n",
      "\tLinear Support Vector Classification:  0.7613683771380892\n"
     ]
    }
   ],
   "source": [
    "from sklearn.metrics import roc_auc_score\n",
    "\n",
    "print('Площадь под кривой (roc_auc)')\n",
    "print('\\tGaussian Naive Bayes: ',roc_auc_score(y_test, ds_bayes))\n",
    "print('\\tLogistic Regression: ',roc_auc_score(y_test, ds_lr))\n",
    "print('\\tLinear Discriminant Analysis: ',roc_auc_score(y_test, ds_lda))\n",
    "print('\\tLinear Support Vector Classification: ',roc_auc_score(y_test, ds_svc))"
   ]
  },
  {
   "cell_type": "markdown",
   "metadata": {},
   "source": [
    "Наибольшая площадь под COR кривой оказалась у наивного байесовского классификатора, значит он оказался лучшим."
   ]
  }
 ],
 "metadata": {
  "kernelspec": {
   "display_name": "Python 3",
   "language": "python",
   "name": "python3"
  },
  "language_info": {
   "codemirror_mode": {
    "name": "ipython",
    "version": 3
   },
   "file_extension": ".py",
   "mimetype": "text/x-python",
   "name": "python",
   "nbconvert_exporter": "python",
   "pygments_lexer": "ipython3",
   "version": "3.9.2"
  }
 },
 "nbformat": 4,
 "nbformat_minor": 4
}
