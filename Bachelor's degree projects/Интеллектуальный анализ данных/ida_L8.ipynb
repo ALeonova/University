{
 "cells": [
  {
   "cell_type": "markdown",
   "metadata": {},
   "source": [
    "### РОССИЙСКИЙ УНИВЕРСИТЕТ ДРУЖБЫ НАРОДОВ"
   ]
  },
  {
   "cell_type": "markdown",
   "metadata": {},
   "source": [
    "#### Факультет физико-математических и естественных наук  \n",
    "#### Кафедра информационных технологий "
   ]
  },
  {
   "cell_type": "markdown",
   "metadata": {},
   "source": [
    "## ОТЧЕТ ПО ЛАБОРАТОРНОЙ РАБОТЕ №8"
   ]
  },
  {
   "cell_type": "markdown",
   "metadata": {},
   "source": [
    "#### Дисциплина: Интеллектуальный анализ данных"
   ]
  },
  {
   "cell_type": "markdown",
   "metadata": {},
   "source": [
    "##### Студент:   Леонова Алина\n",
    "##### Группа:    НФИбд-02-17"
   ]
  },
  {
   "cell_type": "markdown",
   "metadata": {},
   "source": [
    "### Москва 2020\n",
    "***"
   ]
  },
  {
   "cell_type": "markdown",
   "metadata": {},
   "source": [
    "### Вариант №2\n",
    "Adult Data Set  \n",
    "\n",
    "Название файла: adult.data \n",
    "\n",
    "Ссылка: https://archive.ics.uci.edu/ml/datasets/Adult  \n",
    "\n",
    "Предиктор: age (столбец No 1) \n",
    "\n",
    "Зависимая переменная: hours-per-week (столбец No 13)  "
   ]
  },
  {
   "cell_type": "markdown",
   "metadata": {},
   "source": [
    "\n",
    "***\n",
    "#### Постановка задачи:\n",
    "1.          Считайте заданный набор данных из репозитария UCI (независимую и зависимую переменные).\n",
    "\n",
    "2.          Если в столбцах для независимой или зависимой переменных имеются пропущенные значения, то удалите данные.\n",
    "\n",
    "3.          Масштабируйте независимую и зависимую переменную на диапазон от 0 до 1 и визуализируйте набор данных на плоскости (ось абсцисс - независимая переменная, ось ординат - зависимая переменная).\n",
    "\n",
    "4.          Разбейте набор данных на обучающую и тестовую выборки.\n",
    "\n",
    "5.          Постройте регресоры на базе следующих моделей регрессии:\n",
    "\n",
    "* линейной регрессии (LinearRegression)\n",
    "* полиномиальной регрессии (PolynomialFeatures+LinearRegression)\n",
    "* стохастического градиентного спуска (SGDRegressor)\n",
    "* гребневой регрессии (Ridge)\n",
    "* лассо регрессии (Lasso)\n",
    "* регрессии эластичная сеть (ElasticNet)\n",
    "* регрессии на основе метода ближайших соседей (KNeighborsRegressor)\n",
    "* регрессии на основе деревьев решений (DecisionTreeRegressor)\n",
    "* регрессии на основе метода опорных векторов (SVR)\n",
    "6.          При помощи GridSearch определите оптимальные параметры регрессоров (кроме LinearRegression).\n",
    "\n",
    "7.          Визуализируйте на плоскости точки тестовой выборки и графики различных моделей регрессий разными цветами. Подпишите оси и создайте легенду для графика.\n",
    "\n",
    "8.          Определите лучший регрессор по показателю коэффициент детерминации.\n",
    "***"
   ]
  },
  {
   "cell_type": "markdown",
   "metadata": {},
   "source": [
    "**1.         Считайте заданный набор данных из репозитария UCI.**\n",
    "\n",
    "Предиктор: age (столбец No 1) \n",
    "\n",
    "Зависимая переменная: hours-per-week (столбец No 13)  "
   ]
  },
  {
   "cell_type": "code",
   "execution_count": 1,
   "metadata": {},
   "outputs": [
    {
     "name": "stdout",
     "output_type": "stream",
     "text": [
      "   V0  V12\n",
      "0  39   40\n",
      "1  50   13\n",
      "2  38   40\n",
      "3  53   40\n",
      "4  28   40\n"
     ]
    }
   ],
   "source": [
    "import numpy as np\n",
    "import pandas as pd\n",
    "\n",
    "url = \\\n",
    "\"https://archive.ics.uci.edu/ml/machine-learning-databases/adult/adult.data\"\n",
    "data = pd.read_csv( url, usecols=[0,12], header=None, prefix=\"V\")\n",
    "print(data[0:5])"
   ]
  },
  {
   "cell_type": "markdown",
   "metadata": {},
   "source": [
    "**2.          Если в столбцах для независимой или зависимой переменных имеются пропущенные значения, то удалите данные.**"
   ]
  },
  {
   "cell_type": "code",
   "execution_count": 2,
   "metadata": {},
   "outputs": [
    {
     "name": "stdout",
     "output_type": "stream",
     "text": [
      "Типы:\n",
      " V0     int64\n",
      "V12    int64\n",
      "dtype: object\n",
      "\n",
      "Число записей = 32561\n",
      "Число признаков = 2\n",
      "\n",
      "Число уникальных элементов\n",
      " V0     73\n",
      "V12    94\n",
      "dtype: int64\n",
      "\n",
      "Число отсутствующих значений:\n",
      "V0: 0\n",
      "V12: 0\n"
     ]
    }
   ],
   "source": [
    "df = data.replace('?',np.NaN)\n",
    "\n",
    "print( \"Типы:\\n\", df.dtypes)\n",
    "print('\\nЧисло записей = %d' % (df.shape[0]))\n",
    "print('Число признаков = %d' % (df.shape[1]))\n",
    "print('\\nЧисло уникальных элементов\\n', df.nunique())\n",
    "print('\\nЧисло отсутствующих значений:')\n",
    "for col in df.columns:\n",
    "    print('%s: %d' % (col,df[col].isna().sum()))"
   ]
  },
  {
   "cell_type": "markdown",
   "metadata": {},
   "source": [
    "Пропущенных значений нет."
   ]
  },
  {
   "cell_type": "markdown",
   "metadata": {},
   "source": [
    "**3.          Масштабируйте независимую и зависимую переменную на диапазон от 0 до 1 и визуализируйте набор данных на плоскости (ось абсцисс - независимая переменная, ось ординат - зависимая переменная).**"
   ]
  },
  {
   "cell_type": "markdown",
   "metadata": {},
   "source": [
    "Масштабирование"
   ]
  },
  {
   "cell_type": "code",
   "execution_count": 3,
   "metadata": {},
   "outputs": [
    {
     "name": "stdout",
     "output_type": "stream",
     "text": [
      "Было:\n",
      "        V0  V12\n",
      "0      39   40\n",
      "1      50   13\n",
      "2      38   40\n",
      "3      53   40\n",
      "4      28   40\n",
      "...    ..  ...\n",
      "32556  27   38\n",
      "32557  40   40\n",
      "32558  58   40\n",
      "32559  22   20\n",
      "32560  52   40\n",
      "\n",
      "[32561 rows x 2 columns]\n",
      "\n",
      "Стало:\n",
      "              V0       V12\n",
      "0      0.301370  0.397959\n",
      "1      0.452055  0.122449\n",
      "2      0.287671  0.397959\n",
      "3      0.493151  0.397959\n",
      "4      0.150685  0.397959\n",
      "...         ...       ...\n",
      "32556  0.136986  0.377551\n",
      "32557  0.315068  0.397959\n",
      "32558  0.561644  0.397959\n",
      "32559  0.068493  0.193878\n",
      "32560  0.479452  0.397959\n",
      "\n",
      "[32561 rows x 2 columns]\n"
     ]
    }
   ],
   "source": [
    "from numpy import set_printoptions\n",
    "from sklearn.preprocessing import MinMaxScaler\n",
    "\n",
    "scaler = MinMaxScaler(feature_range=(0, 1))\n",
    "rescaledX = scaler.fit_transform(df)\n",
    "set_printoptions(precision=3)\n",
    "print('Было:\\n',df)\n",
    "\n",
    "resX = pd.DataFrame(data=rescaledX, columns=['V0','V12'])\n",
    "print('\\nСтало:\\n',resX)"
   ]
  },
  {
   "cell_type": "markdown",
   "metadata": {},
   "source": [
    "Визуализация"
   ]
  },
  {
   "cell_type": "code",
   "execution_count": 4,
   "metadata": {},
   "outputs": [
    {
     "data": {
      "image/png": "[encoded data removed]",
      "text/plain": [
       "<Figure size 1008x864 with 1 Axes>"
      ]
     },
     "metadata": {
      "needs_background": "light"
     },
     "output_type": "display_data"
    },
    {
     "data": {
      "image/png": "[encoded data removed]",
      "text/plain": [
       "<Figure size 864x864 with 1 Axes>"
      ]
     },
     "metadata": {
      "needs_background": "light"
     },
     "output_type": "display_data"
    }
   ],
   "source": [
    "import matplotlib.pyplot as plt\n",
    "\n",
    "plt.figure(figsize=(14,12))\n",
    "plt.title('Визуализация набора данных')\n",
    "plt.scatter(df['V0'], df['V12'], color=\"red\")\n",
    "plt.xlabel('V0')\n",
    "plt.ylabel('V12')\n",
    "plt.show()\n",
    "\n",
    "plt.figure(figsize=(12,12))\n",
    "plt.title('Визуализация масштабированного набора данных')\n",
    "plt.scatter(resX['V0'], resX['V12'], color=\"blue\")\n",
    "plt.xlabel('V0')\n",
    "plt.ylabel('V12')\n",
    "plt.show()"
   ]
  },
  {
   "cell_type": "markdown",
   "metadata": {},
   "source": [
    "Можно было бы избавиться от точек на границах графика, но набор от этого сильно лучше не станет."
   ]
  },
  {
   "cell_type": "markdown",
   "metadata": {},
   "source": [
    "**4.          Разбейте набор данных на обучающую и тестовую выборки.**"
   ]
  },
  {
   "cell_type": "code",
   "execution_count": 5,
   "metadata": {},
   "outputs": [],
   "source": [
    "X = resX['V0']\n",
    "y = resX['V12']"
   ]
  },
  {
   "cell_type": "code",
   "execution_count": 6,
   "metadata": {},
   "outputs": [],
   "source": [
    "def train_test_split(X, y, test_ratio=0.2, seed=None):\n",
    "    \n",
    "    assert X.shape[0] == y.shape[0], \\\n",
    "        \"the size of X must be equal to the size of y\"\n",
    "    assert 0.0 <= test_ratio <= 1.0, \\\n",
    "        \"test_ration must be valid\"\n",
    "\n",
    "    if seed:\n",
    "        np.random.seed(seed)\n",
    "\n",
    "    shuffled_indexes = np.random.permutation(len(X))\n",
    "\n",
    "    test_size = int(len(X) * test_ratio)\n",
    "    test_indexes = shuffled_indexes[:test_size]\n",
    "    train_indexes = shuffled_indexes[test_size:]\n",
    "\n",
    "    X_train = X[train_indexes]\n",
    "    y_train = y[train_indexes]\n",
    "\n",
    "    X_test = X[test_indexes]\n",
    "    y_test = y[test_indexes]\n",
    "\n",
    "    return X_train, X_test, y_train, y_test"
   ]
  },
  {
   "cell_type": "code",
   "execution_count": 7,
   "metadata": {},
   "outputs": [
    {
     "data": {
      "text/plain": [
       "((26049,), (6512,), (26049,), (6512,))"
      ]
     },
     "execution_count": 7,
     "metadata": {},
     "output_type": "execute_result"
    }
   ],
   "source": [
    "X_train, X_test, y_train, y_test = train_test_split(X, y, seed=666)\n",
    "X_train.shape, X_test.shape, y_train.shape, y_test.shape"
   ]
  },
  {
   "cell_type": "markdown",
   "metadata": {},
   "source": [
    "**5.          Постройте регресоры на базе следующих моделей регрессии:**"
   ]
  },
  {
   "cell_type": "code",
   "execution_count": 8,
   "metadata": {},
   "outputs": [],
   "source": [
    "X_train = np.array(X_train).reshape(-1, 1)\n",
    "X_test = np.array(X_test).reshape(-1, 1)"
   ]
  },
  {
   "cell_type": "markdown",
   "metadata": {},
   "source": [
    "* Линейная регрессия (LinearRegression)"
   ]
  },
  {
   "cell_type": "code",
   "execution_count": 9,
   "metadata": {},
   "outputs": [
    {
     "name": "stdout",
     "output_type": "stream",
     "text": [
      "Точность классификации =  0.006444401358000396\n"
     ]
    }
   ],
   "source": [
    "from sklearn.linear_model import LinearRegression\n",
    "\n",
    "lr = LinearRegression()\n",
    "lr.fit(X_train, y_train)\n",
    "pred_lr = lr.predict(X_test)\n",
    "s_lr = lr.score(X_test, y_test)\n",
    "print('Точность классификации = ', s_lr)"
   ]
  },
  {
   "cell_type": "markdown",
   "metadata": {},
   "source": [
    "* Полиномиальная регрессия (PolynomialFeatures+LinearRegression)"
   ]
  },
  {
   "cell_type": "code",
   "execution_count": 10,
   "metadata": {},
   "outputs": [
    {
     "name": "stdout",
     "output_type": "stream",
     "text": [
      "Точность классификации =  0.1089363521176363\n"
     ]
    }
   ],
   "source": [
    "from sklearn.preprocessing import PolynomialFeatures\n",
    "from sklearn.pipeline import Pipeline\n",
    "from sklearn.preprocessing import StandardScaler\n",
    "\n",
    "def PolynomialRegression(degree):\n",
    "    return Pipeline([\n",
    "        (\"poly\", PolynomialFeatures(degree=degree)),\n",
    "        (\"std_scaler\", StandardScaler()),\n",
    "        (\"lin_reg\", LinearRegression())\n",
    "    ])\n",
    "\n",
    "poly_lr = PolynomialRegression(2)\n",
    "poly_lr.fit(X_train, y_train)\n",
    "pred_poly_lr = poly_lr.predict(X_test)\n",
    "s_poly_lr = poly_lr.score(X_test, y_test)\n",
    "print('Точность классификации = ', s_poly_lr)    "
   ]
  },
  {
   "cell_type": "markdown",
   "metadata": {},
   "source": [
    "* Регрессия на основе метода стохастического градиентного спуска (SGDRegressor)"
   ]
  },
  {
   "cell_type": "code",
   "execution_count": 11,
   "metadata": {},
   "outputs": [
    {
     "name": "stdout",
     "output_type": "stream",
     "text": [
      "Точность классификации =  0.006372575640263056\n"
     ]
    }
   ],
   "source": [
    "from sklearn.linear_model import SGDRegressor\n",
    "\n",
    "sgdr = SGDRegressor()\n",
    "sgdr.fit(X_train, y_train)\n",
    "pred_sgdr = sgdr.predict(X_test)\n",
    "s_sgdr = sgdr.score(X_test, y_test)\n",
    "print('Точность классификации = ', s_sgdr)"
   ]
  },
  {
   "cell_type": "markdown",
   "metadata": {},
   "source": [
    "* Гребневая регрессия (Ridge)"
   ]
  },
  {
   "cell_type": "code",
   "execution_count": 12,
   "metadata": {},
   "outputs": [
    {
     "name": "stdout",
     "output_type": "stream",
     "text": [
      "Точность классификации =  0.12371726215931599\n"
     ]
    }
   ],
   "source": [
    "from sklearn.linear_model import Ridge\n",
    "\n",
    "def RidgeRegression(degree, alpha):\n",
    "    return Pipeline([\n",
    "        (\"poly\", PolynomialFeatures(degree=degree)),\n",
    "        (\"std_scaler\", StandardScaler()),\n",
    "        (\"ridge_reg\", Ridge(alpha=alpha))\n",
    "    ])\n",
    "\n",
    "ridge_reg = RidgeRegression(20, 100)\n",
    "ridge_reg.fit(X_train, y_train)\n",
    "pred_ridge_r = ridge_reg.predict(X_test)\n",
    "s_ridge_r = ridge_reg.score(X_test, y_test)\n",
    "print('Точность классификации = ', s_ridge_r)"
   ]
  },
  {
   "cell_type": "markdown",
   "metadata": {},
   "source": [
    "* Регрессия лассо - Least Absolute Shrinkage and Selection Operator (Lasso)"
   ]
  },
  {
   "cell_type": "code",
   "execution_count": 13,
   "metadata": {},
   "outputs": [
    {
     "name": "stdout",
     "output_type": "stream",
     "text": [
      "Точность классификации =  0.023548393947181778\n"
     ]
    }
   ],
   "source": [
    "from sklearn.linear_model import Lasso\n",
    "\n",
    "def LassoRegression(degree, alpha):\n",
    "    return Pipeline([\n",
    "        (\"poly\", PolynomialFeatures(degree=degree)),\n",
    "        (\"std_scaler\", StandardScaler()),\n",
    "        (\"lasso_reg\", Lasso(alpha=alpha))\n",
    "    ])\n",
    "\n",
    "lassor = LassoRegression(20, 0.01)\n",
    "lassor.fit(X_train, y_train)\n",
    "pred_lassor = lassor.predict(X_test)\n",
    "s_lassor = lassor.score(X_test, y_test)\n",
    "print('Точность классификации = ', s_lassor)"
   ]
  },
  {
   "cell_type": "markdown",
   "metadata": {},
   "source": [
    "* Эластичная сеть (ElasticNet)"
   ]
  },
  {
   "cell_type": "code",
   "execution_count": 14,
   "metadata": {},
   "outputs": [
    {
     "name": "stdout",
     "output_type": "stream",
     "text": [
      "Точность классификации =  0.07245033354567632\n"
     ]
    }
   ],
   "source": [
    "from sklearn.linear_model import ElasticNet\n",
    "\n",
    "def ElNetRegression(degree, alpha):\n",
    "    return Pipeline([\n",
    "        (\"poly\", PolynomialFeatures(degree=degree)),\n",
    "        (\"std_scaler\", StandardScaler()),\n",
    "      #  (\"lasso_reg\", Lasso(alpha=alpha)),\n",
    "        (\"elnet_reg\", ElasticNet(alpha=alpha))\n",
    "    ])\n",
    "\n",
    "enr = ElNetRegression(20, 0.01)\n",
    "enr.fit(X_train, y_train)\n",
    "pred_enr = enr.predict(X_test)\n",
    "s_enr = enr.score(X_test, y_test)\n",
    "print('Точность классификации = ', s_enr)"
   ]
  },
  {
   "cell_type": "markdown",
   "metadata": {},
   "source": [
    "* Регрессия на основе метода ближайших соседей (KNeighborsRegressor)"
   ]
  },
  {
   "cell_type": "code",
   "execution_count": 15,
   "metadata": {},
   "outputs": [
    {
     "name": "stdout",
     "output_type": "stream",
     "text": [
      "Точность классификации =  -0.03433031416389931\n"
     ]
    }
   ],
   "source": [
    "from sklearn.neighbors import KNeighborsRegressor\n",
    "\n",
    "knnr = KNeighborsRegressor()\n",
    "knnr.fit(X_train, y_train)\n",
    "pred_knnr = knnr.predict(X_test)\n",
    "s_knnr = knnr.score(X_test, y_test)\n",
    "print('Точность классификации = ', s_knnr)"
   ]
  },
  {
   "cell_type": "markdown",
   "metadata": {},
   "source": [
    "\"В некоторых случаях коэффициент детерминации может принимать небольшие отрицательные значения, если модель получилась «бесполезной» и ее предсказания хуже, чем оценки на основе среднего значения.\""
   ]
  },
  {
   "cell_type": "markdown",
   "metadata": {},
   "source": [
    "* Регрессия на основе деревьев решений (DecisionTreeRegressor)"
   ]
  },
  {
   "cell_type": "code",
   "execution_count": 16,
   "metadata": {},
   "outputs": [
    {
     "name": "stdout",
     "output_type": "stream",
     "text": [
      "Точность классификации =  0.12938093723051314\n"
     ]
    }
   ],
   "source": [
    "from sklearn.tree import DecisionTreeRegressor\n",
    "\n",
    "tree_r = DecisionTreeRegressor(max_leaf_nodes=5)\n",
    "tree_r.fit(X_train, y_train)\n",
    "pred_tree_r = tree_r.predict(X_test)\n",
    "s_tree_r = tree_r.score(X_test, y_test)\n",
    "print('Точность классификации = ', s_tree_r)"
   ]
  },
  {
   "cell_type": "markdown",
   "metadata": {},
   "source": [
    "* Регрессия на основе метода опорных векторов (SVR)"
   ]
  },
  {
   "cell_type": "code",
   "execution_count": 17,
   "metadata": {},
   "outputs": [
    {
     "name": "stdout",
     "output_type": "stream",
     "text": [
      "Wall time: 15.4 s\n",
      "Точность классификации =  0.04545923952905084\n"
     ]
    }
   ],
   "source": [
    "from sklearn.svm import SVR\n",
    "\n",
    "def SVMRegression(degree):\n",
    "    return Pipeline([\n",
    "        (\"std_scaler\", StandardScaler()),\n",
    "        (\"svm_reg\", SVR(kernel='poly',degree=degree))\n",
    "    ])\n",
    "\n",
    "svr = SVMRegression(2)\n",
    "%time svr.fit(X_train, y_train)\n",
    "pred_svr = svr.predict(X_test)\n",
    "s_svr = svr.score(X_test, y_test)\n",
    "print('Точность классификации = ', s_svr)"
   ]
  },
  {
   "cell_type": "markdown",
   "metadata": {},
   "source": [
    "**6.          При помощи GridSearch определите оптимальные параметры регрессоров (кроме LinearRegression).**"
   ]
  },
  {
   "cell_type": "code",
   "execution_count": 18,
   "metadata": {},
   "outputs": [],
   "source": [
    "from sklearn.model_selection import GridSearchCV"
   ]
  },
  {
   "cell_type": "markdown",
   "metadata": {},
   "source": [
    "* Полиномиальная регрессия (PolynomialFeatures+LinearRegression)"
   ]
  },
  {
   "cell_type": "code",
   "execution_count": 19,
   "metadata": {},
   "outputs": [
    {
     "name": "stdout",
     "output_type": "stream",
     "text": [
      "Fitting 5 folds for each of 10 candidates, totalling 50 fits\n"
     ]
    },
    {
     "name": "stderr",
     "output_type": "stream",
     "text": [
      "[Parallel(n_jobs=-1)]: Using backend LokyBackend with 8 concurrent workers.\n"
     ]
    },
    {
     "name": "stdout",
     "output_type": "stream",
     "text": [
      "Wall time: 5.34 s\n"
     ]
    },
    {
     "name": "stderr",
     "output_type": "stream",
     "text": [
      "[Parallel(n_jobs=-1)]: Done  34 tasks      | elapsed:    5.1s\n",
      "[Parallel(n_jobs=-1)]: Done  50 out of  50 | elapsed:    5.2s finished\n"
     ]
    },
    {
     "data": {
      "text/plain": [
       "GridSearchCV(cv=None, error_score=nan,\n",
       "             estimator=Pipeline(memory=None,\n",
       "                                steps=[('poly',\n",
       "                                        PolynomialFeatures(degree=2,\n",
       "                                                           include_bias=True,\n",
       "                                                           interaction_only=False,\n",
       "                                                           order='C')),\n",
       "                                       ('std_scaler',\n",
       "                                        StandardScaler(copy=True,\n",
       "                                                       with_mean=True,\n",
       "                                                       with_std=True)),\n",
       "                                       ('lin_reg',\n",
       "                                        LinearRegression(copy_X=True,\n",
       "                                                         fit_intercept=True,\n",
       "                                                         n_jobs=None,\n",
       "                                                         normalize=False))],\n",
       "                                verbose=False),\n",
       "             iid='deprecated', n_jobs=-1,\n",
       "             param_grid=[{'poly__degree': [1, 2, 3, 4, 5, 6, 7, 8, 9, 10]}],\n",
       "             pre_dispatch='2*n_jobs', refit=True, return_train_score=False,\n",
       "             scoring=None, verbose=1)"
      ]
     },
     "execution_count": 19,
     "metadata": {},
     "output_type": "execute_result"
    }
   ],
   "source": [
    "param_grid = [{ \"poly__degree\": [i for i in range(1, 11)] }]\n",
    "\n",
    "grid_search = GridSearchCV(poly_lr, param_grid, n_jobs=-1, verbose=1)\n",
    "%time grid_search.fit(X_train, y_train)"
   ]
  },
  {
   "cell_type": "code",
   "execution_count": 20,
   "metadata": {},
   "outputs": [
    {
     "name": "stdout",
     "output_type": "stream",
     "text": [
      "Параметры лучшего регрессора:  {'poly__degree': 9}\n",
      "Средний показатель качества лучшего регрессора =  0.15912546161601382\n",
      "Лучший на тестовом наборе =  0.14078287155326819\n"
     ]
    }
   ],
   "source": [
    "best_params = grid_search.best_params_\n",
    "print('Параметры лучшего регрессора: ', best_params)\n",
    "b_poly_lr = PolynomialRegression(best_params['poly__degree'])\n",
    "b_poly_lr.fit(X_train, y_train)\n",
    "\n",
    "# best score\n",
    "bs_poly_lr = grid_search.best_score_\n",
    "# best test score\n",
    "bts_poly_lr = grid_search.best_estimator_.score(X_test, y_test)\n",
    "print('Средний показатель качества лучшего регрессора = ', bs_poly_lr)\n",
    "print('Лучший на тестовом наборе = ', bts_poly_lr)"
   ]
  },
  {
   "cell_type": "markdown",
   "metadata": {},
   "source": [
    "* Регрессия на основе метода стохастического градиентного спуска (SGDRegressor)"
   ]
  },
  {
   "cell_type": "code",
   "execution_count": 21,
   "metadata": {},
   "outputs": [
    {
     "name": "stderr",
     "output_type": "stream",
     "text": [
      "[Parallel(n_jobs=-1)]: Using backend LokyBackend with 8 concurrent workers.\n"
     ]
    },
    {
     "name": "stdout",
     "output_type": "stream",
     "text": [
      "Fitting 5 folds for each of 4900 candidates, totalling 24500 fits\n"
     ]
    },
    {
     "name": "stderr",
     "output_type": "stream",
     "text": [
      "[Parallel(n_jobs=-1)]: Done  56 tasks      | elapsed:    0.4s\n",
      "[Parallel(n_jobs=-1)]: Done 1200 tasks      | elapsed:    5.1s\n",
      "[Parallel(n_jobs=-1)]: Done 3200 tasks      | elapsed:   13.7s\n",
      "[Parallel(n_jobs=-1)]: Done 6000 tasks      | elapsed:   25.7s\n",
      "[Parallel(n_jobs=-1)]: Done 9600 tasks      | elapsed:   40.7s\n",
      "[Parallel(n_jobs=-1)]: Done 14000 tasks      | elapsed:   58.1s\n",
      "[Parallel(n_jobs=-1)]: Done 19200 tasks      | elapsed:  1.3min\n"
     ]
    },
    {
     "name": "stdout",
     "output_type": "stream",
     "text": [
      "Wall time: 1min 40s\n"
     ]
    },
    {
     "name": "stderr",
     "output_type": "stream",
     "text": [
      "[Parallel(n_jobs=-1)]: Done 24500 out of 24500 | elapsed:  1.7min finished\n"
     ]
    },
    {
     "data": {
      "text/plain": [
       "GridSearchCV(cv=None, error_score=nan,\n",
       "             estimator=SGDRegressor(alpha=0.0001, average=False,\n",
       "                                    early_stopping=False, epsilon=0.1,\n",
       "                                    eta0=0.01, fit_intercept=True,\n",
       "                                    l1_ratio=0.15, learning_rate='invscaling',\n",
       "                                    loss='squared_loss', max_iter=1000,\n",
       "                                    n_iter_no_change=5, penalty='l2',\n",
       "                                    power_t=0.25, random_state=None,\n",
       "                                    shuffle=True, tol=0.001,\n",
       "                                    validation_fraction=0.1, verbose=0,\n",
       "                                    warm_start=False),\n",
       "             iid='deprecated', n_jobs=-1,\n",
       "             param_grid=[{'max_iter': [100, 101, 102, 103, 104, 105, 106, 107,\n",
       "                                       108, 109, 110, 111, 112, 113, 114, 115,\n",
       "                                       116, 117, 118, 119, 120, 121, 122, 123,\n",
       "                                       124, 125, 126, 127, 128, 129, ...]}],\n",
       "             pre_dispatch='2*n_jobs', refit=True, return_train_score=False,\n",
       "             scoring=None, verbose=1)"
      ]
     },
     "execution_count": 21,
     "metadata": {},
     "output_type": "execute_result"
    }
   ],
   "source": [
    "param_grid = [{ \"max_iter\": [i for i in range(100, 5000)] }]\n",
    "\n",
    "grid_search = GridSearchCV(sgdr, param_grid, n_jobs=-1, verbose=1)\n",
    "%time grid_search.fit(X_train, y_train)"
   ]
  },
  {
   "cell_type": "code",
   "execution_count": 22,
   "metadata": {},
   "outputs": [
    {
     "name": "stdout",
     "output_type": "stream",
     "text": [
      "Параметры лучшего регрессора:  {'max_iter': 2796}\n",
      "Средний показатель качества лучшего регрессора =  0.004065515594084745\n",
      "Лучший на тестовом наборе =  0.006556096998722172\n"
     ]
    }
   ],
   "source": [
    "best_params = grid_search.best_params_\n",
    "print('Параметры лучшего регрессора: ', best_params)\n",
    "b_sgdr = SGDRegressor(max_iter = best_params['max_iter'])\n",
    "b_sgdr.fit(X_train, y_train)\n",
    "\n",
    "bs_sgdr = grid_search.best_score_\n",
    "bts_sgdr = grid_search.best_estimator_.score(X_test, y_test)\n",
    "print('Средний показатель качества лучшего регрессора = ', bs_sgdr)\n",
    "print('Лучший на тестовом наборе = ', bts_sgdr)"
   ]
  },
  {
   "cell_type": "markdown",
   "metadata": {},
   "source": [
    "* Гребневая регрессия (Ridge)"
   ]
  },
  {
   "cell_type": "code",
   "execution_count": 23,
   "metadata": {},
   "outputs": [
    {
     "name": "stderr",
     "output_type": "stream",
     "text": [
      "[Parallel(n_jobs=-1)]: Using backend LokyBackend with 8 concurrent workers.\n"
     ]
    },
    {
     "name": "stdout",
     "output_type": "stream",
     "text": [
      "Fitting 5 folds for each of 3781 candidates, totalling 18905 fits\n"
     ]
    },
    {
     "name": "stderr",
     "output_type": "stream",
     "text": [
      "[Parallel(n_jobs=-1)]: Done  56 tasks      | elapsed:    0.3s\n",
      "[Parallel(n_jobs=-1)]: Done 2160 tasks      | elapsed:    5.6s\n",
      "[Parallel(n_jobs=-1)]: Done 6160 tasks      | elapsed:   20.7s\n",
      "[Parallel(n_jobs=-1)]: Done 11522 tasks      | elapsed:   55.3s\n",
      "[Parallel(n_jobs=-1)]: Done 12436 tasks      | elapsed:  1.1min\n",
      "[Parallel(n_jobs=-1)]: Done 13536 tasks      | elapsed:  1.2min\n",
      "[Parallel(n_jobs=-1)]: Done 14836 tasks      | elapsed:  1.5min\n",
      "[Parallel(n_jobs=-1)]: Done 16336 tasks      | elapsed:  1.8min\n",
      "[Parallel(n_jobs=-1)]: Done 18036 tasks      | elapsed:  2.1min\n",
      "[Parallel(n_jobs=-1)]: Done 18890 out of 18905 | elapsed:  2.3min remaining:    0.0s\n",
      "[Parallel(n_jobs=-1)]: Done 18905 out of 18905 | elapsed:  2.3min finished\n"
     ]
    },
    {
     "name": "stdout",
     "output_type": "stream",
     "text": [
      "Wall time: 2min 18s\n"
     ]
    },
    {
     "data": {
      "text/plain": [
       "GridSearchCV(cv=None, error_score=nan,\n",
       "             estimator=Pipeline(memory=None,\n",
       "                                steps=[('poly',\n",
       "                                        PolynomialFeatures(degree=20,\n",
       "                                                           include_bias=True,\n",
       "                                                           interaction_only=False,\n",
       "                                                           order='C')),\n",
       "                                       ('std_scaler',\n",
       "                                        StandardScaler(copy=True,\n",
       "                                                       with_mean=True,\n",
       "                                                       with_std=True)),\n",
       "                                       ('ridge_reg',\n",
       "                                        Ridge(alpha=100, copy_X=True,\n",
       "                                              fit_intercept=True, max_iter=None,\n",
       "                                              normalize=False,\n",
       "                                              random_state=None, solver=...\n",
       "                          'ridge_reg__alpha': [0.01, 0.02, 0.03, 0.04, 0.05,\n",
       "                                               0.060000000000000005,\n",
       "                                               0.06999999999999999, 0.08, 0.09,\n",
       "                                               0.09999999999999999, 0.11, 0.12,\n",
       "                                               0.13, 0.14, 0.15000000000000002,\n",
       "                                               0.16, 0.17, 0.18000000000000002,\n",
       "                                               0.19, 0.2, 0.21000000000000002,\n",
       "                                               0.22, 0.23, 0.24000000000000002,\n",
       "                                               0.25, 0.26, 0.27, 0.28,\n",
       "                                               0.29000000000000004, 0.3, ...]}],\n",
       "             pre_dispatch='2*n_jobs', refit=True, return_train_score=False,\n",
       "             scoring=None, verbose=1)"
      ]
     },
     "execution_count": 23,
     "metadata": {},
     "output_type": "execute_result"
    }
   ],
   "source": [
    "param_grid = [{\n",
    "        \"poly__degree\": [i for i in range(1, 20)],\n",
    "        \"ridge_reg__alpha\": [i for i in np.arange(0.01,2,0.01)]\n",
    "    }]\n",
    "\n",
    "\n",
    "grid_search = GridSearchCV(ridge_reg, param_grid, n_jobs=-1, verbose=1)\n",
    "%time grid_search.fit(X_train, y_train)"
   ]
  },
  {
   "cell_type": "code",
   "execution_count": 24,
   "metadata": {},
   "outputs": [
    {
     "name": "stdout",
     "output_type": "stream",
     "text": [
      "Параметры лучшего регрессора:  {'poly__degree': 9, 'ridge_reg__alpha': 0.01}\n",
      "Средний показатель качества лучшего регрессора =  0.1588986091783049\n",
      "Лучший на тестовом наборе =  0.1410191410971563\n"
     ]
    }
   ],
   "source": [
    "best_params = grid_search.best_params_\n",
    "print('Параметры лучшего регрессора: ', best_params)\n",
    "b_ridge_reg = RidgeRegression(best_params['poly__degree'], best_params['ridge_reg__alpha'])\n",
    "b_ridge_reg.fit(X_train, y_train)\n",
    "\n",
    "bs_ridge_r = grid_search.best_score_\n",
    "bts_ridge_r = grid_search.best_estimator_.score(X_test, y_test)\n",
    "print('Средний показатель качества лучшего регрессора = ', bs_ridge_r)\n",
    "print('Лучший на тестовом наборе = ', bts_ridge_r)"
   ]
  },
  {
   "cell_type": "markdown",
   "metadata": {},
   "source": [
    "* Регрессия лассо - Least Absolute Shrinkage and Selection Operator (Lasso)"
   ]
  },
  {
   "cell_type": "code",
   "execution_count": 25,
   "metadata": {},
   "outputs": [
    {
     "name": "stdout",
     "output_type": "stream",
     "text": [
      "Fitting 5 folds for each of 3781 candidates, totalling 18905 fits\n"
     ]
    },
    {
     "name": "stderr",
     "output_type": "stream",
     "text": [
      "[Parallel(n_jobs=-1)]: Using backend LokyBackend with 8 concurrent workers.\n",
      "[Parallel(n_jobs=-1)]: Done  56 tasks      | elapsed:    1.9s\n",
      "[Parallel(n_jobs=-1)]: Done 408 tasks      | elapsed:    6.3s\n",
      "[Parallel(n_jobs=-1)]: Done 1408 tasks      | elapsed:   15.0s\n",
      "[Parallel(n_jobs=-1)]: Done 2808 tasks      | elapsed:   26.6s\n",
      "[Parallel(n_jobs=-1)]: Done 4608 tasks      | elapsed:   42.3s\n",
      "[Parallel(n_jobs=-1)]: Done 6808 tasks      | elapsed:  1.0min\n",
      "[Parallel(n_jobs=-1)]: Done 9408 tasks      | elapsed:  1.4min\n",
      "[Parallel(n_jobs=-1)]: Done 12408 tasks      | elapsed:  1.9min\n",
      "[Parallel(n_jobs=-1)]: Done 15808 tasks      | elapsed:  2.4min\n"
     ]
    },
    {
     "name": "stdout",
     "output_type": "stream",
     "text": [
      "Wall time: 2min 49s\n"
     ]
    },
    {
     "name": "stderr",
     "output_type": "stream",
     "text": [
      "[Parallel(n_jobs=-1)]: Done 18905 out of 18905 | elapsed:  2.8min finished\n"
     ]
    },
    {
     "data": {
      "text/plain": [
       "GridSearchCV(cv=None, error_score=nan,\n",
       "             estimator=Pipeline(memory=None,\n",
       "                                steps=[('poly',\n",
       "                                        PolynomialFeatures(degree=20,\n",
       "                                                           include_bias=True,\n",
       "                                                           interaction_only=False,\n",
       "                                                           order='C')),\n",
       "                                       ('std_scaler',\n",
       "                                        StandardScaler(copy=True,\n",
       "                                                       with_mean=True,\n",
       "                                                       with_std=True)),\n",
       "                                       ('lasso_reg',\n",
       "                                        Lasso(alpha=0.01, copy_X=True,\n",
       "                                              fit_intercept=True, max_iter=1000,\n",
       "                                              normalize=False, positive=False,\n",
       "                                              precomput...\n",
       "                                               0.06999999999999999, 0.08, 0.09,\n",
       "                                               0.09999999999999999, 0.11, 0.12,\n",
       "                                               0.13, 0.14, 0.15000000000000002,\n",
       "                                               0.16, 0.17, 0.18000000000000002,\n",
       "                                               0.19, 0.2, 0.21000000000000002,\n",
       "                                               0.22, 0.23, 0.24000000000000002,\n",
       "                                               0.25, 0.26, 0.27, 0.28,\n",
       "                                               0.29000000000000004, 0.3, ...],\n",
       "                          'poly__degree': [1, 2, 3, 4, 5, 6, 7, 8, 9, 10, 11,\n",
       "                                           12, 13, 14, 15, 16, 17, 18, 19]}],\n",
       "             pre_dispatch='2*n_jobs', refit=True, return_train_score=False,\n",
       "             scoring=None, verbose=1)"
      ]
     },
     "execution_count": 25,
     "metadata": {},
     "output_type": "execute_result"
    }
   ],
   "source": [
    "param_grid = [{\n",
    "        \"poly__degree\": [i for i in range(1, 20)],\n",
    "        \"lasso_reg__alpha\": [i for i in np.arange(0.01,2,0.01)]\n",
    "    }]\n",
    "\n",
    "grid_search = GridSearchCV(lassor, param_grid, n_jobs=-1, verbose=1)\n",
    "%time grid_search.fit(X_train, y_train)"
   ]
  },
  {
   "cell_type": "code",
   "execution_count": 26,
   "metadata": {},
   "outputs": [
    {
     "name": "stdout",
     "output_type": "stream",
     "text": [
      "Параметры лучшего регрессора:  {'lasso_reg__alpha': 0.01, 'poly__degree': 4}\n",
      "Средний показатель качества лучшего регрессора =  0.03341637619747038\n",
      "Лучший на тестовом наборе =  0.02884448563905262\n"
     ]
    }
   ],
   "source": [
    "best_params = grid_search.best_params_\n",
    "print('Параметры лучшего регрессора: ', best_params)\n",
    "b_lassor = LassoRegression(best_params['poly__degree'], best_params['lasso_reg__alpha'])\n",
    "b_lassor.fit(X_train, y_train)\n",
    "\n",
    "bs_lassor = grid_search.best_score_\n",
    "bts_lassor = grid_search.best_estimator_.score(X_test, y_test)\n",
    "print('Средний показатель качества лучшего регрессора = ', bs_lassor)\n",
    "print('Лучший на тестовом наборе = ', bts_lassor)"
   ]
  },
  {
   "cell_type": "markdown",
   "metadata": {},
   "source": [
    "* Эластичная сеть (ElasticNet)"
   ]
  },
  {
   "cell_type": "code",
   "execution_count": 27,
   "metadata": {},
   "outputs": [
    {
     "name": "stdout",
     "output_type": "stream",
     "text": [
      "Fitting 5 folds for each of 3781 candidates, totalling 18905 fits\n"
     ]
    },
    {
     "name": "stderr",
     "output_type": "stream",
     "text": [
      "[Parallel(n_jobs=-1)]: Using backend LokyBackend with 8 concurrent workers.\n",
      "[Parallel(n_jobs=-1)]: Done  52 tasks      | elapsed:    1.6s\n",
      "[Parallel(n_jobs=-1)]: Done 248 tasks      | elapsed:    8.6s\n",
      "[Parallel(n_jobs=-1)]: Done 1248 tasks      | elapsed:   17.8s\n",
      "[Parallel(n_jobs=-1)]: Done 2648 tasks      | elapsed:   29.6s\n",
      "[Parallel(n_jobs=-1)]: Done 4448 tasks      | elapsed:   44.6s\n",
      "[Parallel(n_jobs=-1)]: Done 6648 tasks      | elapsed:  1.0min\n",
      "[Parallel(n_jobs=-1)]: Done 9248 tasks      | elapsed:  1.4min\n",
      "[Parallel(n_jobs=-1)]: Done 12248 tasks      | elapsed:  1.8min\n",
      "[Parallel(n_jobs=-1)]: Done 15648 tasks      | elapsed:  2.3min\n"
     ]
    },
    {
     "name": "stdout",
     "output_type": "stream",
     "text": [
      "Wall time: 2min 45s\n"
     ]
    },
    {
     "name": "stderr",
     "output_type": "stream",
     "text": [
      "[Parallel(n_jobs=-1)]: Done 18905 out of 18905 | elapsed:  2.8min finished\n"
     ]
    },
    {
     "data": {
      "text/plain": [
       "GridSearchCV(cv=None, error_score=nan,\n",
       "             estimator=Pipeline(memory=None,\n",
       "                                steps=[('poly',\n",
       "                                        PolynomialFeatures(degree=20,\n",
       "                                                           include_bias=True,\n",
       "                                                           interaction_only=False,\n",
       "                                                           order='C')),\n",
       "                                       ('std_scaler',\n",
       "                                        StandardScaler(copy=True,\n",
       "                                                       with_mean=True,\n",
       "                                                       with_std=True)),\n",
       "                                       ('elnet_reg',\n",
       "                                        ElasticNet(alpha=0.01, copy_X=True,\n",
       "                                                   fit_intercept=True,\n",
       "                                                   l1_ratio=0.5, max_iter=1000,\n",
       "                                                   normalize=False,\n",
       "                                                   positi...\n",
       "                                               0.06999999999999999, 0.08, 0.09,\n",
       "                                               0.09999999999999999, 0.11, 0.12,\n",
       "                                               0.13, 0.14, 0.15000000000000002,\n",
       "                                               0.16, 0.17, 0.18000000000000002,\n",
       "                                               0.19, 0.2, 0.21000000000000002,\n",
       "                                               0.22, 0.23, 0.24000000000000002,\n",
       "                                               0.25, 0.26, 0.27, 0.28,\n",
       "                                               0.29000000000000004, 0.3, ...],\n",
       "                          'poly__degree': [1, 2, 3, 4, 5, 6, 7, 8, 9, 10, 11,\n",
       "                                           12, 13, 14, 15, 16, 17, 18, 19]}],\n",
       "             pre_dispatch='2*n_jobs', refit=True, return_train_score=False,\n",
       "             scoring=None, verbose=1)"
      ]
     },
     "execution_count": 27,
     "metadata": {},
     "output_type": "execute_result"
    }
   ],
   "source": [
    "param_grid = [{\n",
    "        \"poly__degree\": [i for i in range(1, 20)],\n",
    "        \"elnet_reg__alpha\": [i for i in np.arange(0.01,2,0.01)]\n",
    "    }]\n",
    "\n",
    "grid_search = GridSearchCV(enr, param_grid, n_jobs=-1, verbose=1)\n",
    "%time grid_search.fit(X_train, y_train)"
   ]
  },
  {
   "cell_type": "code",
   "execution_count": 28,
   "metadata": {},
   "outputs": [
    {
     "name": "stdout",
     "output_type": "stream",
     "text": [
      "Параметры лучшего регрессора:  {'elnet_reg__alpha': 0.01, 'poly__degree': 3}\n",
      "Средний показатель качества лучшего регрессора =  0.08168803857908997\n",
      "Лучший на тестовом наборе =  0.07227134477599118\n"
     ]
    }
   ],
   "source": [
    "best_params = grid_search.best_params_\n",
    "print('Параметры лучшего регрессора: ', best_params)\n",
    "b_enr = ElNetRegression(best_params['poly__degree'], best_params['elnet_reg__alpha'])\n",
    "b_enr.fit(X_train, y_train)\n",
    "\n",
    "bs_enr = grid_search.best_score_\n",
    "bts_enr = grid_search.best_estimator_.score(X_test, y_test)\n",
    "print('Средний показатель качества лучшего регрессора = ', bs_enr)\n",
    "print('Лучший на тестовом наборе = ', bts_enr)"
   ]
  },
  {
   "cell_type": "markdown",
   "metadata": {},
   "source": [
    "* Регрессия на основе метода ближайших соседей (KNeighborsRegressor)"
   ]
  },
  {
   "cell_type": "code",
   "execution_count": 29,
   "metadata": {},
   "outputs": [
    {
     "name": "stderr",
     "output_type": "stream",
     "text": [
      "[Parallel(n_jobs=-1)]: Using backend LokyBackend with 8 concurrent workers.\n"
     ]
    },
    {
     "name": "stdout",
     "output_type": "stream",
     "text": [
      "Fitting 5 folds for each of 900 candidates, totalling 4500 fits\n"
     ]
    },
    {
     "name": "stderr",
     "output_type": "stream",
     "text": [
      "[Parallel(n_jobs=-1)]: Done  34 tasks      | elapsed:    0.7s\n",
      "[Parallel(n_jobs=-1)]: Done 184 tasks      | elapsed:    3.9s\n",
      "[Parallel(n_jobs=-1)]: Done 434 tasks      | elapsed:   11.0s\n",
      "[Parallel(n_jobs=-1)]: Done 784 tasks      | elapsed:   24.7s\n",
      "[Parallel(n_jobs=-1)]: Done 1234 tasks      | elapsed:   36.2s\n",
      "[Parallel(n_jobs=-1)]: Done 1784 tasks      | elapsed:   52.0s\n",
      "[Parallel(n_jobs=-1)]: Done 2434 tasks      | elapsed:  1.2min\n",
      "[Parallel(n_jobs=-1)]: Done 3184 tasks      | elapsed:  1.8min\n",
      "[Parallel(n_jobs=-1)]: Done 4034 tasks      | elapsed:  2.6min\n"
     ]
    },
    {
     "name": "stdout",
     "output_type": "stream",
     "text": [
      "Wall time: 3min 10s\n"
     ]
    },
    {
     "name": "stderr",
     "output_type": "stream",
     "text": [
      "[Parallel(n_jobs=-1)]: Done 4500 out of 4500 | elapsed:  3.2min finished\n"
     ]
    },
    {
     "data": {
      "text/plain": [
       "GridSearchCV(cv=None, error_score=nan,\n",
       "             estimator=KNeighborsRegressor(algorithm='auto', leaf_size=30,\n",
       "                                           metric='minkowski',\n",
       "                                           metric_params=None, n_jobs=None,\n",
       "                                           n_neighbors=5, p=2,\n",
       "                                           weights='uniform'),\n",
       "             iid='deprecated', n_jobs=-1,\n",
       "             param_grid=[{'n_neighbors': [1, 2, 3, 4, 5, 6, 7, 8, 9, 10, 11, 12,\n",
       "                                          13, 14, 15, 16, 17, 18, 19, 20, 21,\n",
       "                                          22, 23, 24, 25, 26, 27, 28, 29, 30, ...],\n",
       "                          'weights': ['uniform']},\n",
       "                         {'n_neighbors': [1, 2, 3, 4, 5, 6, 7, 8, 9, 10, 11, 12,\n",
       "                                          13, 14, 15, 16, 17, 18, 19, 20, 21,\n",
       "                                          22, 23, 24, 25, 26, 27, 28, 29, 30, ...],\n",
       "                          'p': [1, 2, 3, 4, 5], 'weights': ['distance']}],\n",
       "             pre_dispatch='2*n_jobs', refit=True, return_train_score=False,\n",
       "             scoring=None, verbose=1)"
      ]
     },
     "execution_count": 29,
     "metadata": {},
     "output_type": "execute_result"
    }
   ],
   "source": [
    "param_grid = [\n",
    "    {\n",
    "        \"weights\": [\"uniform\"],\n",
    "        \"n_neighbors\": [i for i in range(1, 151)]\n",
    "    },\n",
    "    {\n",
    "        \"weights\": [\"distance\"],\n",
    "        \"n_neighbors\": [i for i in range(1, 151)],\n",
    "        \"p\": [i for i in range(1,6)]\n",
    "    }\n",
    "]\n",
    "\n",
    "grid_search = GridSearchCV(knnr, param_grid, n_jobs=-1, verbose=1)\n",
    "%time grid_search.fit(X_train, y_train)"
   ]
  },
  {
   "cell_type": "code",
   "execution_count": 30,
   "metadata": {},
   "outputs": [
    {
     "name": "stdout",
     "output_type": "stream",
     "text": [
      "Параметры лучшего регрессора:  {'n_neighbors': 150, 'weights': 'uniform'}\n",
      "Средний показатель качества лучшего регрессора =  0.1533573505178233\n",
      "Лучший на тестовом наборе =  0.13521057836128614\n"
     ]
    }
   ],
   "source": [
    "best_params = grid_search.best_params_\n",
    "print('Параметры лучшего регрессора: ', best_params)\n",
    "b_knnr = KNeighborsRegressor(weights=best_params['weights'], n_neighbors=best_params['n_neighbors'])\n",
    "b_knnr.fit(X_train, y_train)\n",
    "\n",
    "bs_knnr = grid_search.best_score_\n",
    "bts_knnr = grid_search.best_estimator_.score(X_test, y_test)\n",
    "print('Средний показатель качества лучшего регрессора = ', bs_knnr)\n",
    "print('Лучший на тестовом наборе = ', bts_knnr)"
   ]
  },
  {
   "cell_type": "markdown",
   "metadata": {},
   "source": [
    "* Регрессия на основе деревьев решений (DecisionTreeRegressor)"
   ]
  },
  {
   "cell_type": "code",
   "execution_count": 31,
   "metadata": {},
   "outputs": [
    {
     "name": "stdout",
     "output_type": "stream",
     "text": [
      "Fitting 5 folds for each of 20 candidates, totalling 100 fits\n"
     ]
    },
    {
     "name": "stderr",
     "output_type": "stream",
     "text": [
      "[Parallel(n_jobs=-1)]: Using backend LokyBackend with 8 concurrent workers.\n"
     ]
    },
    {
     "name": "stdout",
     "output_type": "stream",
     "text": [
      "Wall time: 417 ms\n"
     ]
    },
    {
     "name": "stderr",
     "output_type": "stream",
     "text": [
      "[Parallel(n_jobs=-1)]: Done  56 tasks      | elapsed:    0.2s\n",
      "[Parallel(n_jobs=-1)]: Done  85 out of 100 | elapsed:    0.3s remaining:    0.0s\n",
      "[Parallel(n_jobs=-1)]: Done 100 out of 100 | elapsed:    0.3s finished\n"
     ]
    },
    {
     "data": {
      "text/plain": [
       "GridSearchCV(cv=None, error_score=nan,\n",
       "             estimator=DecisionTreeRegressor(ccp_alpha=0.0, criterion='mse',\n",
       "                                             max_depth=None, max_features=None,\n",
       "                                             max_leaf_nodes=5,\n",
       "                                             min_impurity_decrease=0.0,\n",
       "                                             min_impurity_split=None,\n",
       "                                             min_samples_leaf=1,\n",
       "                                             min_samples_split=2,\n",
       "                                             min_weight_fraction_leaf=0.0,\n",
       "                                             presort='deprecated',\n",
       "                                             random_state=None,\n",
       "                                             splitter='best'),\n",
       "             iid='deprecated', n_jobs=-1,\n",
       "             param_grid=[{'max_leaf_nodes': [1, 2, 3, 4, 5, 6, 7, 8, 9, 10, 11,\n",
       "                                             12, 13, 14, 15, 16, 17, 18, 19,\n",
       "                                             20]}],\n",
       "             pre_dispatch='2*n_jobs', refit=True, return_train_score=False,\n",
       "             scoring=None, verbose=1)"
      ]
     },
     "execution_count": 31,
     "metadata": {},
     "output_type": "execute_result"
    }
   ],
   "source": [
    "param_grid = [{ \"max_leaf_nodes\": [i for i in range(1, 21)] }]\n",
    "\n",
    "grid_search = GridSearchCV(tree_r, param_grid, n_jobs=-1, verbose=1)\n",
    "%time grid_search.fit(X_train, y_train)"
   ]
  },
  {
   "cell_type": "code",
   "execution_count": 32,
   "metadata": {},
   "outputs": [
    {
     "name": "stdout",
     "output_type": "stream",
     "text": [
      "Параметры лучшего регрессора:  {'max_leaf_nodes': 16}\n",
      "Средний показатель качества лучшего регрессора =  0.15632497973598358\n",
      "Лучший на тестовом наборе =  0.13932625718817893\n"
     ]
    }
   ],
   "source": [
    "best_params = grid_search.best_params_\n",
    "print('Параметры лучшего регрессора: ', best_params)\n",
    "b_tree_r = DecisionTreeRegressor(max_leaf_nodes = best_params['max_leaf_nodes'])\n",
    "b_tree_r.fit(X_train, y_train)\n",
    "\n",
    "bs_tree_r = grid_search.best_score_\n",
    "bts_tree_r = grid_search.best_estimator_.score(X_test, y_test)\n",
    "print('Средний показатель качества лучшего регрессора = ', bs_tree_r)\n",
    "print('Лучший на тестовом наборе = ', bts_tree_r)"
   ]
  },
  {
   "cell_type": "markdown",
   "metadata": {},
   "source": [
    "* Регрессия на основе метода опорных векторов (SVR)"
   ]
  },
  {
   "cell_type": "code",
   "execution_count": 33,
   "metadata": {},
   "outputs": [
    {
     "name": "stdout",
     "output_type": "stream",
     "text": [
      "Fitting 5 folds for each of 3 candidates, totalling 15 fits\n"
     ]
    },
    {
     "name": "stderr",
     "output_type": "stream",
     "text": [
      "[Parallel(n_jobs=-1)]: Using backend LokyBackend with 8 concurrent workers.\n",
      "[Parallel(n_jobs=-1)]: Done  15 out of  15 | elapsed:  3.2min finished\n"
     ]
    },
    {
     "name": "stdout",
     "output_type": "stream",
     "text": [
      "Wall time: 3min 26s\n"
     ]
    },
    {
     "data": {
      "text/plain": [
       "GridSearchCV(cv=None, error_score=nan,\n",
       "             estimator=Pipeline(memory=None,\n",
       "                                steps=[('std_scaler',\n",
       "                                        StandardScaler(copy=True,\n",
       "                                                       with_mean=True,\n",
       "                                                       with_std=True)),\n",
       "                                       ('svm_reg',\n",
       "                                        SVR(C=1.0, cache_size=200, coef0=0.0,\n",
       "                                            degree=2, epsilon=0.1,\n",
       "                                            gamma='scale', kernel='poly',\n",
       "                                            max_iter=-1, shrinking=True,\n",
       "                                            tol=0.001, verbose=False))],\n",
       "                                verbose=False),\n",
       "             iid='deprecated', n_jobs=-1,\n",
       "             param_grid=[{'svm_reg__degree': [1, 2, 3]}],\n",
       "             pre_dispatch='2*n_jobs', refit=True, return_train_score=False,\n",
       "             scoring=None, verbose=1)"
      ]
     },
     "execution_count": 33,
     "metadata": {},
     "output_type": "execute_result"
    }
   ],
   "source": [
    "param_grid = [{ \"svm_reg__degree\": [i for i in range(1, 4)] }]\n",
    "\n",
    "grid_search = GridSearchCV(svr, param_grid, n_jobs=-1, verbose=1)\n",
    "%time grid_search.fit(X_train, y_train)"
   ]
  },
  {
   "cell_type": "code",
   "execution_count": 34,
   "metadata": {},
   "outputs": [
    {
     "name": "stdout",
     "output_type": "stream",
     "text": [
      "Параметры лучшего регрессора:  {'svm_reg__degree': 2}\n",
      "Средний показатель качества лучшего регрессора =  0.07144046199239498\n",
      "Лучший на тестовом наборе =  0.04545923952905084\n"
     ]
    }
   ],
   "source": [
    "best_params = grid_search.best_params_\n",
    "print('Параметры лучшего регрессора: ', best_params)\n",
    "b_svr = SVMRegression(best_params['svm_reg__degree'])\n",
    "b_svr.fit(X_train, y_train)\n",
    "\n",
    "bs_svr = grid_search.best_score_\n",
    "bts_svr = grid_search.best_estimator_.score(X_test, y_test)\n",
    "print('Средний показатель качества лучшего регрессора = ', bs_svr)\n",
    "print('Лучший на тестовом наборе = ', bts_svr)"
   ]
  },
  {
   "cell_type": "markdown",
   "metadata": {},
   "source": [
    "**7.          Визуализируйте на плоскости точки тестовой выборки и графики различных моделей регрессий разными цветами. Подпишите оси и создайте легенду для графика.**"
   ]
  },
  {
   "cell_type": "markdown",
   "metadata": {},
   "source": [
    "Функция для отрисовки линии регрессии модели"
   ]
  },
  {
   "cell_type": "code",
   "execution_count": 35,
   "metadata": {},
   "outputs": [],
   "source": [
    "def plot_model(model, color, label):\n",
    "    X_plot = np.linspace(0, 1, 100).reshape(100, 1)\n",
    "    y_plot = model.predict(X_plot)\n",
    "    plt.plot(X_plot[:,0], y_plot, color=color, label=label)"
   ]
  },
  {
   "cell_type": "markdown",
   "metadata": {},
   "source": [
    "Визуализация (модели с оптимальными параметрами)"
   ]
  },
  {
   "cell_type": "code",
   "execution_count": 36,
   "metadata": {},
   "outputs": [
    {
     "data": {
      "image/png": "[encoded data removed]",
      "text/plain": [
       "<Figure size 864x864 with 1 Axes>"
      ]
     },
     "metadata": {
      "needs_background": "light"
     },
     "output_type": "display_data"
    }
   ],
   "source": [
    "plt.figure(figsize=(12,12))\n",
    "plt.title('Визуализация набора данных и графиков различных моделей регрессий с оптимальными параметрами')\n",
    "plt.scatter(X_train, y_train, color=\"b\", label='train')\n",
    "plt.scatter(X_test, y_test, color=\"c\", label='test')\n",
    "\n",
    "plot_model(lr, 'black', 'LinearRegression')\n",
    "plot_model(b_poly_lr, 'r', 'PolynomialFeatures+LR')\n",
    "plot_model(b_sgdr, 'darkorange', 'SGDRegressor')\n",
    "plot_model(b_ridge_reg, 'yellow', 'Ridge')\n",
    "plot_model(b_lassor, 'olive', 'Lasso')\n",
    "plot_model(b_enr, 'darkgreen', 'ElasticNet')\n",
    "plot_model(b_knnr, 'magenta', 'KNeighborsRegressor')\n",
    "plot_model(b_tree_r, 'lime', 'DecisionTreeRegressor')\n",
    "plot_model(b_svr, 'maroon', 'SVR')\n",
    "\n",
    "plt.legend()\n",
    "plt.xlabel('V0')\n",
    "plt.ylabel('V12')\n",
    "plt.show()"
   ]
  },
  {
   "cell_type": "markdown",
   "metadata": {},
   "source": [
    "**8.          Определите лучший регрессор по показателю коэффициент детерминации.**"
   ]
  },
  {
   "cell_type": "markdown",
   "metadata": {},
   "source": [
    "Определяю показатели коэффициента детерминации моделей (с оптимальными параметрами) на тестовом наборе"
   ]
  },
  {
   "cell_type": "code",
   "execution_count": 37,
   "metadata": {},
   "outputs": [
    {
     "name": "stdout",
     "output_type": "stream",
     "text": [
      "  Linear Regression =  0.006444401358000396\n",
      "  Polynomial Features + Linear Regression = 0.15912546161601382 0.14078287155326819\n",
      "  Stochastic Gradient Descent Regressor =  0.004065515594084745 0.006556096998722172\n",
      "  Ridge Regression =  0.1588986091783049 0.1410191410971563\n",
      "  Least Absolute Shrinkage and Selection Operator =  0.03341637619747038 0.02884448563905262\n",
      "  Elastic Net Regressor = 0.08168803857908997 0.07227134477599118\n",
      "  K Nearest Neighbors Regressor =  0.1533573505178233 0.13521057836128614\n",
      "  DecisionTreeRegressor =  0.15632497973598358 0.13932625718817893\n",
      "  Support Vector Regression =  0.07144046199239498 0.04545923952905084\n"
     ]
    }
   ],
   "source": [
    "print('  Linear Regression = ', s_lr)\n",
    "print('  Polynomial Features + Linear Regression =', bs_poly_lr, bts_poly_lr)\n",
    "print('  Stochastic Gradient Descent Regressor = ', bs_sgdr, bts_sgdr)\n",
    "print('  Ridge Regression = ', bs_ridge_r, bts_ridge_r)\n",
    "print('  Least Absolute Shrinkage and Selection Operator = ', bs_lassor, bts_lassor)\n",
    "print('  Elastic Net Regressor =', bs_enr, bts_enr)\n",
    "print('  K Nearest Neighbors Regressor = ', bs_knnr, bts_knnr)\n",
    "print('  DecisionTreeRegressor = ', bs_tree_r, bts_tree_r)\n",
    "print('  Support Vector Regression = ', bs_svr, bts_svr)"
   ]
  },
  {
   "cell_type": "markdown",
   "metadata": {},
   "source": [
    "**Полиномиальная (PolynomialFeatures+LinearRegression) и гребневая (Ridge) регрессии оказалась лучше остальных по коэффициенту детерминации. На тестовом наборе слегка лучше оказалась гребневая регрессия. Средний коэффициент детерминации регрессора оказался немного выше у полиномиальной регрессии.** \n",
    "\n",
    "**Но всё это очень низкие показатели. Предсказание никакое. И причина этого в наборе данных.**"
   ]
  }
 ],
 "metadata": {
  "kernelspec": {
   "display_name": "Python 3",
   "language": "python",
   "name": "python3"
  },
  "language_info": {
   "codemirror_mode": {
    "name": "ipython",
    "version": 3
   },
   "file_extension": ".py",
   "mimetype": "text/x-python",
   "name": "python",
   "nbconvert_exporter": "python",
   "pygments_lexer": "ipython3",
   "version": "3.9.2"
  }
 },
 "nbformat": 4,
 "nbformat_minor": 4
}
