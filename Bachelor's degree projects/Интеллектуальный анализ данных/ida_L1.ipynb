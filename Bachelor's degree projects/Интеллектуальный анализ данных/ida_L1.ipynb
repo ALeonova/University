{
 "cells": [
  {
   "cell_type": "markdown",
   "metadata": {},
   "source": [
    "### РОССИЙСКИЙ УНИВЕРСИТЕТ ДРУЖБЫ НАРОДОВ"
   ]
  },
  {
   "cell_type": "markdown",
   "metadata": {},
   "source": [
    "#### Факультет физико-математических и естественных наук  \n",
    "#### Кафедра информационных технологий "
   ]
  },
  {
   "cell_type": "markdown",
   "metadata": {},
   "source": [
    "## ОТЧЕТ ПО ЛАБОРАТОРНОЙ РАБОТЕ №1"
   ]
  },
  {
   "cell_type": "markdown",
   "metadata": {},
   "source": [
    "#### Дисциплина: Интеллектуальный анализ данных"
   ]
  },
  {
   "cell_type": "markdown",
   "metadata": {},
   "source": [
    "##### Студент:   Леонова Алина\n",
    "##### Группа:    НФИбд-02-17"
   ]
  },
  {
   "cell_type": "markdown",
   "metadata": {},
   "source": [
    "### Москва 2020\n",
    "***"
   ]
  },
  {
   "cell_type": "markdown",
   "metadata": {},
   "source": [
    "### Вариант №5"
   ]
  },
  {
   "cell_type": "markdown",
   "metadata": {},
   "source": [
    "\n",
    "***\n",
    "#### Постановка задачи:\n",
    "+ Используя функционал библиотеки NumPy, постройте n значений случайных признаков X и Y , имеющих (двумерное) гауссовское распределение с математическим ожиданием a и ковариационной матрицей R .\n",
    "+ Вычислите и выведите на экран для построенных значений признаков X и Y математические ожидания, дисперсии, а также корреляцию между признаками.\n",
    "+ Визуализируйте построенные данные на плоскости в виде точек. Визуализируйте математическое ожидание на плоскости в виде точки другого цвета и с другим маркером."
   ]
  },
  {
   "cell_type": "code",
   "execution_count": 1,
   "metadata": {},
   "outputs": [],
   "source": [
    "import numpy as np"
   ]
  },
  {
   "cell_type": "code",
   "execution_count": 2,
   "metadata": {},
   "outputs": [
    {
     "name": "stdout",
     "output_type": "stream",
     "text": [
      "X = [-1.19178764 -0.51029598 -0.29449762  0.66776054 -0.45283075 -0.2317176\n",
      " -0.93418346 -0.26037622  0.95337607  0.40148415 -0.27926381 -1.46280657\n",
      " -0.31119434  0.52652363 -0.57119437  0.94968081  0.57868602  0.32335441\n",
      "  0.4509558  -2.46323187 -1.35394312 -0.38419373 -0.23592298  1.05105329\n",
      " -1.72916232  0.60811981 -0.93373937 -0.46253124 -1.08806483 -0.52809037\n",
      " -2.85236024  2.33368759 -0.87871124  0.02873442  0.70109552  0.3896181\n",
      " -1.85361751  0.02667264  0.96444299  0.13703229  0.2906264   0.45010838\n",
      "  0.68247018  0.17363227 -1.65536574 -0.02999153  0.19767207 -1.73298327\n",
      " -0.74292996  0.55538536  0.49576536 -0.5367569   0.7275122   0.6496276\n",
      " -1.05568182 -0.35997246  0.23784604 -0.73621096 -2.09235979 -0.05340851\n",
      " -2.50150597 -1.4776184   2.00608652 -1.54534677  0.34433766 -0.91700126\n",
      "  0.34143188 -0.43403198  0.26491556  1.40351529  0.29859011  0.18515466\n",
      "  1.73206995 -0.03801949  0.874306    0.51441964 -0.49934582 -0.70094656\n",
      "  1.55435844 -1.06054336  1.47708022 -1.11334262  2.15999302 -1.54488525\n",
      "  0.70301679 -1.15672381  0.96605388 -0.29854565  0.22307963  0.23346083\n",
      " -0.10927632  1.2405392   1.48150758  0.550979   -0.78536083 -0.68421937\n",
      "  0.18791549  0.01397427  0.39666217  1.15215742]\n",
      "Y = [ 2.98667681  2.01523954  1.20863109  0.82249329  2.78508543 -0.54863839\n",
      "  2.41764542  1.0771136   0.89109648  0.20688097  2.17907004  4.61451026\n",
      "  2.89168971  0.4442277   0.5874717   1.41390494 -0.74434601  2.96025078\n",
      "  0.61841216  5.00522961  2.68442697  1.50948958 -0.10790539 -0.39055038\n",
      "  1.71752314  1.41899092  4.53246269  0.66909237  3.36038096  2.99681926\n",
      "  3.28347541 -2.4574876   2.98785273  1.61895942 -0.8574031   2.44966103\n",
      "  4.61390736  0.45236496  0.17061273  1.50260611 -1.50872102 -1.08610407\n",
      " -1.76496508  2.3214695   3.55605673  0.27112437 -1.76412887  2.94411357\n",
      " -1.06530758  0.9266974   0.14451277 -2.35182649 -0.09560823  0.8410032\n",
      "  0.94623809  0.61701718  1.95495884 -0.86426911  3.12397224  1.17113758\n",
      "  3.62383844  2.71956038 -1.1621152   1.5047589   0.61750984  3.44642579\n",
      "  0.23813442  0.12438202  1.3641093  -0.26192992  3.35454882  1.30361528\n",
      "  0.05000061 -0.37583794  0.20313439  0.20704654  1.25080864  2.36109136\n",
      "  2.33625982  2.04785261 -0.63925692  4.19647846  0.41203655  1.90686771\n",
      " -0.12153839  1.99335626  0.5966125   3.53093436  1.19900204  0.09328922\n",
      "  0.30140911  0.80768768 -0.04107206  0.00575632  1.95870783  0.39676394\n",
      "  1.23113281  0.26601719 -1.53933045 -0.26333855]\n"
     ]
    }
   ],
   "source": [
    "n = 100\n",
    "a = [0,1]\n",
    "R = [[1,-.9],[-.9,2]]\n",
    "x, y = np.random.multivariate_normal(a, R, n).T\n",
    "print(\"X =\", x)  \n",
    "print(\"Y =\", y) "
   ]
  },
  {
   "cell_type": "code",
   "execution_count": 3,
   "metadata": {},
   "outputs": [
    {
     "name": "stdout",
     "output_type": "stream",
     "text": [
      "Математическое ожидание x = -0.09267562386528143\n",
      "Математическое ожидание y = 1.155500050955174\n",
      "Дисперсия x = 1.044033371576741\n",
      "Дисперсия y = 2.6287782046628894\n",
      "Корреляция между x и y =  -0.6357062555386127\n",
      "Корреляционная матрица:\n",
      " [[ 1.         -0.63570626]\n",
      " [-0.63570626  1.        ]]\n"
     ]
    }
   ],
   "source": [
    "print(\"Математическое ожидание x =\", np.mean(x))        \n",
    "print(\"Математическое ожидание y =\", np.mean(y))        \n",
    "print(\"Дисперсия x =\", np.var(x))  \n",
    "print(\"Дисперсия y =\", np.var(y))  \n",
    "print(\"Корреляция между x и y = \", np.corrcoef(x,y)[1,0])\n",
    "print(\"Корреляционная матрица:\\n\", np.corrcoef(x,y))"
   ]
  },
  {
   "cell_type": "code",
   "execution_count": 4,
   "metadata": {},
   "outputs": [
    {
     "data": {
      "text/plain": [
       "Text(0, 0.5, 'y')"
      ]
     },
     "execution_count": 4,
     "metadata": {},
     "output_type": "execute_result"
    },
    {
     "data": {
      "image/png": "[encoded data removed]",
      "text/plain": [
       "<Figure size 432x288 with 1 Axes>"
      ]
     },
     "metadata": {
      "needs_background": "light"
     },
     "output_type": "display_data"
    }
   ],
   "source": [
    "import matplotlib.pyplot as plt\n",
    "\n",
    "plt.plot(x, y, 'ob')\n",
    "plt.plot(a[0],a[1], 'or') #мат ожидание\n",
    "plt.xlabel('x')\n",
    "plt.ylabel('y')"
   ]
  },
  {
   "cell_type": "markdown",
   "metadata": {},
   "source": [
    "---\n",
    "#### Постановка задачи:\n",
    "+ Используя функционал библиотеки Pandas, cчитайте заданный набор данных из репозитария UCI.\n",
    "+ Проведите исследование набора данных, выявляя числовые и категориальные признаки.\n",
    "+ Для числового признака, имеющего наибольшую дисперсию, постройте эмпирическую функцию распределения (CDF) и визуализируйте ее в виде графика на плоскости.\n",
    "+ Найдите числовой признак, наименее коррелированный с числовым признаком, имеющим наибольшую дисперсию.\n",
    "+ Для этого признака постройте эмпирическую плотность распределения (PDF) и визуализируйте ее в виде гистограммы.\n",
    "+ Вычислите и выведите на экран для указанных выше двух признаков математические ожидания, дисперсии, а также корреляцию между признаками."
   ]
  },
  {
   "cell_type": "code",
   "execution_count": 5,
   "metadata": {},
   "outputs": [],
   "source": [
    "import pandas as pd"
   ]
  },
  {
   "cell_type": "markdown",
   "metadata": {},
   "source": [
    "**Заданного в описании вариантов файла не было по данной там ссылке и я решила использовать единственный файл оттуда типа `.data`**  "
   ]
  },
  {
   "cell_type": "code",
   "execution_count": 6,
   "metadata": {},
   "outputs": [
    {
     "name": "stdout",
     "output_type": "stream",
     "text": [
      "\n",
      "*** Начало данных:\n",
      "   V0     V1     V2 V3 V4 V5 V6    V7 V8 V9  V10 V11 V12    V13  V14 V15\n",
      "0  b  30.83  0.000  u  g  w  v  1.25  t  t    1   f   g  00202    0   +\n",
      "1  a  58.67  4.460  u  g  q  h  3.04  t  t    6   f   g  00043  560   +\n",
      "2  a  24.50  0.500  u  g  q  h  1.50  t  f    0   f   g  00280  824   +\n",
      "3  b  27.83  1.540  u  g  w  v  3.75  t  t    5   t   g  00100    3   +\n",
      "4  b  20.17  5.625  u  g  w  v  1.71  t  f    0   f   s  00120    0   +\n",
      "\n",
      "*** Конец данных:\n",
      "     V0     V1      V2 V3 V4  V5  V6    V7 V8 V9  V10 V11 V12    V13  V14 V15\n",
      "685  b  21.08  10.085  y  p   e   h  1.25  f  f    0   f   g  00260    0   -\n",
      "686  a  22.67   0.750  u  g   c   v  2.00  f  t    2   t   g  00200  394   -\n",
      "687  a  25.25  13.500  y  p  ff  ff  2.00  f  t    1   t   g  00200    1   -\n",
      "688  b  17.92   0.205  u  g  aa   v  0.04  f  f    0   f   g  00280  750   -\n",
      "689  b  35.00   3.375  u  g   c   h  8.29  f  f    0   t   g  00000    0   -\n",
      "\n",
      "*** Сводка данных:\n",
      "                V2          V7        V10            V14\n",
      "count  690.000000  690.000000  690.00000     690.000000\n",
      "mean     4.758725    2.223406    2.40000    1017.385507\n",
      "std      4.978163    3.346513    4.86294    5210.102598\n",
      "min      0.000000    0.000000    0.00000       0.000000\n",
      "25%      1.000000    0.165000    0.00000       0.000000\n",
      "50%      2.750000    1.000000    0.00000       5.000000\n",
      "75%      7.207500    2.625000    3.00000     395.500000\n",
      "max     28.000000   28.500000   67.00000  100000.000000\n"
     ]
    }
   ],
   "source": [
    "import pandas as pd\n",
    "\n",
    "url = \\\n",
    "\"https://archive.ics.uci.edu/ml/machine-learning-databases/credit-screening/crx.data\"\n",
    "\n",
    "# read data into pandas data frame\n",
    "data = pd.read_csv( url, header=None, prefix=\"V\" )\n",
    "\n",
    "print( \"\\n*** Начало данных:\\n\", data.head() )\n",
    "print( \"\\n*** Конец данных:\\n\",  data.tail() )\n",
    "\n",
    "summary = data.describe() \n",
    "print( \"\\n*** Сводка данных:\\n\", summary)"
   ]
  },
  {
   "cell_type": "markdown",
   "metadata": {},
   "source": [
    "**Выше были высчитаны основные статистические значения для числовых признаков. Признаки V1 и V13 также являются числовыми, но там присутсвуют \"?\", не хватает значений. Все остальные признаки являются категориальными.**\n",
    "\n",
    "**Для дальнейшего выполнения работы избавляюсь от нечисловых элементов:**"
   ]
  },
  {
   "cell_type": "code",
   "execution_count": 7,
   "metadata": {},
   "outputs": [
    {
     "name": "stdout",
     "output_type": "stream",
     "text": [
      "     V0     V1      V2  V3  V4  V5  V6    V7  V8  V9  V10  V11  V12    V13  \\\n",
      "0   NaN  30.83   0.000 NaN NaN NaN NaN  1.25 NaN NaN    1  NaN  NaN  202.0   \n",
      "1   NaN  58.67   4.460 NaN NaN NaN NaN  3.04 NaN NaN    6  NaN  NaN   43.0   \n",
      "2   NaN  24.50   0.500 NaN NaN NaN NaN  1.50 NaN NaN    0  NaN  NaN  280.0   \n",
      "3   NaN  27.83   1.540 NaN NaN NaN NaN  3.75 NaN NaN    5  NaN  NaN  100.0   \n",
      "4   NaN  20.17   5.625 NaN NaN NaN NaN  1.71 NaN NaN    0  NaN  NaN  120.0   \n",
      "..   ..    ...     ...  ..  ..  ..  ..   ...  ..  ..  ...  ...  ...    ...   \n",
      "685 NaN  21.08  10.085 NaN NaN NaN NaN  1.25 NaN NaN    0  NaN  NaN  260.0   \n",
      "686 NaN  22.67   0.750 NaN NaN NaN NaN  2.00 NaN NaN    2  NaN  NaN  200.0   \n",
      "687 NaN  25.25  13.500 NaN NaN NaN NaN  2.00 NaN NaN    1  NaN  NaN  200.0   \n",
      "688 NaN  17.92   0.205 NaN NaN NaN NaN  0.04 NaN NaN    0  NaN  NaN  280.0   \n",
      "689 NaN  35.00   3.375 NaN NaN NaN NaN  8.29 NaN NaN    0  NaN  NaN    0.0   \n",
      "\n",
      "     V14  V15  \n",
      "0      0  NaN  \n",
      "1    560  NaN  \n",
      "2    824  NaN  \n",
      "3      3  NaN  \n",
      "4      0  NaN  \n",
      "..   ...  ...  \n",
      "685    0  NaN  \n",
      "686  394  NaN  \n",
      "687    1  NaN  \n",
      "688  750  NaN  \n",
      "689    0  NaN  \n",
      "\n",
      "[690 rows x 16 columns]\n"
     ]
    }
   ],
   "source": [
    "from pandas import DataFrame\n",
    "df = DataFrame(data)\n",
    "\n",
    "dfn = df.apply(pd.to_numeric, args=('coerce',)) \n",
    "print(dfn)"
   ]
  },
  {
   "cell_type": "code",
   "execution_count": 8,
   "metadata": {},
   "outputs": [
    {
     "name": "stdout",
     "output_type": "stream",
     "text": [
      "        V1      V2    V7  V10    V13  V14\n",
      "0    30.83   0.000  1.25    1  202.0    0\n",
      "1    58.67   4.460  3.04    6   43.0  560\n",
      "2    24.50   0.500  1.50    0  280.0  824\n",
      "3    27.83   1.540  3.75    5  100.0    3\n",
      "4    20.17   5.625  1.71    0  120.0    0\n",
      "..     ...     ...   ...  ...    ...  ...\n",
      "685  21.08  10.085  1.25    0  260.0    0\n",
      "686  22.67   0.750  2.00    2  200.0  394\n",
      "687  25.25  13.500  2.00    1  200.0    1\n",
      "688  17.92   0.205  0.04    0  280.0  750\n",
      "689  35.00   3.375  8.29    0    0.0    0\n",
      "\n",
      "[690 rows x 6 columns]\n",
      "               V1          V2          V7        V10          V13  \\\n",
      "count  678.000000  690.000000  690.000000  690.00000   677.000000   \n",
      "mean    31.568171    4.758725    2.223406    2.40000   184.014771   \n",
      "std     11.957862    4.978163    3.346513    4.86294   173.806768   \n",
      "min     13.750000    0.000000    0.000000    0.00000     0.000000   \n",
      "25%     22.602500    1.000000    0.165000    0.00000    75.000000   \n",
      "50%     28.460000    2.750000    1.000000    0.00000   160.000000   \n",
      "75%     38.230000    7.207500    2.625000    3.00000   276.000000   \n",
      "max     80.250000   28.000000   28.500000   67.00000  2000.000000   \n",
      "\n",
      "                 V14  \n",
      "count     690.000000  \n",
      "mean     1017.385507  \n",
      "std      5210.102598  \n",
      "min         0.000000  \n",
      "25%         0.000000  \n",
      "50%         5.000000  \n",
      "75%       395.500000  \n",
      "max    100000.000000  \n"
     ]
    }
   ],
   "source": [
    "#оставляю только интересующие признаки\n",
    "dfncut = dfn[['V1','V2','V7','V10','V13','V14']]\n",
    "print(dfncut)\n",
    "print(dfncut.describe()) "
   ]
  },
  {
   "cell_type": "markdown",
   "metadata": {},
   "source": [
    "\n",
    "**Наибольшую дисперсию имеет признак, имеющий наибольшее стандартное отклонение. В сводке видно, что std признака V14 значительно превышает остальные, значит предстоит строить CDF для него.**\n",
    "\n",
    "+ Для числового признака, имеющего наибольшую дисперсию, **постройте эмпирическую функцию распределения (CDF) и визуализируйте ее в виде графика на плоскости.**"
   ]
  },
  {
   "cell_type": "code",
   "execution_count": 9,
   "metadata": {},
   "outputs": [
    {
     "data": {
      "image/png": "[encoded data removed]",
      "text/plain": [
       "<Figure size 432x288 with 1 Axes>"
      ]
     },
     "metadata": {
      "needs_background": "light"
     },
     "output_type": "display_data"
    }
   ],
   "source": [
    "def ECDF(data, x):\n",
    "    counter = 0.0\n",
    "    for v in data:\n",
    "        if v <= x:\n",
    "            counter += 1\n",
    "    return counter / len(data)\n",
    "\n",
    "samples = dfncut['V14']\n",
    "npoints = len(dfncut)\n",
    "\n",
    "xlist = [samples.min()+(samples.max()-samples.min())*i/npoints for i in range(0,npoints)]\n",
    "ylist = [ECDF(samples, x) for x in xlist]\n",
    "\n",
    "plt.plot(xlist, ylist,'r');"
   ]
  },
  {
   "cell_type": "markdown",
   "metadata": {},
   "source": [
    "+ Найдите числовой признак, наименее коррелированный с числовым признаком, имеющим наибольшую дисперсию."
   ]
  },
  {
   "cell_type": "code",
   "execution_count": 10,
   "metadata": {},
   "outputs": [
    {
     "name": "stdout",
     "output_type": "stream",
     "text": [
      "Корреляция между:\n",
      "V14 и V1:\n",
      " [[ 1. nan]\n",
      " [nan nan]]\n",
      "V14 и V2:\n",
      " [[1.         0.12312115]\n",
      " [0.12312115 1.        ]]\n",
      "V14 и V7:\n",
      " [[1.         0.05134493]\n",
      " [0.05134493 1.        ]]\n",
      "V14 и V10:\n",
      " [[1.         0.06369244]\n",
      " [0.06369244 1.        ]]\n",
      "V14 и V13:\n",
      " [[ 1. nan]\n",
      " [nan nan]]\n"
     ]
    }
   ],
   "source": [
    "print('Корреляция между:')\n",
    "for t in ('V1','V2','V7','V10','V13'):\n",
    "        print(f'V14 и {t}:\\n', np.corrcoef(dfncut['V14'],dfncut[t]))"
   ]
  },
  {
   "cell_type": "code",
   "execution_count": 14,
   "metadata": {},
   "outputs": [
    {
     "name": "stdout",
     "output_type": "stream",
     "text": [
      "Корреляция между:\n",
      "V14 и V1 =  0.018538807713639634\n",
      "V14 и V2 =  0.12312115311068293\n",
      "V14 и V7 =  0.05134492914461604\n",
      "V14 и V10 =  0.06369243933021197\n",
      "V14 и V13 =  0.06560933417678688\n"
     ]
    }
   ],
   "source": [
    "#заменяю nan на среднее значение соответствующего столбца\n",
    "v1 = dfncut['V1']\n",
    "av1 = np.mean(v1)\n",
    "v13 = dfncut['V13']\n",
    "av13 = np.mean(v13)\n",
    "\n",
    "dfncut.fillna(value = {'V1':av1, 'V13':av13}, inplace = True)\n",
    "\n",
    "v14 = dfncut['V14']\n",
    "\n",
    "#повторяю поиск корреляции\n",
    "print('Корреляция между:')\n",
    "print('V14 и V1 = ', np.corrcoef(v14,v1)[1,0])\n",
    "for t in ('V2','V7','V10'):\n",
    "        print(f'V14 и {t} = ', np.corrcoef(v14,dfncut[t])[1,0])\n",
    "print('V14 и V13 = ', np.corrcoef(v14,v13)[1,0] )"
   ]
  },
  {
   "cell_type": "markdown",
   "metadata": {},
   "source": [
    "**Призкак V1 оказался наименее коррелированным с числовым признаком, имеющим наибольшую дисперсию.**\n",
    "+ Для этого признака постройте эмпирическую плотность распределения (PDF) и визуализируйте ее в виде гистограммы."
   ]
  },
  {
   "cell_type": "code",
   "execution_count": 15,
   "metadata": {},
   "outputs": [
    {
     "data": {
      "text/plain": [
       "Text(0, 0.5, 'PDF')"
      ]
     },
     "execution_count": 15,
     "metadata": {},
     "output_type": "execute_result"
    },
    {
     "data": {
      "image/png": "[encoded data removed]",
      "text/plain": [
       "<Figure size 432x288 with 1 Axes>"
      ]
     },
     "metadata": {
      "needs_background": "light"
     },
     "output_type": "display_data"
    }
   ],
   "source": [
    "plt.hist(v1, color = 'yellow', edgecolor = 'black', bins = 20, density=True)\n",
    "\n",
    "plt.title('Эмпирическая плотность распределения PDF признака V1')\n",
    "plt.xlabel('V1')\n",
    "plt.ylabel('PDF')"
   ]
  },
  {
   "cell_type": "markdown",
   "metadata": {},
   "source": [
    "+ Вычислите и выведите на экран для указанных выше двух признаков математические ожидания, дисперсии, а также корреляцию между признаками."
   ]
  },
  {
   "cell_type": "code",
   "execution_count": 16,
   "metadata": {},
   "outputs": [
    {
     "name": "stdout",
     "output_type": "stream",
     "text": [
      "Математическое ожидание V14 = 1017.3855072463768\n",
      "Математическое ожидание V1 = 31.56817109144546\n",
      "Дисперсия V14 = 27105828.26007988\n",
      "Дисперсия V1 = 140.29645207558465\n",
      "Корреляция между V14 и V1 =  0.018538807713639634\n",
      "Корреляционная матрица:\n",
      " [[1.         0.01853881]\n",
      " [0.01853881 1.        ]]\n"
     ]
    }
   ],
   "source": [
    "print(\"Математическое ожидание V14 =\", np.mean(v14))        \n",
    "print(\"Математическое ожидание V1 =\", np.mean(v1))        \n",
    "print(\"Дисперсия V14 =\",  np.var(v14))  \n",
    "print(\"Дисперсия V1 =\",  np.var(v1))  \n",
    "print(\"Корреляция между V14 и V1 = \", np.corrcoef(v14,v1)[1,0])\n",
    "print(\"Корреляционная матрица:\\n\", np.corrcoef(v14,v1))"
   ]
  }
 ],
 "metadata": {
  "kernelspec": {
   "display_name": "Python 3",
   "language": "python",
   "name": "python3"
  },
  "language_info": {
   "codemirror_mode": {
    "name": "ipython",
    "version": 3
   },
   "file_extension": ".py",
   "mimetype": "text/x-python",
   "name": "python",
   "nbconvert_exporter": "python",
   "pygments_lexer": "ipython3",
   "version": "3.9.2"
  }
 },
 "nbformat": 4,
 "nbformat_minor": 4
}
