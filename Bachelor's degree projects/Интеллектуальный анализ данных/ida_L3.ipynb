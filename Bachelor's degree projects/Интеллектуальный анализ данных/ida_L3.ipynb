{
 "cells": [
  {
   "cell_type": "markdown",
   "metadata": {},
   "source": [
    "### РОССИЙСКИЙ УНИВЕРСИТЕТ ДРУЖБЫ НАРОДОВ"
   ]
  },
  {
   "cell_type": "markdown",
   "metadata": {},
   "source": [
    "#### Факультет физико-математических и естественных наук  \n",
    "#### Кафедра информационных технологий "
   ]
  },
  {
   "cell_type": "markdown",
   "metadata": {},
   "source": [
    "## ОТЧЕТ ПО ЛАБОРАТОРНОЙ РАБОТЕ №3"
   ]
  },
  {
   "cell_type": "markdown",
   "metadata": {},
   "source": [
    "#### Дисциплина: Интеллектуальный анализ данных"
   ]
  },
  {
   "cell_type": "markdown",
   "metadata": {},
   "source": [
    "##### Студент:   Леонова Алина\n",
    "##### Группа:    НФИбд-02-17"
   ]
  },
  {
   "cell_type": "markdown",
   "metadata": {},
   "source": [
    "### Москва 2020\n",
    "***"
   ]
  },
  {
   "cell_type": "markdown",
   "metadata": {},
   "source": [
    "### Вариант №3"
   ]
  },
  {
   "cell_type": "markdown",
   "metadata": {},
   "source": [
    "\n",
    "***\n",
    "#### Постановка задачи:\n",
    "+ При помощи модуля sqlite3 откройте базу данных Instacart в файле instacart.db.\n",
    "+ При помощи запроса SELECT извлеките из таблицы order_products__train записи, соответствующие указанным в индивидуальном задании дню недели (поле order_dow таблицы orders) и коду департамента (поле department_id таблицы products). Определите количество записей в полученном наборе и определите количество товаров (поле order_id таблицы order_products__train) в транзакциях набора.\n",
    "+ Определите количество покупок (транзакций) для пяти наиболее популярных товаров в наборе.\n",
    "+ Постройте транзакционную базу данных для поиск ассоциативных правил из полученного набора записей таблицы order_products__train, используя в качестве идентификатора транзакции поле order_id, а в качестве названий товаров - поле product_name из таблицы products, соответствующее полю product_id.\n",
    "+ Реализуйте указанный в индивидуальном задании метод построения популярных наборов предметов (Apriori/Eclat/Declat) (3 балла) или используйте метод BruteForce (0 баллов). Протестируйте корректность реализации алгоритма на учебном наборе данных из материалов лекции.\n",
    "+ При помощи указанного в индивидуальном задании метода или метода BruteForce постройте популярные наборы товаров с минимальной поддержкой, равной половине среднего количества покупок пяти наиболее популярных товаров. В случае нехватки вычислительных ресурсов для построения популярных наборов товаров оставьте в наборе данных транзакции с 10 наиболее популярными товарами и повторите расчет.\n",
    "+ Для какого-либо из полученных популярных наборов товаров постройте набор ассоциативных правил.\n",
    "+ Для построенного набора ассоциативных правил вычислите показатели: support, confidence, lift, leverage, conviction и выведите на экран.\n",
    "***\n",
    "+ Алгоритм: Apriori\n",
    "+ День недели (поле order_dow таблицы orders): “6”\n",
    "+ Код департамента (поле department_id таблицы products): “11” personal care\n",
    "***"
   ]
  },
  {
   "cell_type": "code",
   "execution_count": null,
   "metadata": {},
   "outputs": [],
   "source": [
    "import sqlite3\n",
    "conn = sqlite3.connect('instacart.db')\n",
    "cursor = conn.cursor()"
   ]
  },
  {
   "cell_type": "markdown",
   "metadata": {},
   "source": [
    "**Извлечение из таблицы order_products__train записей, соответствующих дню недели '6' (поле order_dow таблицы orders) и коду департамента '11' (поле department_id таблицы products). Вывожу первые 10 строк order_products__train и для проверки правильности работы поля order_dow и department_id**"
   ]
  },
  {
   "cell_type": "code",
   "execution_count": 2,
   "metadata": {},
   "outputs": [
    {
     "name": "stdout",
     "output_type": "stream",
     "text": [
      "('2461523', '25997', '10', '1', '6', '11')\n",
      "('537105', '19513', '3', '0', '6', '11')\n",
      "('537105', '9047', '1', '0', '6', '11')\n",
      "('1007973', '22237', '6', '0', '6', '11')\n",
      "('1007973', '24467', '19', '1', '6', '11')\n",
      "('1007973', '35339', '8', '0', '6', '11')\n",
      "('1007973', '39220', '21', '0', '6', '11')\n",
      "('1007973', '41782', '7', '0', '6', '11')\n",
      "('1131395', '27544', '8', '1', '6', '11')\n",
      "('524863', '14398', '2', '1', '6', '11')\n"
     ]
    }
   ],
   "source": [
    "for row in cursor.execute(\"\"\"\n",
    "    SELECT ord.order_id, ord.product_id, ord.add_to_cart_order, \n",
    "    ord.reordered, o.order_dow, p.department_id\n",
    "    FROM order_products__train ord, orders o, products p\n",
    "    WHERE ord.order_id = o.order_id and ord.product_id = p.product_id \n",
    "    and o.order_dow = \"6\" and p.department_id = \"11\" \n",
    "    LIMIT 10\n",
    "    \"\"\"):\n",
    "    print(row)"
   ]
  },
  {
   "cell_type": "markdown",
   "metadata": {},
   "source": [
    "**Определение количества записей в полученном наборе и количества товаров (поле order_id таблицы order_products__train) в транзакциях набора**"
   ]
  },
  {
   "cell_type": "code",
   "execution_count": 3,
   "metadata": {},
   "outputs": [
    {
     "name": "stdout",
     "output_type": "stream",
     "text": [
      "(количество записей в полученном наборе,  количество уникальных товаров)\n",
      "(3448, 1776)\n",
      "\n",
      "Количество товаров в каждом заказе (первые 10 строк)\n",
      "('1000640', 1)\n",
      "('1000687', 1)\n",
      "('1002166', 2)\n",
      "('1003123', 1)\n",
      "('1003564', 2)\n",
      "('1005001', 1)\n",
      "('100578', 2)\n",
      "('1006311', 1)\n",
      "('1007973', 5)\n",
      "('1008188', 2)\n"
     ]
    }
   ],
   "source": [
    "print(\"(количество записей в полученном наборе, \",\"количество уникальных товаров)\")\n",
    "for row in cursor.execute(\"\"\"\n",
    "    SELECT count(ord.order_id), count(DISTINCT ord.product_id) \n",
    "    FROM order_products__train ord, orders o, products p\n",
    "    WHERE ord.order_id = o.order_id and ord.product_id = p.product_id \n",
    "    and o.order_dow = \"6\" and p.department_id = \"11\" \n",
    "    \"\"\"):\n",
    "    print(row)\n",
    "    \n",
    "print(\"\\nКоличество товаров в каждом заказе (первые 10 строк)\")\n",
    "for row in cursor.execute(\"\"\"\n",
    "    SELECT ord.order_id, count(ord.product_id) \n",
    "    FROM order_products__train ord, orders o, products p\n",
    "    WHERE ord.order_id = o.order_id and ord.product_id = p.product_id \n",
    "    and o.order_dow = \"6\" and p.department_id = \"11\"\n",
    "    GROUP BY ord.order_id\n",
    "    LIMIT 10\n",
    "    \"\"\"):\n",
    "    print(row)"
   ]
  },
  {
   "cell_type": "markdown",
   "metadata": {},
   "source": [
    "**Определение количества покупок (транзакций) для пяти наиболее популярных товаров в наборе**"
   ]
  },
  {
   "cell_type": "code",
   "execution_count": 4,
   "metadata": {},
   "outputs": [
    {
     "name": "stdout",
     "output_type": "stream",
     "text": [
      "(id товара, название, количество покупок)\n",
      "('33493', 'Cotton Swabs', 36)\n",
      "('12312', 'Lavender Hand Soap', 35)\n",
      "('27544', 'Lemon Verbena Hand Soap', 29)\n",
      "('29418', 'Fluoride-Free Antiplaque & Whitening Peppermint Toothpaste', 29)\n",
      "('9047', 'Premium Epsom Salt', 23)\n"
     ]
    }
   ],
   "source": [
    "print(\"(id товара, название, количество покупок)\")\n",
    "for row in cursor.execute(\"\"\"\n",
    "    SELECT p.product_id, p.product_name, count(ord.product_id) as num\n",
    "    FROM order_products__train ord, orders o, products p\n",
    "    WHERE ord.order_id = o.order_id and ord.product_id = p.product_id \n",
    "    and o.order_dow = \"6\" and p.department_id = \"11\"\n",
    "    GROUP BY p.product_id\n",
    "    ORDER BY num desc limit 5\n",
    "    \"\"\"):\n",
    "    print(row)"
   ]
  },
  {
   "cell_type": "markdown",
   "metadata": {},
   "source": [
    "**Строю транзакционную базу данных для поиск ассоциативных правил из полученного набора записей таблицы order_products__train, используя в качестве идентификатора транзакции поле order_id, а в качестве названий товаров - поле product_name из таблицы products, соответствующее полю product_id**"
   ]
  },
  {
   "cell_type": "code",
   "execution_count": 5,
   "metadata": {},
   "outputs": [],
   "source": [
    "tr_base = {}\n",
    "for row in cursor.execute(\"\"\"\n",
    "    SELECT ord.order_id, p.product_name\n",
    "    FROM order_products__train ord, orders o, products p\n",
    "    WHERE ord.order_id = o.order_id and ord.product_id = p.product_id \n",
    "    and o.order_dow = \"6\" and p.department_id = \"11\" \n",
    "    \"\"\"):\n",
    "    if tr_base.get( int(row[0]) ):\n",
    "        tr_base[ int(row[0]) ].add(row[1])\n",
    "    else:\n",
    "        tr_base[ int(row[0]) ] = {row[1]}"
   ]
  },
  {
   "cell_type": "code",
   "execution_count": 6,
   "metadata": {},
   "outputs": [
    {
     "name": "stdout",
     "output_type": "stream",
     "text": [
      "Первые 5 строчек транзакционной базы данных:\n"
     ]
    },
    {
     "data": {
      "text/plain": [
       "[[2461523,\n",
       "  {\"Doctor Formulated Probiotics Once Daily Women's 50 Billion Guaranteed Vegetarian Capsules\"}],\n",
       " [537105,\n",
       "  {'Moroccan Argan Oil + Argan Stem Cell Triple Moisture Conditioner',\n",
       "   'Premium Epsom Salt'}],\n",
       " [1007973,\n",
       "  {'Body Clear Body Wash',\n",
       "   'Classic Original Scent Deodorant',\n",
       "   'Foamy Sensitive Skin Shaving Cream',\n",
       "   \"Fusion Power Men's Razor Blade Refills\",\n",
       "   'Skin Relief Body Wash Fragrance Free'}],\n",
       " [1131395, {'Lemon Verbena Hand Soap'}],\n",
       " [524863, {'Yerbamate Lemon Energy Shot'}]]"
      ]
     },
     "execution_count": 6,
     "metadata": {},
     "output_type": "execute_result"
    }
   ],
   "source": [
    "data = []\n",
    "for id, products in tr_base.items():\n",
    "    data.append([id, products])\n",
    "print(\"Первые 5 строчек транзакционной базы данных:\") \n",
    "data[:5]"
   ]
  },
  {
   "cell_type": "code",
   "execution_count": 7,
   "metadata": {},
   "outputs": [
    {
     "name": "stdout",
     "output_type": "stream",
     "text": [
      "Первые 5 продуктов из списка всех неповторяющихся продуктов\n"
     ]
    },
    {
     "data": {
      "text/plain": [
       "['Goats Milk & Chai Soap',\n",
       " 'Alka-Seltzer Plus Severe Sinus Day & Night Liquid',\n",
       " 'Fresh Apricot Long Lasting Deodorant',\n",
       " 'Gentle Skin Cleanser',\n",
       " 'Organic Grass Fed Whey Protein Unflavored']"
      ]
     },
     "execution_count": 7,
     "metadata": {},
     "output_type": "execute_result"
    }
   ],
   "source": [
    "I = set()\n",
    "for row in cursor.execute(\"\"\"\n",
    "    SELECT DISTINCT p.product_name\n",
    "    FROM order_products__train ord, orders o, products p\n",
    "    WHERE ord.order_id = o.order_id and ord.product_id = p.product_id \n",
    "    and o.order_dow = \"6\" and p.department_id = \"11\" \n",
    "    \"\"\"):\n",
    "    I.add(row[0])\n",
    "print(\"Первые 5 продуктов из списка всех неповторяющихся продуктов\") \n",
    "list(I)[:5]"
   ]
  },
  {
   "cell_type": "markdown",
   "metadata": {},
   "source": [
    "+ Реализуйте метод построения популярных наборов предметов Apriori. Протестируйте корректность реализации алгоритма на учебном наборе данных из материалов лекции."
   ]
  },
  {
   "cell_type": "markdown",
   "metadata": {},
   "source": [
    "**Алгоритм Apriori** \n",
    "\n",
    "**(я пыталась...слишком долго пыталась...)**"
   ]
  },
  {
   "cell_type": "code",
   "execution_count": 8,
   "metadata": {},
   "outputs": [
    {
     "data": {
      "text/plain": [
       "'\\n# расчёт дерева префиксов\\ndef ExtendPrefixTree( C ):\\n    Xab = set()\\n    for Xa in C:\\n        for Xb in C:\\n            if Xb >  Xa:\\n#???????????????????????????????\\n                if X in C:\\n            supX += 1\\n    return C\\n\\n# Алгоритм Apriori\\ndef Apriori( D, I, minsup ):\\n    F = []\\n    C = []\\n    for i in I:\\n        C = i\\n        sup[i] = 0\\n    \\n    k = 1 #уровень\\n    \\n    while C[k] != []:\\n        sup = ComputeSupport( set(C), D )\\n        for X in powerset( I ):\\n            if sup[X] >= minsup:\\n                F.append( [ X, sup ] )\\n            else \\n                C = C - X\\n        C[k+1] = ExtendPrefixTree(C[k])\\n        k += 1\\nreturn F\\n'"
      ]
     },
     "execution_count": 8,
     "metadata": {},
     "output_type": "execute_result"
    }
   ],
   "source": [
    "# множестов всех подмножеств\n",
    "from itertools import chain, combinations\n",
    "def powerset(iterable):\n",
    "    xs = list(iterable)\n",
    "    return chain.from_iterable(combinations(xs,n) for n in range(len(xs)+1))\n",
    "\n",
    "\n",
    "# расчёт поддержки заданного набора предметов\n",
    "def ComputeSupport( С, D ):\n",
    "    supX = 0\n",
    "    for _,itemset in D:\n",
    "        for X in itemset:\n",
    "            if X in C:\n",
    "                supX += 1\n",
    "    return supX\n",
    "\n",
    "'''\n",
    "# расчёт дерева префиксов\n",
    "def ExtendPrefixTree( C ):\n",
    "    Xab = set()\n",
    "    for Xa in C:\n",
    "        for Xb in C:\n",
    "            if Xb >  Xa:\n",
    "#???????????????????????????????\n",
    "                if X in C:\n",
    "            supX += 1\n",
    "    return C\n",
    "\n",
    "# Алгоритм Apriori\n",
    "def Apriori( D, I, minsup ):\n",
    "    F = []\n",
    "    C = []\n",
    "    for i in I:\n",
    "        C = i\n",
    "        sup[i] = 0\n",
    "    \n",
    "    k = 1 #уровень\n",
    "    \n",
    "    while C[k] != []:\n",
    "        sup = ComputeSupport( set(C), D )\n",
    "        for X in powerset( I ):\n",
    "            if sup[X] >= minsup:\n",
    "                F.append( [ X, sup ] )\n",
    "            else \n",
    "                C = C - X\n",
    "        C[k+1] = ExtendPrefixTree(C[k])\n",
    "        k += 1\n",
    "return F\n",
    "'''"
   ]
  },
  {
   "cell_type": "markdown",
   "metadata": {},
   "source": [
    "**Алгоритм Brute Force**"
   ]
  },
  {
   "cell_type": "code",
   "execution_count": 8,
   "metadata": {},
   "outputs": [],
   "source": [
    "from itertools import chain, combinations\n",
    "def powerset(iterable):\n",
    "    xs = list(iterable)\n",
    "    # возвращаем итератор, а не список\n",
    "    return chain.from_iterable(combinations(xs,n) for n in range(len(xs)+1))\n",
    "\n",
    "def ComputeSupport( X, D ):\n",
    "    supX = 0\n",
    "    for _,itemset in D:\n",
    "        if X.issubset( itemset ):\n",
    "            supX += 1\n",
    "    return supX\n",
    "\n",
    "def BruteForce( D, I, minsup ):\n",
    "    F = []\n",
    "    for X in powerset( I ):\n",
    "        if len( X ) > 0:\n",
    "            supX = ComputeSupport( set( X ), D )\n",
    "            if supX >= minsup:\n",
    "                print(X, supX)\n",
    "                F.append( [ X, supX ] )\n",
    "    return F"
   ]
  },
  {
   "cell_type": "markdown",
   "metadata": {},
   "source": [
    "+ При помощи метода Apriori или Brute Force постройте популярные наборы товаров с минимальной поддержкой, равной половине среднего количества покупок пяти наиболее популярных товаров. В случае нехватки вычислительных ресурсов для построения популярных наборов товаров оставьте в наборе данных транзакции с 10 наиболее популярными товарами и повторите расчет."
   ]
  },
  {
   "cell_type": "markdown",
   "metadata": {},
   "source": [
    "**Вычисление минимальной поддержки**"
   ]
  },
  {
   "cell_type": "code",
   "execution_count": 9,
   "metadata": {},
   "outputs": [
    {
     "name": "stdout",
     "output_type": "stream",
     "text": [
      "[36, 35, 29, 29, 23]\n",
      "Минимальная поддержка =  15.2\n"
     ]
    }
   ],
   "source": [
    "c = []\n",
    "for row in cursor.execute(\"\"\"\n",
    "    SELECT count(ord.product_id) as num\n",
    "    FROM order_products__train ord, orders o, products p\n",
    "    WHERE ord.order_id = o.order_id and ord.product_id = p.product_id \n",
    "    and o.order_dow = \"6\" and p.department_id = \"11\"\n",
    "    GROUP BY p.product_id\n",
    "    ORDER BY num desc limit 5\n",
    "    \"\"\"):\n",
    "    c += row\n",
    "print(c)\n",
    "\n",
    "sum = 0\n",
    "for i in c:\n",
    "    sum += i\n",
    "minsup = (sum / 5) / 2\n",
    "print(\"Минимальная поддержка = \", minsup)"
   ]
  },
  {
   "cell_type": "markdown",
   "metadata": {},
   "source": [
    "**Построение методом Brute Force популярных наборов с минимальной поддержкой, равной половине среднего количества покупок пяти наиболее популярных товаров**"
   ]
  },
  {
   "cell_type": "code",
   "execution_count": 10,
   "metadata": {},
   "outputs": [
    {
     "name": "stdout",
     "output_type": "stream",
     "text": [
      "Популярные наборы при minsup =  15.2\n",
      "('Fluoride-Free Antiplaque & Whitening Peppermint Toothpaste',) 29\n",
      "('Deep Moisture Body Wash',) 18\n",
      "('Makeup Remover Cleansing Towelettes',) 19\n",
      "('Organic Ground Flaxseed',) 19\n",
      "('Vanilla Whey Protein Powder',) 16\n",
      "('Hydrogen Peroxide',) 16\n",
      "('Cotton Swabs',) 36\n",
      "('Epsom Salt',) 16\n",
      "('Lavender Hand Soap',) 35\n",
      "('Clean Day Basil Hand Soap',) 20\n",
      "('Premium Epsom Salt',) 23\n",
      "('Lemon Verbena Hand Soap',) 29\n"
     ]
    },
    {
     "ename": "KeyboardInterrupt",
     "evalue": "",
     "output_type": "error",
     "traceback": [
      "\u001b[1;31m---------------------------------------------------------------------------\u001b[0m",
      "\u001b[1;31mKeyboardInterrupt\u001b[0m                         Traceback (most recent call last)",
      "\u001b[1;32m<ipython-input-10-8815da177172>\u001b[0m in \u001b[0;36m<module>\u001b[1;34m\u001b[0m\n\u001b[0;32m      1\u001b[0m \u001b[0mprint\u001b[0m\u001b[1;33m(\u001b[0m\u001b[1;34m\"Популярные наборы при minsup = \"\u001b[0m\u001b[1;33m,\u001b[0m \u001b[0mminsup\u001b[0m\u001b[1;33m)\u001b[0m\u001b[1;33m\u001b[0m\u001b[1;33m\u001b[0m\u001b[0m\n\u001b[1;32m----> 2\u001b[1;33m \u001b[1;32mfor\u001b[0m \u001b[0mitemset\u001b[0m \u001b[1;32min\u001b[0m \u001b[0mBruteForce\u001b[0m\u001b[1;33m(\u001b[0m \u001b[0mdata\u001b[0m\u001b[1;33m,\u001b[0m \u001b[0mI\u001b[0m\u001b[1;33m,\u001b[0m \u001b[0mminsup\u001b[0m \u001b[1;33m)\u001b[0m\u001b[1;33m:\u001b[0m\u001b[1;33m\u001b[0m\u001b[1;33m\u001b[0m\u001b[0m\n\u001b[0m\u001b[0;32m      3\u001b[0m     \u001b[0mprint\u001b[0m\u001b[1;33m(\u001b[0m\u001b[0mitemset\u001b[0m\u001b[1;33m)\u001b[0m\u001b[1;33m\u001b[0m\u001b[1;33m\u001b[0m\u001b[0m\n",
      "\u001b[1;32m<ipython-input-8-d039e63cb960>\u001b[0m in \u001b[0;36mBruteForce\u001b[1;34m(D, I, minsup)\u001b[0m\n\u001b[0;32m     16\u001b[0m     \u001b[1;32mfor\u001b[0m \u001b[0mX\u001b[0m \u001b[1;32min\u001b[0m \u001b[0mpowerset\u001b[0m\u001b[1;33m(\u001b[0m \u001b[0mI\u001b[0m \u001b[1;33m)\u001b[0m\u001b[1;33m:\u001b[0m\u001b[1;33m\u001b[0m\u001b[1;33m\u001b[0m\u001b[0m\n\u001b[0;32m     17\u001b[0m         \u001b[1;32mif\u001b[0m \u001b[0mlen\u001b[0m\u001b[1;33m(\u001b[0m \u001b[0mX\u001b[0m \u001b[1;33m)\u001b[0m \u001b[1;33m>\u001b[0m \u001b[1;36m0\u001b[0m\u001b[1;33m:\u001b[0m\u001b[1;33m\u001b[0m\u001b[1;33m\u001b[0m\u001b[0m\n\u001b[1;32m---> 18\u001b[1;33m             \u001b[0msupX\u001b[0m \u001b[1;33m=\u001b[0m \u001b[0mComputeSupport\u001b[0m\u001b[1;33m(\u001b[0m \u001b[0mset\u001b[0m\u001b[1;33m(\u001b[0m \u001b[0mX\u001b[0m \u001b[1;33m)\u001b[0m\u001b[1;33m,\u001b[0m \u001b[0mD\u001b[0m \u001b[1;33m)\u001b[0m\u001b[1;33m\u001b[0m\u001b[1;33m\u001b[0m\u001b[0m\n\u001b[0m\u001b[0;32m     19\u001b[0m             \u001b[1;32mif\u001b[0m \u001b[0msupX\u001b[0m \u001b[1;33m>=\u001b[0m \u001b[0mminsup\u001b[0m\u001b[1;33m:\u001b[0m\u001b[1;33m\u001b[0m\u001b[1;33m\u001b[0m\u001b[0m\n\u001b[0;32m     20\u001b[0m                 \u001b[0mprint\u001b[0m\u001b[1;33m(\u001b[0m\u001b[0mX\u001b[0m\u001b[1;33m,\u001b[0m \u001b[0msupX\u001b[0m\u001b[1;33m)\u001b[0m\u001b[1;33m\u001b[0m\u001b[1;33m\u001b[0m\u001b[0m\n",
      "\u001b[1;32m<ipython-input-8-d039e63cb960>\u001b[0m in \u001b[0;36mComputeSupport\u001b[1;34m(X, D)\u001b[0m\n\u001b[0;32m      8\u001b[0m     \u001b[0msupX\u001b[0m \u001b[1;33m=\u001b[0m \u001b[1;36m0\u001b[0m\u001b[1;33m\u001b[0m\u001b[1;33m\u001b[0m\u001b[0m\n\u001b[0;32m      9\u001b[0m     \u001b[1;32mfor\u001b[0m \u001b[0m_\u001b[0m\u001b[1;33m,\u001b[0m\u001b[0mitemset\u001b[0m \u001b[1;32min\u001b[0m \u001b[0mD\u001b[0m\u001b[1;33m:\u001b[0m\u001b[1;33m\u001b[0m\u001b[1;33m\u001b[0m\u001b[0m\n\u001b[1;32m---> 10\u001b[1;33m         \u001b[1;32mif\u001b[0m \u001b[0mX\u001b[0m\u001b[1;33m.\u001b[0m\u001b[0missubset\u001b[0m\u001b[1;33m(\u001b[0m \u001b[0mitemset\u001b[0m \u001b[1;33m)\u001b[0m\u001b[1;33m:\u001b[0m\u001b[1;33m\u001b[0m\u001b[1;33m\u001b[0m\u001b[0m\n\u001b[0m\u001b[0;32m     11\u001b[0m             \u001b[0msupX\u001b[0m \u001b[1;33m+=\u001b[0m \u001b[1;36m1\u001b[0m\u001b[1;33m\u001b[0m\u001b[1;33m\u001b[0m\u001b[0m\n\u001b[0;32m     12\u001b[0m     \u001b[1;32mreturn\u001b[0m \u001b[0msupX\u001b[0m\u001b[1;33m\u001b[0m\u001b[1;33m\u001b[0m\u001b[0m\n",
      "\u001b[1;31mKeyboardInterrupt\u001b[0m: "
     ]
    }
   ],
   "source": [
    "print(\"Популярные наборы при minsup = \", minsup)\n",
    "for itemset in BruteForce( data, I, minsup ):\n",
    "    print(itemset)"
   ]
  },
  {
   "cell_type": "markdown",
   "metadata": {},
   "source": [
    "**Спустя 30 минут ожидания выполнения алгоритма, оставляю в базе только записи с заказами, в которых присутствует хотябы один из 10 самых популярных продуктов**"
   ]
  },
  {
   "cell_type": "markdown",
   "metadata": {},
   "source": [
    "**(Процесс не заканчивается, видно только наборы из одного элемента)**"
   ]
  },
  {
   "cell_type": "code",
   "execution_count": 11,
   "metadata": {},
   "outputs": [
    {
     "name": "stdout",
     "output_type": "stream",
     "text": [
      "топ 10 продуктов\n",
      "(id товара, название, количество покупок)\n",
      "('33493', 'Cotton Swabs', 36)\n",
      "('12312', 'Lavender Hand Soap', 35)\n",
      "('27544', 'Lemon Verbena Hand Soap', 29)\n",
      "('29418', 'Fluoride-Free Antiplaque & Whitening Peppermint Toothpaste', 29)\n",
      "('9047', 'Premium Epsom Salt', 23)\n",
      "('39162', 'Clean Day Basil Hand Soap', 20)\n",
      "('2309', 'Organic Ground Flaxseed', 19)\n",
      "('280', 'Makeup Remover Cleansing Towelettes', 19)\n",
      "('33439', 'Deep Moisture Body Wash', 18)\n",
      "('14650', 'Vanilla Whey Protein Powder', 16)\n"
     ]
    }
   ],
   "source": [
    "print(\"топ 10 продуктов\\n(id товара, название, количество покупок)\")\n",
    "pop = cursor.execute(\"\"\"\n",
    "    SELECT p.product_id, p.product_name, count(ord.product_id) as num\n",
    "    FROM order_products__train ord, orders o, products p\n",
    "    WHERE ord.order_id = o.order_id and ord.product_id = p.product_id \n",
    "    and o.order_dow = \"6\" and p.department_id = \"11\"\n",
    "    GROUP BY p.product_id\n",
    "    ORDER BY num desc limit 10\n",
    "    \"\"\")\n",
    "ps = set()\n",
    "for row in pop:    \n",
    "    print(row)\n",
    "    ps.add(row[1])"
   ]
  },
  {
   "cell_type": "code",
   "execution_count": 12,
   "metadata": {},
   "outputs": [
    {
     "name": "stdout",
     "output_type": "stream",
     "text": [
      "Стало  237\n",
      "-----------\n",
      "Было  2336\n"
     ]
    },
    {
     "data": {
      "text/plain": [
       "[[537105,\n",
       "  {'Moroccan Argan Oil + Argan Stem Cell Triple Moisture Conditioner',\n",
       "   'Premium Epsom Salt'}],\n",
       " [1131395, {'Lemon Verbena Hand Soap'}],\n",
       " [2339119,\n",
       "  {'Natural Chocolate Flavor Whey Protein Powder',\n",
       "   'Organic Rice Probiotic Drink Blueberry',\n",
       "   'Vanilla Whey Protein Powder'}],\n",
       " [1668533, {'Makeup Remover Cleansing Towelettes'}],\n",
       " [1702162, {'Clean Day Basil Hand Soap'}]]"
      ]
     },
     "execution_count": 12,
     "metadata": {},
     "output_type": "execute_result"
    }
   ],
   "source": [
    "ndata = []\n",
    "nI = set()\n",
    "for id, products in tr_base.items():\n",
    "    for p in products:\n",
    "        if p in ps:\n",
    "            ndata.append([id, products])\n",
    "            for i in products:\n",
    "                nI.add(i)\n",
    "            break\n",
    "\n",
    "print(\"Стало \", len(ndata))\n",
    "print('-----------')\n",
    "print(\"Было \", len(tr_base))\n",
    "\n",
    "list(ndata)[:5]"
   ]
  },
  {
   "cell_type": "markdown",
   "metadata": {},
   "source": [
    "**Построение методом Brute Force популярных наборов с минимальной поддержкой, равной половине среднего количества покупок пяти наиболее популярных товаров, на уменьшенных данных**"
   ]
  },
  {
   "cell_type": "code",
   "execution_count": 13,
   "metadata": {},
   "outputs": [
    {
     "name": "stdout",
     "output_type": "stream",
     "text": [
      "Популярные наборы при minsup =  15.2\n",
      "('Lavender Hand Soap',) 35\n",
      "('Premium Epsom Salt',) 23\n",
      "('Cotton Swabs',) 36\n",
      "('Lemon Verbena Hand Soap',) 29\n",
      "('Deep Moisture Body Wash',) 18\n",
      "('Makeup Remover Cleansing Towelettes',) 19\n",
      "('Organic Ground Flaxseed',) 19\n",
      "('Clean Day Basil Hand Soap',) 20\n",
      "('Vanilla Whey Protein Powder',) 16\n",
      "('Fluoride-Free Antiplaque & Whitening Peppermint Toothpaste',) 29\n"
     ]
    },
    {
     "ename": "KeyboardInterrupt",
     "evalue": "",
     "output_type": "error",
     "traceback": [
      "\u001b[1;31m---------------------------------------------------------------------------\u001b[0m",
      "\u001b[1;31mKeyboardInterrupt\u001b[0m                         Traceback (most recent call last)",
      "\u001b[1;32m<ipython-input-13-ad0259d4a7d7>\u001b[0m in \u001b[0;36m<module>\u001b[1;34m\u001b[0m\n\u001b[0;32m      1\u001b[0m \u001b[0mprint\u001b[0m\u001b[1;33m(\u001b[0m\u001b[1;34m\"Популярные наборы при minsup = \"\u001b[0m\u001b[1;33m,\u001b[0m \u001b[0mminsup\u001b[0m\u001b[1;33m)\u001b[0m\u001b[1;33m\u001b[0m\u001b[1;33m\u001b[0m\u001b[0m\n\u001b[1;32m----> 2\u001b[1;33m \u001b[1;32mfor\u001b[0m \u001b[0mitemset\u001b[0m \u001b[1;32min\u001b[0m \u001b[0mBruteForce\u001b[0m\u001b[1;33m(\u001b[0m \u001b[0mndata\u001b[0m\u001b[1;33m,\u001b[0m \u001b[0mnI\u001b[0m\u001b[1;33m,\u001b[0m \u001b[0mminsup\u001b[0m \u001b[1;33m)\u001b[0m\u001b[1;33m:\u001b[0m\u001b[1;33m\u001b[0m\u001b[1;33m\u001b[0m\u001b[0m\n\u001b[0m\u001b[0;32m      3\u001b[0m     \u001b[0mprint\u001b[0m\u001b[1;33m(\u001b[0m\u001b[0mitemset\u001b[0m\u001b[1;33m)\u001b[0m\u001b[1;33m\u001b[0m\u001b[1;33m\u001b[0m\u001b[0m\n",
      "\u001b[1;32m<ipython-input-8-d039e63cb960>\u001b[0m in \u001b[0;36mBruteForce\u001b[1;34m(D, I, minsup)\u001b[0m\n\u001b[0;32m     16\u001b[0m     \u001b[1;32mfor\u001b[0m \u001b[0mX\u001b[0m \u001b[1;32min\u001b[0m \u001b[0mpowerset\u001b[0m\u001b[1;33m(\u001b[0m \u001b[0mI\u001b[0m \u001b[1;33m)\u001b[0m\u001b[1;33m:\u001b[0m\u001b[1;33m\u001b[0m\u001b[1;33m\u001b[0m\u001b[0m\n\u001b[0;32m     17\u001b[0m         \u001b[1;32mif\u001b[0m \u001b[0mlen\u001b[0m\u001b[1;33m(\u001b[0m \u001b[0mX\u001b[0m \u001b[1;33m)\u001b[0m \u001b[1;33m>\u001b[0m \u001b[1;36m0\u001b[0m\u001b[1;33m:\u001b[0m\u001b[1;33m\u001b[0m\u001b[1;33m\u001b[0m\u001b[0m\n\u001b[1;32m---> 18\u001b[1;33m             \u001b[0msupX\u001b[0m \u001b[1;33m=\u001b[0m \u001b[0mComputeSupport\u001b[0m\u001b[1;33m(\u001b[0m \u001b[0mset\u001b[0m\u001b[1;33m(\u001b[0m \u001b[0mX\u001b[0m \u001b[1;33m)\u001b[0m\u001b[1;33m,\u001b[0m \u001b[0mD\u001b[0m \u001b[1;33m)\u001b[0m\u001b[1;33m\u001b[0m\u001b[1;33m\u001b[0m\u001b[0m\n\u001b[0m\u001b[0;32m     19\u001b[0m             \u001b[1;32mif\u001b[0m \u001b[0msupX\u001b[0m \u001b[1;33m>=\u001b[0m \u001b[0mminsup\u001b[0m\u001b[1;33m:\u001b[0m\u001b[1;33m\u001b[0m\u001b[1;33m\u001b[0m\u001b[0m\n\u001b[0;32m     20\u001b[0m                 \u001b[0mprint\u001b[0m\u001b[1;33m(\u001b[0m\u001b[0mX\u001b[0m\u001b[1;33m,\u001b[0m \u001b[0msupX\u001b[0m\u001b[1;33m)\u001b[0m\u001b[1;33m\u001b[0m\u001b[1;33m\u001b[0m\u001b[0m\n",
      "\u001b[1;32m<ipython-input-8-d039e63cb960>\u001b[0m in \u001b[0;36mComputeSupport\u001b[1;34m(X, D)\u001b[0m\n\u001b[0;32m      7\u001b[0m \u001b[1;32mdef\u001b[0m \u001b[0mComputeSupport\u001b[0m\u001b[1;33m(\u001b[0m \u001b[0mX\u001b[0m\u001b[1;33m,\u001b[0m \u001b[0mD\u001b[0m \u001b[1;33m)\u001b[0m\u001b[1;33m:\u001b[0m\u001b[1;33m\u001b[0m\u001b[1;33m\u001b[0m\u001b[0m\n\u001b[0;32m      8\u001b[0m     \u001b[0msupX\u001b[0m \u001b[1;33m=\u001b[0m \u001b[1;36m0\u001b[0m\u001b[1;33m\u001b[0m\u001b[1;33m\u001b[0m\u001b[0m\n\u001b[1;32m----> 9\u001b[1;33m     \u001b[1;32mfor\u001b[0m \u001b[0m_\u001b[0m\u001b[1;33m,\u001b[0m\u001b[0mitemset\u001b[0m \u001b[1;32min\u001b[0m \u001b[0mD\u001b[0m\u001b[1;33m:\u001b[0m\u001b[1;33m\u001b[0m\u001b[1;33m\u001b[0m\u001b[0m\n\u001b[0m\u001b[0;32m     10\u001b[0m         \u001b[1;32mif\u001b[0m \u001b[0mX\u001b[0m\u001b[1;33m.\u001b[0m\u001b[0missubset\u001b[0m\u001b[1;33m(\u001b[0m \u001b[0mitemset\u001b[0m \u001b[1;33m)\u001b[0m\u001b[1;33m:\u001b[0m\u001b[1;33m\u001b[0m\u001b[1;33m\u001b[0m\u001b[0m\n\u001b[0;32m     11\u001b[0m             \u001b[0msupX\u001b[0m \u001b[1;33m+=\u001b[0m \u001b[1;36m1\u001b[0m\u001b[1;33m\u001b[0m\u001b[1;33m\u001b[0m\u001b[0m\n",
      "\u001b[1;31mKeyboardInterrupt\u001b[0m: "
     ]
    }
   ],
   "source": [
    "print(\"Популярные наборы при minsup = \", minsup)\n",
    "for itemset in BruteForce( ndata, nI, minsup ):\n",
    "    print(itemset)"
   ]
  },
  {
   "cell_type": "markdown",
   "metadata": {},
   "source": [
    "## **—> Вложение в конце ida_L3.pdf**"
   ]
  },
  {
   "cell_type": "markdown",
   "metadata": {},
   "source": [
    "+ Для какого-либо из полученных популярных наборов товаров постройте набор ассоциативных правил."
   ]
  },
  {
   "cell_type": "code",
   "execution_count": 14,
   "metadata": {},
   "outputs": [],
   "source": [
    "#F_bf, _ = BruteForce( data, I, minsup )[-1]\n",
    "F_bf = ('Cotton Swabs',)"
   ]
  },
  {
   "cell_type": "code",
   "execution_count": 15,
   "metadata": {},
   "outputs": [
    {
     "data": {
      "text/plain": [
       "[]"
      ]
     },
     "execution_count": 15,
     "metadata": {},
     "output_type": "execute_result"
    }
   ],
   "source": [
    "def powersetk(iterable,k):\n",
    "    xs = list(iterable)\n",
    "    # возвращаем итератор, а не список\n",
    "    return chain.from_iterable(combinations(xs,n) for n in range(k,len(xs)+1))\n",
    "\n",
    "def AssociationRules(D, Z_set, minconf):\n",
    "    A_rules = []\n",
    "    supZ = ComputeSupport(set(Z_set), D)\n",
    "    A_set = list(powersetk(Z_set,1))[:-1]\n",
    "    # print(\"\\nA_set:\",A_set)\n",
    "    while len(A_set)>0:\n",
    "        X_set = A_set[-1]\n",
    "        #print(\"\\nX_set:\",X_set)\n",
    "        A_set.pop()\n",
    "        conf = supZ/ComputeSupport(set(X_set), D)\n",
    "        if conf >= minconf:\n",
    "            Y_set = sorted(list(set(Z_set)-set(X_set)))\n",
    "            A_rules.append([X_set, Y_set, supZ, conf])\n",
    "        else:\n",
    "            for W_set in powersetk(X_set,1):\n",
    "                if W_set in A_set:\n",
    "                    A_set.remove(W_set)\n",
    "    return A_rules\n",
    "\n",
    "AssociationRules( data, F_bf, 0.9)"
   ]
  },
  {
   "cell_type": "markdown",
   "metadata": {},
   "source": [
    "**В наборе товаров только один элемент, так что набор ассоциативных правил пуст. Сделаю следующий пункт по учебному набору данных.**"
   ]
  },
  {
   "cell_type": "code",
   "execution_count": 16,
   "metadata": {},
   "outputs": [
    {
     "data": {
      "text/plain": [
       "[[('E', 'D', 'B'), ['A'], 3, 1.0],\n",
       " [('A', 'D', 'B'), ['E'], 3, 1.0],\n",
       " [('A', 'E', 'D'), ['B'], 3, 1.0],\n",
       " [('E', 'D'), ['A', 'B'], 3, 1.0],\n",
       " [('A', 'D'), ['B', 'E'], 3, 1.0]]"
      ]
     },
     "execution_count": 16,
     "metadata": {},
     "output_type": "execute_result"
    }
   ],
   "source": [
    "train = [\n",
    "    [ 1, {\"A\",\"B\",\"D\",\"E\"} ],\n",
    "    [ 2, {\"B\",\"C\",\"E\"} ],\n",
    "    [ 3, {\"A\",\"B\",\"D\",\"E\"} ],\n",
    "    [ 4, {\"A\",\"B\",\"C\",\"E\"} ],\n",
    "    [ 5, {\"A\",\"B\",\"C\",\"D\",\"E\"} ],\n",
    "    [ 6, {\"B\",\"C\",\"D\"} ],\n",
    "]\n",
    "F_set = ('A', 'E', 'D', 'B')\n",
    "\n",
    "rules = AssociationRules(train, F_set, 0.9)\n",
    "rules"
   ]
  },
  {
   "cell_type": "code",
   "execution_count": 17,
   "metadata": {},
   "outputs": [
    {
     "data": {
      "text/plain": [
       "[[{'B', 'D', 'E'}, {'A'}],\n",
       " [{'A', 'B', 'D'}, {'E'}],\n",
       " [{'A', 'D', 'E'}, {'B'}],\n",
       " [{'D', 'E'}, {'A', 'B'}],\n",
       " [{'A', 'D'}, {'B', 'E'}]]"
      ]
     },
     "execution_count": 17,
     "metadata": {},
     "output_type": "execute_result"
    }
   ],
   "source": [
    "#оставляю только наборы\n",
    "r = []\n",
    "for i in rules:\n",
    "    r.append([set(i[0]), set(i[1])])\n",
    "r"
   ]
  },
  {
   "cell_type": "markdown",
   "metadata": {},
   "source": [
    "**Для каждого построенного набора ассоциативных правил вычислияю показатели: support, confidence, lift, leverage, conviction**"
   ]
  },
  {
   "cell_type": "code",
   "execution_count": 18,
   "metadata": {},
   "outputs": [
    {
     "name": "stdout",
     "output_type": "stream",
     "text": [
      "\n",
      "Support =  3\n",
      "Confidence =  1.0\n",
      "Lift =  1.5\n",
      "Leverage =  0.16666666666666669\n",
      "Conviction =  undefined\n",
      "\n",
      "Support =  3\n",
      "Confidence =  1.0\n",
      "Lift =  1.2\n",
      "Leverage =  0.08333333333333331\n",
      "Conviction =  undefined\n",
      "\n",
      "Support =  3\n",
      "Confidence =  1.0\n",
      "Lift =  1.0\n",
      "Leverage =  0.0\n",
      "Conviction =  undefined\n",
      "\n",
      "Support =  3\n",
      "Confidence =  1.0\n",
      "Lift =  1.5\n",
      "Leverage =  0.16666666666666669\n",
      "Conviction =  undefined\n",
      "\n",
      "Support =  3\n",
      "Confidence =  1.0\n",
      "Lift =  1.2\n",
      "Leverage =  0.08333333333333331\n",
      "Conviction =  undefined\n"
     ]
    }
   ],
   "source": [
    "for rules in r:\n",
    "    print(\"\\nSupport = \", ComputeSupport(rules[0].union(rules[1]), train))\n",
    "\n",
    "    rsupXY = ComputeSupport(rules[0].union(rules[1]), train)/len(train)\n",
    "    rsupX = ComputeSupport(rules[0], train)/len(train)\n",
    "    conf = rsupXY/rsupX\n",
    "    print(\"Confidence = \", conf)\n",
    "\n",
    "    rsupY = ComputeSupport(rules[1], train)/len(train)\n",
    "    lift = conf/rsupY\n",
    "    print(\"Lift = \", lift)\n",
    "\n",
    "    lev = rsupXY - rsupX * rsupY\n",
    "    print(\"Leverage = \", lev)\n",
    "\n",
    "    conv = (1 - rsupY)/(1 - conf) if conf != 1 else \"undefined\"\n",
    "    print(\"Conviction = \", conv)"
   ]
  }
 ],
 "metadata": {
  "kernelspec": {
   "display_name": "Python 3",
   "language": "python",
   "name": "python3"
  },
  "language_info": {
   "codemirror_mode": {
    "name": "ipython",
    "version": 3
   },
   "file_extension": ".py",
   "mimetype": "text/x-python",
   "name": "python",
   "nbconvert_exporter": "python",
   "pygments_lexer": "ipython3",
   "version": "3.9.2"
  }
 },
 "nbformat": 4,
 "nbformat_minor": 4
}
