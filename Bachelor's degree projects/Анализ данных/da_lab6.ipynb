{
 "cells": [
  {
   "cell_type": "markdown",
   "metadata": {},
   "source": [
    "### РОССИЙСКИЙ УНИВЕРСИТЕТ ДРУЖБЫ НАРОДОВ\n",
    "#### Факультет физико-математических и естественных наук  \n",
    "#### Кафедра информационных технологий \n",
    "## ОТЧЕТ ПО ЛАБОРАТОРНОЙ РАБОТЕ №6\n",
    "#### Дисциплина: Анализ данных\n",
    "##### Студент:   Леонова Алина\n",
    "##### Группа:    НФИбд-02-17\n",
    "### Москва 2020\n",
    "***"
   ]
  },
  {
   "cell_type": "markdown",
   "metadata": {},
   "source": [
    "# Линейная модель множественной регрессии"
   ]
  },
  {
   "cell_type": "code",
   "execution_count": 1,
   "metadata": {},
   "outputs": [],
   "source": [
    "import numpy as np\n",
    "import scipy as sp\n",
    "import scipy.stats as stats\n",
    "import pandas as pd\n",
    "import math\n",
    "import matplotlib as mpl\n",
    "import matplotlib.pyplot as plt\n",
    "%matplotlib inline\n",
    "import seaborn as sns; sns.set()\n",
    "from sklearn.linear_model import LinearRegression\n",
    "from sklearn.datasets import make_regression"
   ]
  },
  {
   "cell_type": "code",
   "execution_count": 2,
   "metadata": {},
   "outputs": [
    {
     "data": {
      "text/html": [
       "<div>\n",
       "<style scoped>\n",
       "    .dataframe tbody tr th:only-of-type {\n",
       "        vertical-align: middle;\n",
       "    }\n",
       "\n",
       "    .dataframe tbody tr th {\n",
       "        vertical-align: top;\n",
       "    }\n",
       "\n",
       "    .dataframe thead th {\n",
       "        text-align: right;\n",
       "    }\n",
       "</style>\n",
       "<table border=\"1\" class=\"dataframe\">\n",
       "  <thead>\n",
       "    <tr style=\"text-align: right;\">\n",
       "      <th></th>\n",
       "      <th>x1</th>\n",
       "      <th>x2</th>\n",
       "      <th>x3</th>\n",
       "      <th>y</th>\n",
       "    </tr>\n",
       "  </thead>\n",
       "  <tbody>\n",
       "    <tr>\n",
       "      <th>0</th>\n",
       "      <td>-50.961693</td>\n",
       "      <td>34.222705</td>\n",
       "      <td>82.769919</td>\n",
       "      <td>427.710821</td>\n",
       "    </tr>\n",
       "    <tr>\n",
       "      <th>1</th>\n",
       "      <td>1.132351</td>\n",
       "      <td>13.906638</td>\n",
       "      <td>24.714842</td>\n",
       "      <td>-46.250190</td>\n",
       "    </tr>\n",
       "    <tr>\n",
       "      <th>2</th>\n",
       "      <td>-87.849353</td>\n",
       "      <td>25.608321</td>\n",
       "      <td>70.985941</td>\n",
       "      <td>1031.101058</td>\n",
       "    </tr>\n",
       "    <tr>\n",
       "      <th>3</th>\n",
       "      <td>-30.200684</td>\n",
       "      <td>9.436669</td>\n",
       "      <td>118.259251</td>\n",
       "      <td>621.485275</td>\n",
       "    </tr>\n",
       "    <tr>\n",
       "      <th>4</th>\n",
       "      <td>-78.989576</td>\n",
       "      <td>1.964400</td>\n",
       "      <td>30.031038</td>\n",
       "      <td>1417.537673</td>\n",
       "    </tr>\n",
       "    <tr>\n",
       "      <th>...</th>\n",
       "      <td>...</td>\n",
       "      <td>...</td>\n",
       "      <td>...</td>\n",
       "      <td>...</td>\n",
       "    </tr>\n",
       "    <tr>\n",
       "      <th>95</th>\n",
       "      <td>-40.534847</td>\n",
       "      <td>33.365644</td>\n",
       "      <td>47.278910</td>\n",
       "      <td>1170.520984</td>\n",
       "    </tr>\n",
       "    <tr>\n",
       "      <th>96</th>\n",
       "      <td>0.679257</td>\n",
       "      <td>1.641914</td>\n",
       "      <td>69.817091</td>\n",
       "      <td>650.488746</td>\n",
       "    </tr>\n",
       "    <tr>\n",
       "      <th>97</th>\n",
       "      <td>-88.531342</td>\n",
       "      <td>25.693118</td>\n",
       "      <td>117.454340</td>\n",
       "      <td>1348.721088</td>\n",
       "    </tr>\n",
       "    <tr>\n",
       "      <th>98</th>\n",
       "      <td>-56.334241</td>\n",
       "      <td>4.382330</td>\n",
       "      <td>24.057683</td>\n",
       "      <td>1271.574189</td>\n",
       "    </tr>\n",
       "    <tr>\n",
       "      <th>99</th>\n",
       "      <td>7.141335</td>\n",
       "      <td>20.360926</td>\n",
       "      <td>78.324660</td>\n",
       "      <td>-453.531134</td>\n",
       "    </tr>\n",
       "  </tbody>\n",
       "</table>\n",
       "<p>100 rows × 4 columns</p>\n",
       "</div>"
      ],
      "text/plain": [
       "           x1         x2          x3            y\n",
       "0  -50.961693  34.222705   82.769919   427.710821\n",
       "1    1.132351  13.906638   24.714842   -46.250190\n",
       "2  -87.849353  25.608321   70.985941  1031.101058\n",
       "3  -30.200684   9.436669  118.259251   621.485275\n",
       "4  -78.989576   1.964400   30.031038  1417.537673\n",
       "..        ...        ...         ...          ...\n",
       "95 -40.534847  33.365644   47.278910  1170.520984\n",
       "96   0.679257   1.641914   69.817091   650.488746\n",
       "97 -88.531342  25.693118  117.454340  1348.721088\n",
       "98 -56.334241   4.382330   24.057683  1271.574189\n",
       "99   7.141335  20.360926   78.324660  -453.531134\n",
       "\n",
       "[100 rows x 4 columns]"
      ]
     },
     "execution_count": 2,
     "metadata": {},
     "output_type": "execute_result"
    }
   ],
   "source": [
    "data = pd.read_csv('task.csv')\n",
    "N = len(data)\n",
    "data"
   ]
  },
  {
   "cell_type": "code",
   "execution_count": 3,
   "metadata": {},
   "outputs": [
    {
     "name": "stdout",
     "output_type": "stream",
     "text": [
      "           x1         x2          x3\n",
      "0  -50.961693  34.222705   82.769919\n",
      "1    1.132351  13.906638   24.714842\n",
      "2  -87.849353  25.608321   70.985941\n",
      "3  -30.200684   9.436669  118.259251\n",
      "4  -78.989576   1.964400   30.031038\n",
      "..        ...        ...         ...\n",
      "95 -40.534847  33.365644   47.278910\n",
      "96   0.679257   1.641914   69.817091\n",
      "97 -88.531342  25.693118  117.454340\n",
      "98 -56.334241   4.382330   24.057683\n",
      "99   7.141335  20.360926   78.324660\n",
      "\n",
      "[100 rows x 3 columns] \n",
      "\n",
      "\t y\n",
      " 0      427.710821\n",
      "1      -46.250190\n",
      "2     1031.101058\n",
      "3      621.485275\n",
      "4     1417.537673\n",
      "         ...     \n",
      "95    1170.520984\n",
      "96     650.488746\n",
      "97    1348.721088\n",
      "98    1271.574189\n",
      "99    -453.531134\n",
      "Name: y, Length: 100, dtype: float64\n"
     ]
    }
   ],
   "source": [
    "X = data.drop('y', axis=1)\n",
    "y = data['y']\n",
    "print( X, '\\n\\n\\t y\\n', y)"
   ]
  },
  {
   "cell_type": "markdown",
   "metadata": {},
   "source": [
    "**Графики совместных распределений предикторов и целевой переменной**"
   ]
  },
  {
   "cell_type": "code",
   "execution_count": 4,
   "metadata": {},
   "outputs": [
    {
     "data": {
      "image/png": "[encoded data removed]",
      "text/plain": [
       "<Figure size 432x288 with 1 Axes>"
      ]
     },
     "metadata": {},
     "output_type": "display_data"
    }
   ],
   "source": [
    "x1 = data.drop(['y','x2','x3'], axis=1)\n",
    "y = data.drop(['x3','x1','x2'], axis=1)\n",
    "\n",
    "sns.scatterplot(x1['x1'],y['y'])\n",
    "\n",
    "m1 = LinearRegression()\n",
    "m1.fit(x1, y)\n",
    "\n",
    "minimax1 = np.array([x1.min(), x1.max()])\n",
    "plt.plot(minimax1, m1.predict(minimax1.reshape(-1, 1)), 'r-')\n",
    "plt.show()\n"
   ]
  },
  {
   "cell_type": "code",
   "execution_count": 5,
   "metadata": {},
   "outputs": [
    {
     "data": {
      "image/png": "[encoded data removed]",
      "text/plain": [
       "<Figure size 432x288 with 1 Axes>"
      ]
     },
     "metadata": {},
     "output_type": "display_data"
    }
   ],
   "source": [
    "x2 = data.drop(['y','x1','x3'], axis=1)\n",
    "\n",
    "sns.scatterplot(x2['x2'],y['y'])\n",
    "\n",
    "m2 = LinearRegression()\n",
    "m2.fit(x2, y)\n",
    "\n",
    "minimax2 = np.array([x2.min(), x2.max()])\n",
    "plt.plot(minimax2, m2.predict(minimax2.reshape(-1, 1)), 'r-')\n",
    "plt.show()"
   ]
  },
  {
   "cell_type": "code",
   "execution_count": 6,
   "metadata": {},
   "outputs": [
    {
     "data": {
      "image/png": "[encoded data removed]",
      "text/plain": [
       "<Figure size 432x288 with 1 Axes>"
      ]
     },
     "metadata": {},
     "output_type": "display_data"
    }
   ],
   "source": [
    "x3 = data.drop(['y','x1','x2'], axis=1)\n",
    "\n",
    "sns.scatterplot(x3['x3'],y['y'])\n",
    "\n",
    "m3 = LinearRegression()\n",
    "m3.fit(x3, y)\n",
    "\n",
    "minimax3 = np.array([x3.min(), x3.max()])\n",
    "plt.plot(minimax3, m3.predict(minimax3.reshape(-1, 1)), 'r-')\n",
    "plt.show()"
   ]
  },
  {
   "cell_type": "markdown",
   "metadata": {},
   "source": [
    "## Вычисление коэффициентов методом наименьших квадратов"
   ]
  },
  {
   "cell_type": "markdown",
   "metadata": {},
   "source": [
    "**Регрессионная матрица**"
   ]
  },
  {
   "cell_type": "code",
   "execution_count": 7,
   "metadata": {},
   "outputs": [],
   "source": [
    "x0 = np.ones((1, 100))\n",
    "x1 = data['x1'].to_numpy()\n",
    "x2 = data['x2'].to_numpy()\n",
    "x3 = data['x3'].to_numpy()\n",
    "y = data['y'].to_numpy()\n",
    "H = np.vstack([x0, x1, x2, x3]).T "
   ]
  },
  {
   "cell_type": "code",
   "execution_count": 8,
   "metadata": {},
   "outputs": [],
   "source": [
    "W = np.matmul(H.T, H)\n",
    "W1 = np.linalg.inv(W)"
   ]
  },
  {
   "cell_type": "markdown",
   "metadata": {},
   "source": [
    "**Коэффициенты модели**"
   ]
  },
  {
   "cell_type": "code",
   "execution_count": 9,
   "metadata": {},
   "outputs": [
    {
     "data": {
      "text/plain": [
       "array([ 39.95095793, -19.64192606, -25.63056156,   1.97854411])"
      ]
     },
     "execution_count": 9,
     "metadata": {},
     "output_type": "execute_result"
    }
   ],
   "source": [
    "k = np.matmul(W1, H.T)\n",
    "k = np.matmul(k, y)\n",
    "k"
   ]
  },
  {
   "cell_type": "markdown",
   "metadata": {},
   "source": [
    "**Проверка коэффициентов**"
   ]
  },
  {
   "cell_type": "code",
   "execution_count": 10,
   "metadata": {},
   "outputs": [
    {
     "data": {
      "text/plain": [
       "(39.95095793205337, array([-19.64192606, -25.63056156,   1.97854411]))"
      ]
     },
     "execution_count": 10,
     "metadata": {},
     "output_type": "execute_result"
    }
   ],
   "source": [
    "m = LinearRegression()\n",
    "m.fit(X, y)\n",
    "\n",
    "m.intercept_, m.coef_"
   ]
  },
  {
   "cell_type": "markdown",
   "metadata": {},
   "source": [
    "**Уравнение построенной линейной модели:**"
   ]
  },
  {
   "cell_type": "markdown",
   "metadata": {},
   "source": [
    "$$y = 39.95095793 - 19.64192606 x_1 - 25.63056156 x_2 + 1.97854411 x_3$$"
   ]
  },
  {
   "cell_type": "markdown",
   "metadata": {},
   "source": [
    "**График распределения остатков модели**"
   ]
  },
  {
   "cell_type": "code",
   "execution_count": 11,
   "metadata": {},
   "outputs": [],
   "source": [
    "y_emp = k[0] + k[1] * x1 + k[2] * x2 + k[3] * x3\n",
    "dy = y - y_emp"
   ]
  },
  {
   "cell_type": "code",
   "execution_count": 12,
   "metadata": {},
   "outputs": [
    {
     "data": {
      "text/plain": [
       "<matplotlib.axes._subplots.AxesSubplot at 0x1b316878280>"
      ]
     },
     "execution_count": 12,
     "metadata": {},
     "output_type": "execute_result"
    },
    {
     "data": {
      "image/png": "[encoded data removed]",
      "text/plain": [
       "<Figure size 432x288 with 1 Axes>"
      ]
     },
     "metadata": {},
     "output_type": "display_data"
    }
   ],
   "source": [
    "sns.distplot(dy)"
   ]
  },
  {
   "cell_type": "markdown",
   "metadata": {},
   "source": [
    "**Проверка нормальности распределения остатков критерием Шапиро-Уилка(с формулировкой вывода на основе критерия)**"
   ]
  },
  {
   "cell_type": "code",
   "execution_count": 13,
   "metadata": {},
   "outputs": [
    {
     "name": "stdout",
     "output_type": "stream",
     "text": [
      "(0.9815564155578613, 0.17543518543243408)\n"
     ]
    }
   ],
   "source": [
    "print(stats.shapiro(dy))"
   ]
  },
  {
   "cell_type": "markdown",
   "metadata": {},
   "source": [
    "p-значение>0.05 => распределения нормальные"
   ]
  },
  {
   "cell_type": "markdown",
   "metadata": {},
   "source": [
    "**Проверка отсутствия систематической ошибки критерием Стьюдента**"
   ]
  },
  {
   "cell_type": "code",
   "execution_count": 14,
   "metadata": {},
   "outputs": [
    {
     "data": {
      "text/plain": [
       "Ttest_1sampResult(statistic=7.700721913909007e-15, pvalue=0.9999999999999939)"
      ]
     },
     "execution_count": 14,
     "metadata": {},
     "output_type": "execute_result"
    }
   ],
   "source": [
    "stats.ttest_1samp(dy, 0)"
   ]
  },
  {
   "cell_type": "markdown",
   "metadata": {},
   "source": [
    "p-значение>(1-0.05) => коэффициент Спирмана равен 0, систематической ошибки нет"
   ]
  },
  {
   "cell_type": "markdown",
   "metadata": {},
   "source": [
    "**Графики совместных распределений предикторов и эмпирических значений целевой переменной против остатков**"
   ]
  },
  {
   "cell_type": "code",
   "execution_count": 15,
   "metadata": {},
   "outputs": [
    {
     "data": {
      "image/png": "[encoded data removed]",
      "text/plain": [
       "<Figure size 432x288 with 1 Axes>"
      ]
     },
     "metadata": {},
     "output_type": "display_data"
    }
   ],
   "source": [
    "x1 = data.drop(['y','x2','x3'], axis=1)\n",
    "sns.scatterplot(x1['x1'],dy)\n",
    "\n",
    "m1 = LinearRegression()\n",
    "m1.fit(x1, dy)\n",
    "\n",
    "minimax1 = np.array([x1.min(), x1.max()])\n",
    "plt.plot(minimax1, m1.predict(minimax1.reshape(-1, 1)), 'r-')\n",
    "plt.show()"
   ]
  },
  {
   "cell_type": "code",
   "execution_count": 16,
   "metadata": {},
   "outputs": [
    {
     "data": {
      "image/png": "[encoded data removed]",
      "text/plain": [
       "<Figure size 432x288 with 1 Axes>"
      ]
     },
     "metadata": {},
     "output_type": "display_data"
    }
   ],
   "source": [
    "x2 = data.drop(['y','x1','x3'], axis=1)\n",
    "sns.scatterplot(x2['x2'],dy)\n",
    "\n",
    "m2 = LinearRegression()\n",
    "m2.fit(x2, dy)\n",
    "\n",
    "minimax2 = np.array([x2.min(), x2.max()])\n",
    "plt.plot(minimax2, m2.predict(minimax2.reshape(-1, 1)), 'r-')\n",
    "plt.show()"
   ]
  },
  {
   "cell_type": "code",
   "execution_count": 17,
   "metadata": {},
   "outputs": [
    {
     "data": {
      "image/png": "[encoded data removed]",
      "text/plain": [
       "<Figure size 432x288 with 1 Axes>"
      ]
     },
     "metadata": {},
     "output_type": "display_data"
    }
   ],
   "source": [
    "x3 = data.drop(['y','x1','x2'], axis=1)\n",
    "sns.scatterplot(x3['x3'],dy)\n",
    "\n",
    "m3 = LinearRegression()\n",
    "m3.fit(x3, dy)\n",
    "\n",
    "minimax3 = np.array([x3.min(), x3.max()])\n",
    "plt.plot(minimax3, m3.predict(minimax3.reshape(-1, 1)), 'r-')\n",
    "plt.show()"
   ]
  },
  {
   "cell_type": "markdown",
   "metadata": {},
   "source": [
    "**Проверка отсутствия линейной зависимости между всеми предикторами и остатками критерием Спирмана**"
   ]
  },
  {
   "cell_type": "code",
   "execution_count": 18,
   "metadata": {},
   "outputs": [],
   "source": [
    "def t_len(a):\n",
    "    t = []\n",
    "    tie = False\n",
    "    k = 0\n",
    "    \n",
    "    for i in range(len(a)-1):\n",
    "        if a[i] == a[i+1]:\n",
    "            if tie:\n",
    "                t[k - 1] += 1\n",
    "            else:\n",
    "                tie = True\n",
    "                k += 1\n",
    "                t.append(2)\n",
    "        else:\n",
    "            tie = False\n",
    "    return t"
   ]
  },
  {
   "cell_type": "code",
   "execution_count": 19,
   "metadata": {},
   "outputs": [],
   "source": [
    "def r_spearman(x, y):\n",
    "    rx = stats.rankdata(x)\n",
    "    ry = stats.rankdata(y)\n",
    "    xs = np.sort(x)\n",
    "    ys = np.sort(y)\n",
    "\n",
    "    # размеры связок\n",
    "    tx = t_len(xs)\n",
    "    ty = t_len(ys)\n",
    "    # количество связок\n",
    "    q = len(tx)\n",
    "    g = len(ty)\n",
    "\n",
    "    u1 = 0\n",
    "    for i in range(q):\n",
    "        u1 += tx[i]**3 - tx[i]\n",
    "    u1 *= 1/12\n",
    "\n",
    "    u2 = 0\n",
    "    for i in range(g):\n",
    "        u2 += ty[i]**3 - ty[i]\n",
    "    u2 *= 1/12\n",
    "\n",
    "    r = 0\n",
    "    for i in range(N):\n",
    "        r += (rx[i] - ry[i])**2\n",
    "    r /= (1/6 * (N**3 - N) - u1 - u2)\n",
    "    r = 1 - r\n",
    "\n",
    "    return r"
   ]
  },
  {
   "cell_type": "code",
   "execution_count": 20,
   "metadata": {},
   "outputs": [],
   "source": [
    "def t_znach_r(r, n):\n",
    "    T = r * np.sqrt(n - 2) / np.sqrt(1 - r**2)\n",
    "    p = 2 * min((1 - stats.t.cdf(T, n - 2)), stats.t.cdf(T, n - 2)) \n",
    "    return p"
   ]
  },
  {
   "cell_type": "code",
   "execution_count": 21,
   "metadata": {},
   "outputs": [
    {
     "name": "stdout",
     "output_type": "stream",
     "text": [
      "1:  (0.013681368136813643, 0.8925328877234548)\n"
     ]
    }
   ],
   "source": [
    "r1 = r_spearman(x1, dy)\n",
    "p1 = t_znach_r(r1, N)\n",
    "print('1: ',(r1, p1))"
   ]
  },
  {
   "cell_type": "code",
   "execution_count": 22,
   "metadata": {},
   "outputs": [
    {
     "data": {
      "text/plain": [
       "SpearmanrResult(correlation=0.013681368136813678, pvalue=0.8925328877234546)"
      ]
     },
     "execution_count": 22,
     "metadata": {},
     "output_type": "execute_result"
    }
   ],
   "source": [
    "# проверка\n",
    "stats.spearmanr(x1, dy)"
   ]
  },
  {
   "cell_type": "markdown",
   "metadata": {},
   "source": [
    "p-значение>0.05 => принимаем H0, x1 и остатки не коррелированы "
   ]
  },
  {
   "cell_type": "code",
   "execution_count": 23,
   "metadata": {},
   "outputs": [
    {
     "name": "stdout",
     "output_type": "stream",
     "text": [
      "2:  (-0.024098409840983992, 0.8118897166184158)\n"
     ]
    }
   ],
   "source": [
    "r2 = r_spearman(x2, dy)\n",
    "p2 = t_znach_r(r2, N)\n",
    "print('2: ',(r2, p2))"
   ]
  },
  {
   "cell_type": "code",
   "execution_count": 24,
   "metadata": {},
   "outputs": [
    {
     "data": {
      "text/plain": [
       "SpearmanrResult(correlation=-0.024098409840984093, pvalue=0.811889716618415)"
      ]
     },
     "execution_count": 24,
     "metadata": {},
     "output_type": "execute_result"
    }
   ],
   "source": [
    "# проверка\n",
    "stats.spearmanr(x2, dy)"
   ]
  },
  {
   "cell_type": "markdown",
   "metadata": {},
   "source": [
    "p-значение>0.05 => принимаем H0, x2 и остатки не коррелированы"
   ]
  },
  {
   "cell_type": "code",
   "execution_count": 25,
   "metadata": {},
   "outputs": [
    {
     "name": "stdout",
     "output_type": "stream",
     "text": [
      "3:  (-0.018265826582658296, 0.8568567418493008)\n"
     ]
    }
   ],
   "source": [
    "r3 = r_spearman(x3, dy)\n",
    "p3 = t_znach_r(r3, N)\n",
    "print('3: ',(r3, p3))"
   ]
  },
  {
   "cell_type": "code",
   "execution_count": 26,
   "metadata": {},
   "outputs": [
    {
     "data": {
      "text/plain": [
       "SpearmanrResult(correlation=-0.018265826582658264, pvalue=0.856856741849301)"
      ]
     },
     "execution_count": 26,
     "metadata": {},
     "output_type": "execute_result"
    }
   ],
   "source": [
    "# проверка\n",
    "stats.spearmanr(x3, dy)"
   ]
  },
  {
   "cell_type": "markdown",
   "metadata": {},
   "source": [
    "p-значение>0.05 => принимаем H0, x3 и остатки не коррелированы"
   ]
  },
  {
   "cell_type": "markdown",
   "metadata": {},
   "source": [
    "**Проверка отсутствия линейной зависимости между эмпирическими значениями целевой переменной и остатками**"
   ]
  },
  {
   "cell_type": "code",
   "execution_count": 27,
   "metadata": {},
   "outputs": [
    {
     "name": "stdout",
     "output_type": "stream",
     "text": [
      "(-0.02588658865886595, 0.7982179116948944)\n"
     ]
    }
   ],
   "source": [
    "r = r_spearman(y_emp, dy)\n",
    "p = t_znach_r(r, N)\n",
    "print((r, p))"
   ]
  },
  {
   "cell_type": "code",
   "execution_count": 28,
   "metadata": {},
   "outputs": [
    {
     "data": {
      "text/plain": [
       "SpearmanrResult(correlation=-0.02588658865886588, pvalue=0.798217911694895)"
      ]
     },
     "execution_count": 28,
     "metadata": {},
     "output_type": "execute_result"
    }
   ],
   "source": [
    "# проверка\n",
    "stats.spearmanr(y_emp, dy)"
   ]
  },
  {
   "cell_type": "markdown",
   "metadata": {},
   "source": [
    "p-значение>0.05 => принимаем H0, mp и остатки не коррелированы"
   ]
  },
  {
   "cell_type": "markdown",
   "metadata": {},
   "source": [
    "**Коэффициент детерминации**"
   ]
  },
  {
   "cell_type": "code",
   "execution_count": 29,
   "metadata": {},
   "outputs": [
    {
     "name": "stdout",
     "output_type": "stream",
     "text": [
      "0.8315024444304584\n"
     ]
    }
   ],
   "source": [
    "s = sum(dy**2)\n",
    "z = sum((y - y.mean())**2)\n",
    "R2 = 1 - s / z\n",
    "R2\n",
    "print(R2)"
   ]
  },
  {
   "cell_type": "code",
   "execution_count": 30,
   "metadata": {},
   "outputs": [
    {
     "data": {
      "text/plain": [
       "0.8315024444304584"
      ]
     },
     "execution_count": 30,
     "metadata": {},
     "output_type": "execute_result"
    }
   ],
   "source": [
    "#проверка\n",
    "m.score(X, y)"
   ]
  },
  {
   "cell_type": "markdown",
   "metadata": {},
   "source": [
    "**Несмещенный коэффициент детерминации модели**"
   ]
  },
  {
   "cell_type": "code",
   "execution_count": 31,
   "metadata": {},
   "outputs": [
    {
     "data": {
      "text/plain": [
       "0.8262368958189102"
      ]
     },
     "execution_count": 31,
     "metadata": {},
     "output_type": "execute_result"
    }
   ],
   "source": [
    "R2_nesm = 1 - (N - 1) / (N - 4) * s / z\n",
    "R2_nesm"
   ]
  }
 ],
 "metadata": {
  "kernelspec": {
   "display_name": "Python 3",
   "language": "python",
   "name": "python3"
  },
  "language_info": {
   "codemirror_mode": {
    "name": "ipython",
    "version": 3
   },
   "file_extension": ".py",
   "mimetype": "text/x-python",
   "name": "python",
   "nbconvert_exporter": "python",
   "pygments_lexer": "ipython3",
   "version": "3.9.2"
  }
 },
 "nbformat": 4,
 "nbformat_minor": 4
}
