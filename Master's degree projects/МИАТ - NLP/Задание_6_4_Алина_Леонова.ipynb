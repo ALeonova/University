{
 "cells": [
  {
   "cell_type": "markdown",
   "metadata": {
    "id": "ojCqutxyZeUP"
   },
   "source": [
    "## Лабораторная работа №6 Извлечение именованных сущностей (NER)\n",
    "#### Предмет: Методы интеллектуального анализа текстов\n",
    "#### Студент: Леонова Алина, СБ № 1032212306, НФИмд-01-21"
   ]
  },
  {
   "cell_type": "markdown",
   "metadata": {
    "id": "zc1BAepoVppI"
   },
   "source": [
    "### 6.3. Улучшить качество базовой предсказательной CRF-модели на тестовой выборке за счет добавления и модификации признаков\n",
    "\n",
    "### 6.4.\tУлучшить качество базовой предсказательной LSTM-CRF-модели на тестовой выборке за счет подбора предобученных эмбеддингов. Взять две эмбединг-модели и сравнить результаты."
   ]
  },
  {
   "cell_type": "markdown",
   "metadata": {
    "id": "Sd4kpEhtW0cz"
   },
   "source": [
    "Загрузка данных:"
   ]
  },
  {
   "cell_type": "code",
   "execution_count": 2,
   "metadata": {
    "colab": {
     "base_uri": "https://localhost:8080/"
    },
    "id": "xBJmIT6_VvsQ",
    "outputId": "c033ccee-e8dc-4bf7-8e07-077fb17e2db7"
   },
   "outputs": [
    {
     "name": "stdout",
     "output_type": "stream",
     "text": [
      "--2022-10-17 00:52:46--  https://www.dropbox.com/s/iuwsx5pmfhkk0w2/ner_dataset.csv\n",
      "Resolving www.dropbox.com (www.dropbox.com)... 162.125.6.18, 2620:100:6019:18::a27d:412\n",
      "Connecting to www.dropbox.com (www.dropbox.com)|162.125.6.18|:443... connected.\n",
      "HTTP request sent, awaiting response... 302 Found\n",
      "Location: /s/raw/iuwsx5pmfhkk0w2/ner_dataset.csv [following]\n",
      "--2022-10-17 00:52:46--  https://www.dropbox.com/s/raw/iuwsx5pmfhkk0w2/ner_dataset.csv\n",
      "Reusing existing connection to www.dropbox.com:443.\n",
      "HTTP request sent, awaiting response... 302 Found\n",
      "Location: https://ucc7f0c7c15c395170582ffae6a6.dl.dropboxusercontent.com/cd/0/inline/Bu8ptAghSa2PDCkf-yrZKmL-FBo6gsS3_y7QHTVgikPlrpJZnzqSf31_4jYTafCp8-ucmhXo4X-wHlvjO5kAI3lCgHOFLjnddVJseWMwucwu41X7osXhbzqHo4zwpZ6sSZDoLjfIA4LW5yFd_i2CcOWFXLfbmB9Khzu86VtLvOnZnA/file# [following]\n",
      "--2022-10-17 00:52:46--  https://ucc7f0c7c15c395170582ffae6a6.dl.dropboxusercontent.com/cd/0/inline/Bu8ptAghSa2PDCkf-yrZKmL-FBo6gsS3_y7QHTVgikPlrpJZnzqSf31_4jYTafCp8-ucmhXo4X-wHlvjO5kAI3lCgHOFLjnddVJseWMwucwu41X7osXhbzqHo4zwpZ6sSZDoLjfIA4LW5yFd_i2CcOWFXLfbmB9Khzu86VtLvOnZnA/file\n",
      "Resolving ucc7f0c7c15c395170582ffae6a6.dl.dropboxusercontent.com (ucc7f0c7c15c395170582ffae6a6.dl.dropboxusercontent.com)... 162.125.4.15, 2620:100:6019:15::a27d:40f\n",
      "Connecting to ucc7f0c7c15c395170582ffae6a6.dl.dropboxusercontent.com (ucc7f0c7c15c395170582ffae6a6.dl.dropboxusercontent.com)|162.125.4.15|:443... connected.\n",
      "HTTP request sent, awaiting response... 200 OK\n",
      "Length: 15208151 (15M) [text/plain]\n",
      "Saving to: ‘ner_dataset.csv.1’\n",
      "\n",
      "ner_dataset.csv.1   100%[===================>]  14.50M  48.2MB/s    in 0.3s    \n",
      "\n",
      "2022-10-17 00:52:47 (48.2 MB/s) - ‘ner_dataset.csv.1’ saved [15208151/15208151]\n",
      "\n"
     ]
    }
   ],
   "source": [
    "! wget https://www.dropbox.com/s/iuwsx5pmfhkk0w2/ner_dataset.csv"
   ]
  },
  {
   "cell_type": "markdown",
   "metadata": {
    "id": "S8QYD22Csy5_"
   },
   "source": [
    "#### Baseline для 6.3"
   ]
  },
  {
   "cell_type": "code",
   "execution_count": 3,
   "metadata": {
    "id": "CLSK9Z5Ms3Ow"
   },
   "outputs": [],
   "source": [
    "import pandas as pd\n",
    "import numpy as np\n",
    "\n",
    "data = pd.read_csv(\"ner_dataset.csv\", encoding=\"latin1\")\n",
    "data = data.fillna(method=\"ffill\")\n",
    "\n",
    "agg_func = lambda s: [[w, p, t] for w, p, t in zip(s[\"Word\"].values.tolist(),\n",
    "                                                   s[\"POS\"].values.tolist(),\n",
    "                                                   s[\"Tag\"].values.tolist())]\n",
    "grouped = data.groupby(\"Sentence #\").apply(agg_func).values.tolist()\n",
    "\n",
    "X_list = [[word[:2] for word in sentence] for sentence in grouped]\n",
    "y_list = [[word[2] for word in sentence] for sentence in grouped]"
   ]
  },
  {
   "cell_type": "code",
   "execution_count": 4,
   "metadata": {
    "colab": {
     "base_uri": "https://localhost:8080/",
     "height": 424
    },
    "id": "bG49GUCMexPv",
    "outputId": "d691f4c1-cb92-4f35-c4c7-0fccdff15652"
   },
   "outputs": [
    {
     "data": {
      "text/html": [
       "\n",
       "  <div id=\"df-203374ca-7b98-47d0-ba08-0d8bab0a5293\">\n",
       "    <div class=\"colab-df-container\">\n",
       "      <div>\n",
       "<style scoped>\n",
       "    .dataframe tbody tr th:only-of-type {\n",
       "        vertical-align: middle;\n",
       "    }\n",
       "\n",
       "    .dataframe tbody tr th {\n",
       "        vertical-align: top;\n",
       "    }\n",
       "\n",
       "    .dataframe thead th {\n",
       "        text-align: right;\n",
       "    }\n",
       "</style>\n",
       "<table border=\"1\" class=\"dataframe\">\n",
       "  <thead>\n",
       "    <tr style=\"text-align: right;\">\n",
       "      <th></th>\n",
       "      <th>Sentence #</th>\n",
       "      <th>Word</th>\n",
       "      <th>POS</th>\n",
       "      <th>Tag</th>\n",
       "    </tr>\n",
       "  </thead>\n",
       "  <tbody>\n",
       "    <tr>\n",
       "      <th>0</th>\n",
       "      <td>Sentence: 1</td>\n",
       "      <td>Thousands</td>\n",
       "      <td>NNS</td>\n",
       "      <td>O</td>\n",
       "    </tr>\n",
       "    <tr>\n",
       "      <th>1</th>\n",
       "      <td>Sentence: 1</td>\n",
       "      <td>of</td>\n",
       "      <td>IN</td>\n",
       "      <td>O</td>\n",
       "    </tr>\n",
       "    <tr>\n",
       "      <th>2</th>\n",
       "      <td>Sentence: 1</td>\n",
       "      <td>demonstrators</td>\n",
       "      <td>NNS</td>\n",
       "      <td>O</td>\n",
       "    </tr>\n",
       "    <tr>\n",
       "      <th>3</th>\n",
       "      <td>Sentence: 1</td>\n",
       "      <td>have</td>\n",
       "      <td>VBP</td>\n",
       "      <td>O</td>\n",
       "    </tr>\n",
       "    <tr>\n",
       "      <th>4</th>\n",
       "      <td>Sentence: 1</td>\n",
       "      <td>marched</td>\n",
       "      <td>VBN</td>\n",
       "      <td>O</td>\n",
       "    </tr>\n",
       "    <tr>\n",
       "      <th>...</th>\n",
       "      <td>...</td>\n",
       "      <td>...</td>\n",
       "      <td>...</td>\n",
       "      <td>...</td>\n",
       "    </tr>\n",
       "    <tr>\n",
       "      <th>1048570</th>\n",
       "      <td>Sentence: 47959</td>\n",
       "      <td>they</td>\n",
       "      <td>PRP</td>\n",
       "      <td>O</td>\n",
       "    </tr>\n",
       "    <tr>\n",
       "      <th>1048571</th>\n",
       "      <td>Sentence: 47959</td>\n",
       "      <td>responded</td>\n",
       "      <td>VBD</td>\n",
       "      <td>O</td>\n",
       "    </tr>\n",
       "    <tr>\n",
       "      <th>1048572</th>\n",
       "      <td>Sentence: 47959</td>\n",
       "      <td>to</td>\n",
       "      <td>TO</td>\n",
       "      <td>O</td>\n",
       "    </tr>\n",
       "    <tr>\n",
       "      <th>1048573</th>\n",
       "      <td>Sentence: 47959</td>\n",
       "      <td>the</td>\n",
       "      <td>DT</td>\n",
       "      <td>O</td>\n",
       "    </tr>\n",
       "    <tr>\n",
       "      <th>1048574</th>\n",
       "      <td>Sentence: 47959</td>\n",
       "      <td>attack</td>\n",
       "      <td>NN</td>\n",
       "      <td>O</td>\n",
       "    </tr>\n",
       "  </tbody>\n",
       "</table>\n",
       "<p>1048575 rows × 4 columns</p>\n",
       "</div>\n",
       "      <button class=\"colab-df-convert\" onclick=\"convertToInteractive('df-203374ca-7b98-47d0-ba08-0d8bab0a5293')\"\n",
       "              title=\"Convert this dataframe to an interactive table.\"\n",
       "              style=\"display:none;\">\n",
       "        \n",
       "  <svg xmlns=\"http://www.w3.org/2000/svg\" height=\"24px\"viewBox=\"0 0 24 24\"\n",
       "       width=\"24px\">\n",
       "    <path d=\"M0 0h24v24H0V0z\" fill=\"none\"/>\n",
       "    <path d=\"M18.56 5.44l.94 2.06.94-2.06 2.06-.94-2.06-.94-.94-2.06-.94 2.06-2.06.94zm-11 1L8.5 8.5l.94-2.06 2.06-.94-2.06-.94L8.5 2.5l-.94 2.06-2.06.94zm10 10l.94 2.06.94-2.06 2.06-.94-2.06-.94-.94-2.06-.94 2.06-2.06.94z\"/><path d=\"M17.41 7.96l-1.37-1.37c-.4-.4-.92-.59-1.43-.59-.52 0-1.04.2-1.43.59L10.3 9.45l-7.72 7.72c-.78.78-.78 2.05 0 2.83L4 21.41c.39.39.9.59 1.41.59.51 0 1.02-.2 1.41-.59l7.78-7.78 2.81-2.81c.8-.78.8-2.07 0-2.86zM5.41 20L4 18.59l7.72-7.72 1.47 1.35L5.41 20z\"/>\n",
       "  </svg>\n",
       "      </button>\n",
       "      \n",
       "  <style>\n",
       "    .colab-df-container {\n",
       "      display:flex;\n",
       "      flex-wrap:wrap;\n",
       "      gap: 12px;\n",
       "    }\n",
       "\n",
       "    .colab-df-convert {\n",
       "      background-color: #E8F0FE;\n",
       "      border: none;\n",
       "      border-radius: 50%;\n",
       "      cursor: pointer;\n",
       "      display: none;\n",
       "      fill: #1967D2;\n",
       "      height: 32px;\n",
       "      padding: 0 0 0 0;\n",
       "      width: 32px;\n",
       "    }\n",
       "\n",
       "    .colab-df-convert:hover {\n",
       "      background-color: #E2EBFA;\n",
       "      box-shadow: 0px 1px 2px rgba(60, 64, 67, 0.3), 0px 1px 3px 1px rgba(60, 64, 67, 0.15);\n",
       "      fill: #174EA6;\n",
       "    }\n",
       "\n",
       "    [theme=dark] .colab-df-convert {\n",
       "      background-color: #3B4455;\n",
       "      fill: #D2E3FC;\n",
       "    }\n",
       "\n",
       "    [theme=dark] .colab-df-convert:hover {\n",
       "      background-color: #434B5C;\n",
       "      box-shadow: 0px 1px 3px 1px rgba(0, 0, 0, 0.15);\n",
       "      filter: drop-shadow(0px 1px 2px rgba(0, 0, 0, 0.3));\n",
       "      fill: #FFFFFF;\n",
       "    }\n",
       "  </style>\n",
       "\n",
       "      <script>\n",
       "        const buttonEl =\n",
       "          document.querySelector('#df-203374ca-7b98-47d0-ba08-0d8bab0a5293 button.colab-df-convert');\n",
       "        buttonEl.style.display =\n",
       "          google.colab.kernel.accessAllowed ? 'block' : 'none';\n",
       "\n",
       "        async function convertToInteractive(key) {\n",
       "          const element = document.querySelector('#df-203374ca-7b98-47d0-ba08-0d8bab0a5293');\n",
       "          const dataTable =\n",
       "            await google.colab.kernel.invokeFunction('convertToInteractive',\n",
       "                                                     [key], {});\n",
       "          if (!dataTable) return;\n",
       "\n",
       "          const docLinkHtml = 'Like what you see? Visit the ' +\n",
       "            '<a target=\"_blank\" href=https://colab.research.google.com/notebooks/data_table.ipynb>data table notebook</a>'\n",
       "            + ' to learn more about interactive tables.';\n",
       "          element.innerHTML = '';\n",
       "          dataTable['output_type'] = 'display_data';\n",
       "          await google.colab.output.renderOutput(dataTable, element);\n",
       "          const docLink = document.createElement('div');\n",
       "          docLink.innerHTML = docLinkHtml;\n",
       "          element.appendChild(docLink);\n",
       "        }\n",
       "      </script>\n",
       "    </div>\n",
       "  </div>\n",
       "  "
      ],
      "text/plain": [
       "              Sentence #           Word  POS Tag\n",
       "0            Sentence: 1      Thousands  NNS   O\n",
       "1            Sentence: 1             of   IN   O\n",
       "2            Sentence: 1  demonstrators  NNS   O\n",
       "3            Sentence: 1           have  VBP   O\n",
       "4            Sentence: 1        marched  VBN   O\n",
       "...                  ...            ...  ...  ..\n",
       "1048570  Sentence: 47959           they  PRP   O\n",
       "1048571  Sentence: 47959      responded  VBD   O\n",
       "1048572  Sentence: 47959             to   TO   O\n",
       "1048573  Sentence: 47959            the   DT   O\n",
       "1048574  Sentence: 47959         attack   NN   O\n",
       "\n",
       "[1048575 rows x 4 columns]"
      ]
     },
     "execution_count": 4,
     "metadata": {},
     "output_type": "execute_result"
    }
   ],
   "source": [
    "data"
   ]
  },
  {
   "cell_type": "code",
   "execution_count": 5,
   "metadata": {
    "colab": {
     "base_uri": "https://localhost:8080/"
    },
    "id": "aiaGiA4XNzKv",
    "outputId": "104943d7-36c9-43e5-d638-9a479fdf86f3"
   },
   "outputs": [
    {
     "data": {
      "text/plain": [
       "[['Thousands', 'NNS', 'O'],\n",
       " ['of', 'IN', 'O'],\n",
       " ['demonstrators', 'NNS', 'O'],\n",
       " ['have', 'VBP', 'O'],\n",
       " ['marched', 'VBN', 'O'],\n",
       " ['through', 'IN', 'O'],\n",
       " ['London', 'NNP', 'B-geo'],\n",
       " ['to', 'TO', 'O'],\n",
       " ['protest', 'VB', 'O'],\n",
       " ['the', 'DT', 'O'],\n",
       " ['war', 'NN', 'O'],\n",
       " ['in', 'IN', 'O'],\n",
       " ['Iraq', 'NNP', 'B-geo'],\n",
       " ['and', 'CC', 'O'],\n",
       " ['demand', 'VB', 'O'],\n",
       " ['the', 'DT', 'O'],\n",
       " ['withdrawal', 'NN', 'O'],\n",
       " ['of', 'IN', 'O'],\n",
       " ['British', 'JJ', 'B-gpe'],\n",
       " ['troops', 'NNS', 'O'],\n",
       " ['from', 'IN', 'O'],\n",
       " ['that', 'DT', 'O'],\n",
       " ['country', 'NN', 'O'],\n",
       " ['.', '.', 'O']]"
      ]
     },
     "execution_count": 5,
     "metadata": {},
     "output_type": "execute_result"
    }
   ],
   "source": [
    "grouped[0]"
   ]
  },
  {
   "cell_type": "code",
   "execution_count": 6,
   "metadata": {
    "colab": {
     "base_uri": "https://localhost:8080/"
    },
    "id": "aiHcE0NnWMw8",
    "outputId": "34b8f160-2591-40fb-b481-05cc2c2478c1"
   },
   "outputs": [
    {
     "data": {
      "text/plain": [
       "([['Thousands', 'NNS'],\n",
       "  ['of', 'IN'],\n",
       "  ['demonstrators', 'NNS'],\n",
       "  ['have', 'VBP'],\n",
       "  ['marched', 'VBN'],\n",
       "  ['through', 'IN'],\n",
       "  ['London', 'NNP'],\n",
       "  ['to', 'TO'],\n",
       "  ['protest', 'VB'],\n",
       "  ['the', 'DT'],\n",
       "  ['war', 'NN'],\n",
       "  ['in', 'IN'],\n",
       "  ['Iraq', 'NNP'],\n",
       "  ['and', 'CC'],\n",
       "  ['demand', 'VB'],\n",
       "  ['the', 'DT'],\n",
       "  ['withdrawal', 'NN'],\n",
       "  ['of', 'IN'],\n",
       "  ['British', 'JJ'],\n",
       "  ['troops', 'NNS'],\n",
       "  ['from', 'IN'],\n",
       "  ['that', 'DT'],\n",
       "  ['country', 'NN'],\n",
       "  ['.', '.']],\n",
       " ['O',\n",
       "  'O',\n",
       "  'O',\n",
       "  'O',\n",
       "  'O',\n",
       "  'O',\n",
       "  'B-geo',\n",
       "  'O',\n",
       "  'O',\n",
       "  'O',\n",
       "  'O',\n",
       "  'O',\n",
       "  'B-geo',\n",
       "  'O',\n",
       "  'O',\n",
       "  'O',\n",
       "  'O',\n",
       "  'O',\n",
       "  'B-gpe',\n",
       "  'O',\n",
       "  'O',\n",
       "  'O',\n",
       "  'O',\n",
       "  'O'])"
      ]
     },
     "execution_count": 6,
     "metadata": {},
     "output_type": "execute_result"
    }
   ],
   "source": [
    "X_list[0], y_list[0]"
   ]
  },
  {
   "cell_type": "code",
   "execution_count": 7,
   "metadata": {
    "colab": {
     "base_uri": "https://localhost:8080/"
    },
    "id": "Vih8Evs6FQoT",
    "outputId": "44df1b8e-8495-4853-eff5-d64aa3403404"
   },
   "outputs": [
    {
     "data": {
      "text/plain": [
       "array(['O', 'B-geo', 'B-gpe', 'B-per', 'I-geo', 'B-org', 'I-org', 'B-tim',\n",
       "       'B-art', 'I-art', 'I-per', 'I-gpe', 'I-tim', 'B-nat', 'B-eve',\n",
       "       'I-eve', 'I-nat'], dtype=object)"
      ]
     },
     "execution_count": 7,
     "metadata": {},
     "output_type": "execute_result"
    }
   ],
   "source": [
    "data.Tag.unique()"
   ]
  },
  {
   "cell_type": "code",
   "execution_count": 8,
   "metadata": {
    "id": "MpKRJPkNtbc8"
   },
   "outputs": [],
   "source": [
    "from sklearn.model_selection import train_test_split\n",
    "\n",
    "data_train, data_test, y_train, y_test = train_test_split(X_list, y_list, test_size=0.2, random_state=1337)"
   ]
  },
  {
   "cell_type": "code",
   "execution_count": 9,
   "metadata": {
    "id": "q9IIfsaxtgws"
   },
   "outputs": [],
   "source": [
    "def word2features(sent, i):\n",
    "    word = sent[i][0]\n",
    "    postag = sent[i][1]\n",
    "\n",
    "    features = {\n",
    "        'word.lower()': word.lower(),\n",
    "        'word.isupper()': word.isupper(),\n",
    "        'word.istitle()': word.istitle(),\n",
    "        'word.isdigit()': word.isdigit(),\n",
    "        'postag': postag,\n",
    "        ### Your code goes here ###\n",
    "    }\n",
    "    if i > 0:\n",
    "        word1 = sent[i-1][0]\n",
    "        postag1 = sent[i-1][1]\n",
    "        features.update({\n",
    "            '-1:word.lower()': word1.lower(),\n",
    "            '-1:word.istitle()': word1.istitle(),\n",
    "            '-1:word.isupper()': word1.isupper(),\n",
    "            ### Your code goes here ###\n",
    "        })\n",
    "    else:\n",
    "        features['BOS'] = True\n",
    "\n",
    "    if i < len(sent)-1:\n",
    "        word1 = sent[i+1][0]\n",
    "        postag1 = sent[i+1][1]\n",
    "        features.update({\n",
    "            '+1:word.lower()': word1.lower(),\n",
    "            '+1:word.istitle()': word1.istitle(),\n",
    "            '+1:word.isupper()': word1.isupper(),\n",
    "            ### Your code goes here ###\n",
    "        })\n",
    "    else:\n",
    "        features['EOS'] = True\n",
    "\n",
    "    return features\n",
    "\n",
    "def sent2features(sent):\n",
    "    return [word2features(sent, i) for i in range(len(sent))]"
   ]
  },
  {
   "cell_type": "code",
   "execution_count": 10,
   "metadata": {
    "id": "SamPlykmtjHV"
   },
   "outputs": [],
   "source": [
    "X_train = [sent2features(s) for s in data_train]\n",
    "X_test = [sent2features(s) for s in data_test]"
   ]
  },
  {
   "cell_type": "code",
   "execution_count": 11,
   "metadata": {
    "colab": {
     "base_uri": "https://localhost:8080/"
    },
    "id": "yXXomkjRKDNX",
    "outputId": "13df5c95-9aee-414c-8e36-c6c874c2b5fc"
   },
   "outputs": [
    {
     "data": {
      "text/plain": [
       "{'word.lower()': 'the',\n",
       " 'word.isupper()': False,\n",
       " 'word.istitle()': True,\n",
       " 'word.isdigit()': False,\n",
       " 'postag': 'DT',\n",
       " 'BOS': True,\n",
       " '+1:word.lower()': 'student',\n",
       " '+1:word.istitle()': False,\n",
       " '+1:word.isupper()': False}"
      ]
     },
     "execution_count": 11,
     "metadata": {},
     "output_type": "execute_result"
    }
   ],
   "source": [
    "X_train[0][0]"
   ]
  },
  {
   "cell_type": "markdown",
   "metadata": {
    "id": "Ns70XXlsYPyM"
   },
   "source": [
    "Преобразую слова и теги к численному виду для ускорения и улучшения работы модели"
   ]
  },
  {
   "cell_type": "code",
   "execution_count": 12,
   "metadata": {
    "colab": {
     "base_uri": "https://localhost:8080/"
    },
    "id": "mHnYfLnJGqFs",
    "outputId": "9fa5e4ec-fbee-4a59-dbd3-a45f17ca0cbb"
   },
   "outputs": [
    {
     "name": "stdout",
     "output_type": "stream",
     "text": [
      "The index of the word German is 205.\n",
      "The word with index 205 is German.\n"
     ]
    }
   ],
   "source": [
    "# преобразование слов и тегов к численному виду\n",
    "from future.utils import iteritems\n",
    "word2idx = {w: i+2 for i, w in enumerate(data.Word.unique())}\n",
    "tag2idx = {t: i+1 for i, t in enumerate(data.Tag.unique())}\n",
    "idx2tag = {v: k for k, v in iteritems(tag2idx)}\n",
    "\n",
    "word2idx[\"--UNKNOWN_WORD--\"]= 0\n",
    "word2idx[\"--PADDING--\"]= 1\n",
    "tag2idx[\"--PADDING--\"] = 0\n",
    "\n",
    "idx2word = {idx: word for word, idx in word2idx.items()}\n",
    "\n",
    "\n",
    "# проверка слова\n",
    "test_word = \"German\"\n",
    "\n",
    "test_word_idx = word2idx[test_word]\n",
    "test_word_lookup = idx2word[test_word_idx]\n",
    "\n",
    "print(\"The index of the word {} is {}.\".format(test_word, test_word_idx))\n",
    "print(\"The word with index {} is {}.\".format(test_word_idx, test_word_lookup))\n"
   ]
  },
  {
   "cell_type": "code",
   "execution_count": 13,
   "metadata": {
    "colab": {
     "base_uri": "https://localhost:8080/"
    },
    "id": "zz2jXkGs7y1H",
    "outputId": "5423677a-0aae-4427-8fe1-dcd70af6da78"
   },
   "outputs": [
    {
     "name": "stdout",
     "output_type": "stream",
     "text": [
      "X[0]: ['Thousands', 'of', 'demonstrators', 'have', 'marched', 'through', 'London', 'to', 'protest', 'the', 'war', 'in', 'Iraq', 'and', 'demand', 'the', 'withdrawal', 'of', 'British', 'troops', 'from', 'that', 'country', '.']\n",
      "y[0]: ['O', 'O', 'O', 'O', 'O', 'O', 'B-geo', 'O', 'O', 'O', 'O', 'O', 'B-geo', 'O', 'O', 'O', 'O', 'O', 'B-gpe', 'O', 'O', 'O', 'O', 'O']\n"
     ]
    }
   ],
   "source": [
    "X = [[word[0] for word in sentence] for sentence in grouped]\n",
    "y = [[word[2] for word in sentence] for sentence in grouped]\n",
    "print(\"X[0]:\", X[0])\n",
    "print(\"y[0]:\", y[0])"
   ]
  },
  {
   "cell_type": "code",
   "execution_count": 14,
   "metadata": {
    "id": "QUGXPTk0e_3j"
   },
   "outputs": [],
   "source": [
    "# будут использоваться дальше и в параметрах модели \n",
    "word_counts = data.groupby(\"Sentence #\")[\"Word\"].agg([\"count\"])\n",
    "MAX_SENTENCE = word_counts.max()[0]\n",
    "WORD_COUNT = len(word2idx)\n",
    "TAG_COUNT = len(tag2idx)\n",
    "DENSE_EMBEDDING = 50\n",
    "LSTM_UNITS = 50\n",
    "LSTM_DROPOUT = 0.1\n",
    "DENSE_UNITS = 100\n",
    "BATCH_SIZE = 256\n",
    "MAX_EPOCHS = 5"
   ]
  },
  {
   "cell_type": "code",
   "execution_count": 15,
   "metadata": {
    "colab": {
     "base_uri": "https://localhost:8080/"
    },
    "id": "VPwky03mKY53",
    "outputId": "75ff3ba4-9974-40d6-a577-b499282a2900"
   },
   "outputs": [
    {
     "name": "stdout",
     "output_type": "stream",
     "text": [
      "X[0]: [2, 3, 4, 5, 6, 7, 8, 9, 10, 11, 12, 13, 14, 15, 16, 11, 17, 3, 18, 19, 20, 21, 22, 23, 1, 1, 1, 1, 1, 1, 1, 1, 1, 1, 1, 1, 1, 1, 1, 1, 1, 1, 1, 1, 1, 1, 1, 1, 1, 1, 1, 1, 1, 1, 1, 1, 1, 1, 1, 1, 1, 1, 1, 1, 1, 1, 1, 1, 1, 1, 1, 1, 1, 1, 1, 1, 1, 1, 1, 1, 1, 1, 1, 1, 1, 1, 1, 1, 1, 1, 1, 1, 1, 1, 1, 1, 1, 1, 1, 1, 1, 1, 1, 1]\n",
      "y[0]: [1, 1, 1, 1, 1, 1, 2, 1, 1, 1, 1, 1, 2, 1, 1, 1, 1, 1, 3, 1, 1, 1, 1, 1, 0, 0, 0, 0, 0, 0, 0, 0, 0, 0, 0, 0, 0, 0, 0, 0, 0, 0, 0, 0, 0, 0, 0, 0, 0, 0, 0, 0, 0, 0, 0, 0, 0, 0, 0, 0, 0, 0, 0, 0, 0, 0, 0, 0, 0, 0, 0, 0, 0, 0, 0, 0, 0, 0, 0, 0, 0, 0, 0, 0, 0, 0, 0, 0, 0, 0, 0, 0, 0, 0, 0, 0, 0, 0, 0, 0, 0, 0, 0, 0]\n",
      "X[5555]: [10483, 6712, 11, 939, 3223, 1372, 9027, 6709, 13, 11, 936, 95, 298, 299, 1059, 3180, 1245, 299, 21, 3, 11, 3172, 3235, 11, 1930, 1665, 3, 47, 622, 193, 11, 19974, 11615, 1345, 19975, 23, 1, 1, 1, 1, 1, 1, 1, 1, 1, 1, 1, 1, 1, 1, 1, 1, 1, 1, 1, 1, 1, 1, 1, 1, 1, 1, 1, 1, 1, 1, 1, 1, 1, 1, 1, 1, 1, 1, 1, 1, 1, 1, 1, 1, 1, 1, 1, 1, 1, 1, 1, 1, 1, 1, 1, 1, 1, 1, 1, 1, 1, 1, 1, 1, 1, 1, 1, 1]\n",
      "y[5555]: [6, 1, 1, 1, 1, 1, 1, 1, 1, 1, 1, 1, 1, 1, 1, 1, 1, 1, 1, 1, 1, 6, 1, 1, 1, 1, 1, 1, 1, 1, 1, 6, 1, 1, 1, 1, 0, 0, 0, 0, 0, 0, 0, 0, 0, 0, 0, 0, 0, 0, 0, 0, 0, 0, 0, 0, 0, 0, 0, 0, 0, 0, 0, 0, 0, 0, 0, 0, 0, 0, 0, 0, 0, 0, 0, 0, 0, 0, 0, 0, 0, 0, 0, 0, 0, 0, 0, 0, 0, 0, 0, 0, 0, 0, 0, 0, 0, 0, 0, 0, 0, 0, 0, 0]\n"
     ]
    }
   ],
   "source": [
    "# упрощение данных, представление цифрами\n",
    "X = [[word2idx[word] for word in sentence] for sentence in X]\n",
    "y = [[tag2idx[tag] for tag in sentence] for sentence in y]\n",
    "\n",
    "# выравнивание длин предложений\n",
    "X = [sentence + [word2idx[\"--PADDING--\"]] * (MAX_SENTENCE - len(sentence)) for sentence in X]\n",
    "y = [sentence + [tag2idx[\"--PADDING--\"]] * (MAX_SENTENCE - len(sentence)) for sentence in y]\n",
    "\n",
    "print(\"X[0]:\", X[0])\n",
    "print(\"y[0]:\", y[0])\n",
    "print(\"X[5555]:\", X[5555])\n",
    "print(\"y[5555]:\", y[5555])"
   ]
  },
  {
   "cell_type": "code",
   "execution_count": 16,
   "metadata": {
    "colab": {
     "base_uri": "https://localhost:8080/"
    },
    "id": "swzHOgwcTl4s",
    "outputId": "653a8180-f8a0-49ec-8f28-023abe93386e"
   },
   "outputs": [
    {
     "name": "stdout",
     "output_type": "stream",
     "text": [
      "X[0]: [2, 3, 4, 5, 6, 7, 8, 9, 10, 11, 12, 13, 14, 15, 16, 11, 17, 3, 18, 19, 20, 21, 22, 23, 1, 1, 1, 1, 1, 1, 1, 1, 1, 1, 1, 1, 1, 1, 1, 1, 1, 1, 1, 1, 1, 1, 1, 1, 1, 1, 1, 1, 1, 1, 1, 1, 1, 1, 1, 1, 1, 1, 1, 1, 1, 1, 1, 1, 1, 1, 1, 1, 1, 1, 1, 1, 1, 1, 1, 1, 1, 1, 1, 1, 1, 1, 1, 1, 1, 1, 1, 1, 1, 1, 1, 1, 1, 1, 1, 1, 1, 1, 1, 1] 47959 104\n",
      "y[0]: [[0. 1. 0. ... 0. 0. 0.]\n",
      " [0. 1. 0. ... 0. 0. 0.]\n",
      " [0. 1. 0. ... 0. 0. 0.]\n",
      " ...\n",
      " [1. 0. 0. ... 0. 0. 0.]\n",
      " [1. 0. 0. ... 0. 0. 0.]\n",
      " [1. 0. 0. ... 0. 0. 0.]] 47959 104\n"
     ]
    }
   ],
   "source": [
    "y = [ np.eye(TAG_COUNT)[sentence] for sentence in y]\n",
    "print(\"X[0]:\", X[0], len(X), len(X[0]))\n",
    "print(\"y[0]:\", y[0], len(y), len(y[0]))"
   ]
  },
  {
   "cell_type": "code",
   "execution_count": 17,
   "metadata": {
    "colab": {
     "base_uri": "https://localhost:8080/"
    },
    "id": "rHyRdOL38nGg",
    "outputId": "5648d2b8-588e-4a3c-e1a9-2c3befc3ff4f"
   },
   "outputs": [
    {
     "name": "stdout",
     "output_type": "stream",
     "text": [
      "Number of sentences in the training dataset: 43163\n",
      "Number of sentences in the test dataset : 4796\n",
      "X[0]: [ 7624   127  6442    21   129   182 23499  1904    65 16570  3292    23\n",
      "     1     1     1     1     1     1     1     1     1     1     1     1\n",
      "     1     1     1     1     1     1     1     1     1     1     1     1\n",
      "     1     1     1     1     1     1     1     1     1     1     1     1\n",
      "     1     1     1     1     1     1     1     1     1     1     1     1\n",
      "     1     1     1     1     1     1     1     1     1     1     1     1\n",
      "     1     1     1     1     1     1     1     1     1     1     1     1\n",
      "     1     1     1     1     1     1     1     1     1     1     1     1\n",
      "     1     1     1     1     1     1     1     1] 43163 104\n",
      "y[0]: [[0. 0. 0. ... 0. 0. 0.]\n",
      " [0. 1. 0. ... 0. 0. 0.]\n",
      " [0. 1. 0. ... 0. 0. 0.]\n",
      " ...\n",
      " [1. 0. 0. ... 0. 0. 0.]\n",
      " [1. 0. 0. ... 0. 0. 0.]\n",
      " [1. 0. 0. ... 0. 0. 0.]] 43163 104\n"
     ]
    }
   ],
   "source": [
    "X_train, X_test, y_train, y_test = train_test_split(X, y, test_size=0.1, random_state=42)\n",
    "\n",
    "X_train = [np.array(val) for val in X_train]\n",
    "X_test = [np.array(val) for val in X_test]\n",
    "y_train = [np.array(val) for val in y_train]\n",
    "y_test = [np.array(val) for val in y_test]\n",
    "\n",
    "print(\"Number of sentences in the training dataset: {}\".format(len(X_train)))\n",
    "print(\"Number of sentences in the test dataset : {}\".format(len(X_test)))\n",
    "\n",
    "print(\"X[0]:\", X_train[0], len(X_train), len(X_train[2]))\n",
    "print(\"y[0]:\", y_train[0], len(y_train), len(y_train[2]))"
   ]
  },
  {
   "cell_type": "code",
   "execution_count": 18,
   "metadata": {
    "colab": {
     "base_uri": "https://localhost:8080/"
    },
    "id": "1mxcysEQjsce",
    "outputId": "e2e250e4-8c0c-4dae-a342-db08754e1d01"
   },
   "outputs": [
    {
     "name": "stdout",
     "output_type": "stream",
     "text": [
      "Looking in indexes: https://pypi.org/simple, https://us-python.pkg.dev/colab-wheels/public/simple/\n",
      "Collecting git+https://www.github.com/keras-team/keras-contrib.git\n",
      "  Cloning https://www.github.com/keras-team/keras-contrib.git to /tmp/pip-req-build-042ulwcm\n",
      "  Running command git clone -q https://www.github.com/keras-team/keras-contrib.git /tmp/pip-req-build-042ulwcm\n",
      "Requirement already satisfied: keras in /usr/local/lib/python3.7/dist-packages (from keras-contrib==2.0.8) (2.9.0)\n",
      "Looking in indexes: https://pypi.org/simple, https://us-python.pkg.dev/colab-wheels/public/simple/\n",
      "Requirement already satisfied: plot.keras.history in /usr/local/lib/python3.7/dist-packages (1.1.37)\n",
      "Requirement already satisfied: support-developer>=1.0.2 in /usr/local/lib/python3.7/dist-packages (from plot.keras.history) (1.0.4)\n",
      "Requirement already satisfied: sanitize-ml-labels>=1.0.48 in /usr/local/lib/python3.7/dist-packages (from plot.keras.history) (1.0.49)\n",
      "Requirement already satisfied: pandas in /usr/local/lib/python3.7/dist-packages (from plot.keras.history) (1.3.5)\n",
      "Requirement already satisfied: scipy in /usr/local/lib/python3.7/dist-packages (from plot.keras.history) (1.7.3)\n",
      "Requirement already satisfied: matplotlib in /usr/local/lib/python3.7/dist-packages (from plot.keras.history) (3.2.2)\n",
      "Requirement already satisfied: compress-json in /usr/local/lib/python3.7/dist-packages (from sanitize-ml-labels>=1.0.48->plot.keras.history) (1.0.8)\n",
      "Requirement already satisfied: cycler>=0.10 in /usr/local/lib/python3.7/dist-packages (from matplotlib->plot.keras.history) (0.11.0)\n",
      "Requirement already satisfied: pyparsing!=2.0.4,!=2.1.2,!=2.1.6,>=2.0.1 in /usr/local/lib/python3.7/dist-packages (from matplotlib->plot.keras.history) (3.0.9)\n",
      "Requirement already satisfied: python-dateutil>=2.1 in /usr/local/lib/python3.7/dist-packages (from matplotlib->plot.keras.history) (2.8.2)\n",
      "Requirement already satisfied: kiwisolver>=1.0.1 in /usr/local/lib/python3.7/dist-packages (from matplotlib->plot.keras.history) (1.4.4)\n",
      "Requirement already satisfied: numpy>=1.11 in /usr/local/lib/python3.7/dist-packages (from matplotlib->plot.keras.history) (1.21.6)\n",
      "Requirement already satisfied: typing-extensions in /usr/local/lib/python3.7/dist-packages (from kiwisolver>=1.0.1->matplotlib->plot.keras.history) (4.1.1)\n",
      "Requirement already satisfied: six>=1.5 in /usr/local/lib/python3.7/dist-packages (from python-dateutil>=2.1->matplotlib->plot.keras.history) (1.15.0)\n",
      "Requirement already satisfied: pytz>=2017.3 in /usr/local/lib/python3.7/dist-packages (from pandas->plot.keras.history) (2022.4)\n"
     ]
    }
   ],
   "source": [
    "! pip install git+https://www.github.com/keras-team/keras-contrib.git\n",
    "! pip install plot.keras.history"
   ]
  },
  {
   "cell_type": "code",
   "execution_count": 19,
   "metadata": {
    "id": "IQCu8yJ2aJ_X"
   },
   "outputs": [],
   "source": [
    "import pickle\n",
    "import operator\n",
    "import re\n",
    "import string\n",
    "import pandas as pd\n",
    "import numpy as np\n",
    "import matplotlib.pyplot as plt\n",
    "\n",
    "from plot_keras_history import plot_history\n",
    "from sklearn.model_selection import train_test_split\n",
    "from sklearn.metrics import multilabel_confusion_matrix\n",
    "from keras_contrib.utils import save_load_utils\n",
    "\n",
    "from keras import layers\n",
    "from keras import optimizers\n",
    "\n",
    "from keras.models import Model\n",
    "from keras import Input\n",
    "\n",
    "from keras_contrib.layers import CRF\n",
    "from keras.layers import LSTM, Embedding, Dense, TimeDistributed, Dropout, Bidirectional\n",
    "from keras_contrib import losses\n",
    "from keras_contrib import metrics"
   ]
  },
  {
   "cell_type": "code",
   "execution_count": 20,
   "metadata": {
    "id": "Udu6yiT9t0Vf"
   },
   "outputs": [],
   "source": [
    "# Инициализировать и обучить модель, оценить её качество, прокомментировать, получается ли лучшее качество с вашими признаками или без них и почему."
   ]
  },
  {
   "cell_type": "code",
   "execution_count": 21,
   "metadata": {
    "colab": {
     "base_uri": "https://localhost:8080/"
    },
    "id": "T6b9XRVjhoAa",
    "outputId": "1bba9fc1-d511-495a-88bb-d111f7b9e984"
   },
   "outputs": [
    {
     "name": "stdout",
     "output_type": "stream",
     "text": [
      "Model: \"model\"\n",
      "_________________________________________________________________\n",
      " Layer (type)                Output Shape              Param #   \n",
      "=================================================================\n",
      " input_1 (InputLayer)        [(None, 104)]             0         \n",
      "                                                                 \n",
      " embedding (Embedding)       (None, 104, 50)           1759000   \n",
      "                                                                 \n",
      " bidirectional (Bidirectiona  (None, 104, 100)         40400     \n",
      " l)                                                              \n",
      "                                                                 \n",
      " time_distributed (TimeDistr  (None, 104, 100)         10100     \n",
      " ibuted)                                                         \n",
      "                                                                 \n",
      " crf (CRF)                   (None, 104, 18)           2178      \n",
      "                                                                 \n",
      "=================================================================\n",
      "Total params: 1,811,678\n",
      "Trainable params: 1,811,678\n",
      "Non-trainable params: 0\n",
      "_________________________________________________________________\n"
     ]
    }
   ],
   "source": [
    "# Инициализация модели\n",
    "input_layer = layers.Input(shape=(MAX_SENTENCE,))\n",
    "\n",
    "model = layers.Embedding(\n",
    "    input_dim = WORD_COUNT, \n",
    "    output_dim = DENSE_EMBEDDING, \n",
    "    embeddings_initializer=\"uniform\", \n",
    "    input_length=MAX_SENTENCE\n",
    "    )(input_layer)\n",
    "\n",
    "model = layers.Bidirectional(\n",
    "    layers.LSTM(LSTM_UNITS, recurrent_dropout=LSTM_DROPOUT, return_sequences=True)\n",
    "    )(model)\n",
    "\n",
    "model = layers.TimeDistributed(\n",
    "    layers.Dense(DENSE_UNITS, activation=\"relu\")\n",
    "    )(model)\n",
    "\n",
    "crf_layer = CRF(units=TAG_COUNT)\n",
    "output_layer = crf_layer(model)\n",
    "\n",
    "ner_model = Model(input_layer, output_layer)\n",
    "\n",
    "loss = losses.crf_loss\n",
    "acc_metric = metrics.crf_accuracy\n",
    "opt = optimizers.Adam(learning_rate=0.001)\n",
    "\n",
    "ner_model.compile(optimizer=opt, loss=loss, metrics=[acc_metric])\n",
    "\n",
    "ner_model.summary()"
   ]
  },
  {
   "cell_type": "code",
   "execution_count": 22,
   "metadata": {
    "colab": {
     "base_uri": "https://localhost:8080/",
     "height": 760
    },
    "id": "wKKvhwnhpDJH",
    "outputId": "ce7cab85-57c6-4c4b-dbbf-297ed0d8fe53"
   },
   "outputs": [
    {
     "name": "stdout",
     "output_type": "stream",
     "text": [
      "Epoch 1/5\n"
     ]
    },
    {
     "ename": "ValueError",
     "evalue": "ignored",
     "output_type": "error",
     "traceback": [
      "\u001b[0;31m---------------------------------------------------------------------------\u001b[0m",
      "\u001b[0;31mValueError\u001b[0m                                Traceback (most recent call last)",
      "\u001b[0;32m<ipython-input-22-c6cbd789c094>\u001b[0m in \u001b[0;36m<module>\u001b[0;34m\u001b[0m\n\u001b[1;32m      1\u001b[0m \u001b[0;31m# Обучение модели\u001b[0m\u001b[0;34m\u001b[0m\u001b[0;34m\u001b[0m\u001b[0;34m\u001b[0m\u001b[0m\n\u001b[0;32m----> 2\u001b[0;31m \u001b[0mhistory\u001b[0m \u001b[0;34m=\u001b[0m \u001b[0mner_model\u001b[0m\u001b[0;34m.\u001b[0m\u001b[0mfit\u001b[0m\u001b[0;34m(\u001b[0m\u001b[0mX_train\u001b[0m\u001b[0;34m,\u001b[0m \u001b[0my_train\u001b[0m\u001b[0;34m,\u001b[0m \u001b[0mbatch_size\u001b[0m\u001b[0;34m=\u001b[0m\u001b[0mBATCH_SIZE\u001b[0m\u001b[0;34m,\u001b[0m \u001b[0mepochs\u001b[0m\u001b[0;34m=\u001b[0m\u001b[0mMAX_EPOCHS\u001b[0m\u001b[0;34m,\u001b[0m \u001b[0mvalidation_split\u001b[0m\u001b[0;34m=\u001b[0m\u001b[0;36m0.1\u001b[0m\u001b[0;34m,\u001b[0m \u001b[0mverbose\u001b[0m\u001b[0;34m=\u001b[0m\u001b[0;36m2\u001b[0m\u001b[0;34m)\u001b[0m\u001b[0;34m\u001b[0m\u001b[0;34m\u001b[0m\u001b[0m\n\u001b[0m",
      "\u001b[0;32m/usr/local/lib/python3.7/dist-packages/keras/utils/traceback_utils.py\u001b[0m in \u001b[0;36merror_handler\u001b[0;34m(*args, **kwargs)\u001b[0m\n\u001b[1;32m     65\u001b[0m     \u001b[0;32mexcept\u001b[0m \u001b[0mException\u001b[0m \u001b[0;32mas\u001b[0m \u001b[0me\u001b[0m\u001b[0;34m:\u001b[0m  \u001b[0;31m# pylint: disable=broad-except\u001b[0m\u001b[0;34m\u001b[0m\u001b[0;34m\u001b[0m\u001b[0m\n\u001b[1;32m     66\u001b[0m       \u001b[0mfiltered_tb\u001b[0m \u001b[0;34m=\u001b[0m \u001b[0m_process_traceback_frames\u001b[0m\u001b[0;34m(\u001b[0m\u001b[0me\u001b[0m\u001b[0;34m.\u001b[0m\u001b[0m__traceback__\u001b[0m\u001b[0;34m)\u001b[0m\u001b[0;34m\u001b[0m\u001b[0;34m\u001b[0m\u001b[0m\n\u001b[0;32m---> 67\u001b[0;31m       \u001b[0;32mraise\u001b[0m \u001b[0me\u001b[0m\u001b[0;34m.\u001b[0m\u001b[0mwith_traceback\u001b[0m\u001b[0;34m(\u001b[0m\u001b[0mfiltered_tb\u001b[0m\u001b[0;34m)\u001b[0m \u001b[0;32mfrom\u001b[0m \u001b[0;32mNone\u001b[0m\u001b[0;34m\u001b[0m\u001b[0;34m\u001b[0m\u001b[0m\n\u001b[0m\u001b[1;32m     68\u001b[0m     \u001b[0;32mfinally\u001b[0m\u001b[0;34m:\u001b[0m\u001b[0;34m\u001b[0m\u001b[0;34m\u001b[0m\u001b[0m\n\u001b[1;32m     69\u001b[0m       \u001b[0;32mdel\u001b[0m \u001b[0mfiltered_tb\u001b[0m\u001b[0;34m\u001b[0m\u001b[0;34m\u001b[0m\u001b[0m\n",
      "\u001b[0;32m/usr/local/lib/python3.7/dist-packages/keras/engine/training.py\u001b[0m in \u001b[0;36mtf__train_function\u001b[0;34m(iterator)\u001b[0m\n\u001b[1;32m     13\u001b[0m                 \u001b[0;32mtry\u001b[0m\u001b[0;34m:\u001b[0m\u001b[0;34m\u001b[0m\u001b[0;34m\u001b[0m\u001b[0m\n\u001b[1;32m     14\u001b[0m                     \u001b[0mdo_return\u001b[0m \u001b[0;34m=\u001b[0m \u001b[0;32mTrue\u001b[0m\u001b[0;34m\u001b[0m\u001b[0;34m\u001b[0m\u001b[0m\n\u001b[0;32m---> 15\u001b[0;31m                     \u001b[0mretval_\u001b[0m \u001b[0;34m=\u001b[0m \u001b[0mag__\u001b[0m\u001b[0;34m.\u001b[0m\u001b[0mconverted_call\u001b[0m\u001b[0;34m(\u001b[0m\u001b[0mag__\u001b[0m\u001b[0;34m.\u001b[0m\u001b[0mld\u001b[0m\u001b[0;34m(\u001b[0m\u001b[0mstep_function\u001b[0m\u001b[0;34m)\u001b[0m\u001b[0;34m,\u001b[0m \u001b[0;34m(\u001b[0m\u001b[0mag__\u001b[0m\u001b[0;34m.\u001b[0m\u001b[0mld\u001b[0m\u001b[0;34m(\u001b[0m\u001b[0mself\u001b[0m\u001b[0;34m)\u001b[0m\u001b[0;34m,\u001b[0m \u001b[0mag__\u001b[0m\u001b[0;34m.\u001b[0m\u001b[0mld\u001b[0m\u001b[0;34m(\u001b[0m\u001b[0miterator\u001b[0m\u001b[0;34m)\u001b[0m\u001b[0;34m)\u001b[0m\u001b[0;34m,\u001b[0m \u001b[0;32mNone\u001b[0m\u001b[0;34m,\u001b[0m \u001b[0mfscope\u001b[0m\u001b[0;34m)\u001b[0m\u001b[0;34m\u001b[0m\u001b[0;34m\u001b[0m\u001b[0m\n\u001b[0m\u001b[1;32m     16\u001b[0m                 \u001b[0;32mexcept\u001b[0m\u001b[0;34m:\u001b[0m\u001b[0;34m\u001b[0m\u001b[0;34m\u001b[0m\u001b[0m\n\u001b[1;32m     17\u001b[0m                     \u001b[0mdo_return\u001b[0m \u001b[0;34m=\u001b[0m \u001b[0;32mFalse\u001b[0m\u001b[0;34m\u001b[0m\u001b[0;34m\u001b[0m\u001b[0m\n",
      "\u001b[0;31mValueError\u001b[0m: in user code:\n\n    File \"/usr/local/lib/python3.7/dist-packages/keras/engine/training.py\", line 1051, in train_function  *\n        return step_function(self, iterator)\n    File \"/usr/local/lib/python3.7/dist-packages/keras/engine/training.py\", line 1040, in step_function  **\n        outputs = model.distribute_strategy.run(run_step, args=(data,))\n    File \"/usr/local/lib/python3.7/dist-packages/keras/engine/training.py\", line 1030, in run_step  **\n        outputs = model.train_step(data)\n    File \"/usr/local/lib/python3.7/dist-packages/keras/engine/training.py\", line 889, in train_step\n        y_pred = self(x, training=True)\n    File \"/usr/local/lib/python3.7/dist-packages/keras/utils/traceback_utils.py\", line 67, in error_handler\n        raise e.with_traceback(filtered_tb) from None\n    File \"/usr/local/lib/python3.7/dist-packages/keras/engine/input_spec.py\", line 200, in assert_input_compatibility\n        raise ValueError(f'Layer \"{layer_name}\" expects {len(input_spec)} input(s),'\n\n    ValueError: Layer \"model\" expects 1 input(s), but it received 43163 input tensors. Inputs received: [<tf.Tensor 'IteratorGetNext:0' shape=(None,) dtype=int64>, <tf.Tensor 'IteratorGetNext:1' shape=(None,) dtype=int64>, <tf.Tensor 'IteratorGetNext:2' shape=(None,) dtype=int64>, <tf.Tensor 'IteratorGetNext:3' shape=(None,) dtype=int64>, <tf.Tensor 'IteratorGetNext:4' shape=(None,) dtype=int64>, <tf.Tensor 'IteratorGetNext:5' shape=(None,) dtype=int64>, <tf.Tensor 'IteratorGetNext:6' shape=(None,) dtype=int64>, <tf.Tensor 'IteratorGetNext:7' shape=(None,) dtype=int64>, <tf.Tensor 'IteratorGetNext:8' shape=(None,) dtype=int64>, <tf.Tensor 'IteratorGetNext:9' shape=(None,) dtype=int64>, <tf.Tensor 'IteratorGetNext:10' shape=(None,) dtype=int64>, <tf.Tensor 'IteratorGetNext:11' shape=(None,) dtype=int64>, <tf.Tensor 'IteratorGetNext:12' shape=(None,) dtype=int64>, <tf.Tensor 'IteratorGetNext:13' shape=(None,) dtype=int64>, <tf.Tensor 'IteratorGetNext:14' shape=(None,) dtype=int64>, <tf.Tensor 'IteratorGetNext:15' shape=(None,) dtype=int64>, <tf.Tensor 'IteratorGetNext:16' shape=(None,) dtype=int64>, <tf.Tensor 'IteratorGetNext:17' shape=(None,) dtype=int64>, <tf.Tensor 'IteratorGetNext:18' shape=(None,) dtype=int64>, <tf.Tensor 'IteratorGetNext:19' shape=(None,) dtype=int64>, <tf.Tensor 'IteratorGetNext:20' shape=(None,) dtype=int64>, <tf.Tensor 'IteratorGetNext:21' shape=(None,) dtype=int64>, <tf.Tensor 'IteratorGetNext:22' shape=(None,) dtype=int64>, <tf.Tensor 'IteratorGe...\n"
     ]
    }
   ],
   "source": [
    "# Обучение модели\n",
    "history = ner_model.fit(X_train, y_train, batch_size=BATCH_SIZE, epochs=MAX_EPOCHS, validation_split=0.1, verbose=2)"
   ]
  },
  {
   "cell_type": "markdown",
   "metadata": {
    "id": "UY3wZvmhiAmv"
   },
   "source": [
    "Не удалось исправить и довести до работающего состояния даже на примере ner датасета (процесс заввершается с ошибкой после 15-17 минут ожидания), ниже смотрю на данные для лабораторной с наташей. "
   ]
  },
  {
   "cell_type": "code",
   "execution_count": null,
   "metadata": {
    "id": "K0_ygGhCVfQ3"
   },
   "outputs": [],
   "source": [
    "y_pred = ner_model.predict(X_test)\n",
    "\n",
    "y_pred = np.argmax(y_pred, axis=2)\n",
    "\n",
    "y_test = np.argmax(y_test, axis=2)\n",
    "\n",
    "accuracy = (y_pred == y_test).mean()\n",
    "\n",
    "print(\"Accuracy: {:.4f}/\".format(accuracy))"
   ]
  },
  {
   "cell_type": "code",
   "execution_count": null,
   "metadata": {
    "id": "DxizeToYVKoh"
   },
   "outputs": [],
   "source": [
    "from sklearn.metrics import f1_score\n",
    "f1 = f1_score(y_test, y_pred, average='macro')\n",
    "print('\\nf1_score = ', f1)"
   ]
  },
  {
   "cell_type": "markdown",
   "metadata": {
    "id": "uXf0WQQoXpvB"
   },
   "source": [
    "- В качестве решения любого задания <b>не принимается</b> модель с качеством менее 62.00% макроусредненной F1 на тесте. \n",
    "- <b>Можно</b> улучшать модели сверх предложенных условий: <b>добавлять свои признаки к указанным в задании</b>, изменять способ классификации и подбирать гиперпараметры. \n",
    "- Тестовые данные можно использовать только при оценке моделей.\n",
    "\n",
    "\n",
    "Данные для обучения моделей:"
   ]
  },
  {
   "cell_type": "code",
   "execution_count": 23,
   "metadata": {
    "colab": {
     "base_uri": "https://localhost:8080/"
    },
    "id": "R60bKVG2Xrm3",
    "outputId": "31b6455e-9eb7-4033-d111-762de73d1fd2"
   },
   "outputs": [
    {
     "name": "stdout",
     "output_type": "stream",
     "text": [
      "--2022-10-17 01:13:30--  https://www.dropbox.com/s/t1gs701zvqaxqnk/rusentiment_random_posts.csv\n",
      "Resolving www.dropbox.com (www.dropbox.com)... 162.125.4.18, 2620:100:6019:18::a27d:412\n",
      "Connecting to www.dropbox.com (www.dropbox.com)|162.125.4.18|:443... connected.\n",
      "HTTP request sent, awaiting response... 302 Found\n",
      "Location: /s/raw/t1gs701zvqaxqnk/rusentiment_random_posts.csv [following]\n",
      "--2022-10-17 01:13:31--  https://www.dropbox.com/s/raw/t1gs701zvqaxqnk/rusentiment_random_posts.csv\n",
      "Reusing existing connection to www.dropbox.com:443.\n",
      "HTTP request sent, awaiting response... 302 Found\n",
      "Location: https://ucf2e302f60aca7740ba46207219.dl.dropboxusercontent.com/cd/0/inline/Bu_ilFLsatT7G1WaNRVWbNrqm0PLLWP0mwj3CF-tvWm3BEzINDpuN1NanMzW_yWSEIcqFCiPNQsozGBWtIjkeeYX_ZKiZgTaFw1yE9WXeD6Pz6zrXKx7owNx26vN6wJzgawuWzoWppyvaE9vgNRFxQ0m8i6CxYdq5JAXEei4iT45zg/file# [following]\n",
      "--2022-10-17 01:13:31--  https://ucf2e302f60aca7740ba46207219.dl.dropboxusercontent.com/cd/0/inline/Bu_ilFLsatT7G1WaNRVWbNrqm0PLLWP0mwj3CF-tvWm3BEzINDpuN1NanMzW_yWSEIcqFCiPNQsozGBWtIjkeeYX_ZKiZgTaFw1yE9WXeD6Pz6zrXKx7owNx26vN6wJzgawuWzoWppyvaE9vgNRFxQ0m8i6CxYdq5JAXEei4iT45zg/file\n",
      "Resolving ucf2e302f60aca7740ba46207219.dl.dropboxusercontent.com (ucf2e302f60aca7740ba46207219.dl.dropboxusercontent.com)... 162.125.6.15, 2620:100:601c:15::a27d:60f\n",
      "Connecting to ucf2e302f60aca7740ba46207219.dl.dropboxusercontent.com (ucf2e302f60aca7740ba46207219.dl.dropboxusercontent.com)|162.125.6.15|:443... connected.\n",
      "HTTP request sent, awaiting response... 200 OK\n",
      "Length: 3158556 (3.0M) [text/plain]\n",
      "Saving to: ‘rusentiment_random_posts.csv’\n",
      "\n",
      "rusentiment_random_ 100%[===================>]   3.01M  --.-KB/s    in 0.02s   \n",
      "\n",
      "2022-10-17 01:13:32 (188 MB/s) - ‘rusentiment_random_posts.csv’ saved [3158556/3158556]\n",
      "\n"
     ]
    }
   ],
   "source": [
    "! wget https://www.dropbox.com/s/t1gs701zvqaxqnk/rusentiment_random_posts.csv"
   ]
  },
  {
   "cell_type": "markdown",
   "metadata": {
    "id": "NPr_dAG7Xxrv"
   },
   "source": [
    "Данные для тестирования моделей: "
   ]
  },
  {
   "cell_type": "code",
   "execution_count": 24,
   "metadata": {
    "colab": {
     "base_uri": "https://localhost:8080/"
    },
    "id": "1_8Y7Hq0X2bS",
    "outputId": "5c2e5eb1-a79b-4c8c-c5f8-a28494505bcb"
   },
   "outputs": [
    {
     "name": "stdout",
     "output_type": "stream",
     "text": [
      "--2022-10-17 01:14:03--  https://www.dropbox.com/s/gr4z1x39y1j6dtx/rusentiment_test.csv\n",
      "Resolving www.dropbox.com (www.dropbox.com)... 162.125.4.18, 2620:100:6019:18::a27d:412\n",
      "Connecting to www.dropbox.com (www.dropbox.com)|162.125.4.18|:443... connected.\n",
      "HTTP request sent, awaiting response... 302 Found\n",
      "Location: /s/raw/gr4z1x39y1j6dtx/rusentiment_test.csv [following]\n",
      "--2022-10-17 01:14:03--  https://www.dropbox.com/s/raw/gr4z1x39y1j6dtx/rusentiment_test.csv\n",
      "Reusing existing connection to www.dropbox.com:443.\n",
      "HTTP request sent, awaiting response... 302 Found\n",
      "Location: https://uc723eaed800a03f8c67495f96fb.dl.dropboxusercontent.com/cd/0/inline/Bu_4DdtGsUsGQRahz3jWlL4wo7PhTKPTr8RBsHXsrMqywQjjWZw6NA-kd_KM6I6K0z9O7XYGCHJx7ByMhYvD6YrnCraFMD0FkPvOWhbqR1KeTEEqfM_ODAZHQG2XND-cLE9gMgKlWpAzk4EOPjNECrgIwXtY_MSQcqsM69Ks3bDSeA/file# [following]\n",
      "--2022-10-17 01:14:04--  https://uc723eaed800a03f8c67495f96fb.dl.dropboxusercontent.com/cd/0/inline/Bu_4DdtGsUsGQRahz3jWlL4wo7PhTKPTr8RBsHXsrMqywQjjWZw6NA-kd_KM6I6K0z9O7XYGCHJx7ByMhYvD6YrnCraFMD0FkPvOWhbqR1KeTEEqfM_ODAZHQG2XND-cLE9gMgKlWpAzk4EOPjNECrgIwXtY_MSQcqsM69Ks3bDSeA/file\n",
      "Resolving uc723eaed800a03f8c67495f96fb.dl.dropboxusercontent.com (uc723eaed800a03f8c67495f96fb.dl.dropboxusercontent.com)... 162.125.6.15, 2620:100:6019:15::a27d:40f\n",
      "Connecting to uc723eaed800a03f8c67495f96fb.dl.dropboxusercontent.com (uc723eaed800a03f8c67495f96fb.dl.dropboxusercontent.com)|162.125.6.15|:443... connected.\n",
      "HTTP request sent, awaiting response... 200 OK\n",
      "Length: 441232 (431K) [text/plain]\n",
      "Saving to: ‘rusentiment_test.csv’\n",
      "\n",
      "rusentiment_test.cs 100%[===================>] 430.89K  --.-KB/s    in 0.006s  \n",
      "\n",
      "2022-10-17 01:14:04 (71.2 MB/s) - ‘rusentiment_test.csv’ saved [441232/441232]\n",
      "\n"
     ]
    }
   ],
   "source": [
    "! wget https://www.dropbox.com/s/gr4z1x39y1j6dtx/rusentiment_test.csv"
   ]
  },
  {
   "cell_type": "code",
   "execution_count": 25,
   "metadata": {
    "id": "yCe43IzegHK4"
   },
   "outputs": [],
   "source": [
    "import pandas as pd\n",
    "import numpy as np\n",
    "\n",
    "train = pd.read_csv(\"rusentiment_random_posts.csv\")\n",
    "train = train.fillna(method=\"ffill\")\n",
    "\n",
    "test = pd.read_csv(\"rusentiment_test.csv\")\n",
    "test = test.fillna(method=\"ffill\")"
   ]
  },
  {
   "cell_type": "code",
   "execution_count": 26,
   "metadata": {
    "colab": {
     "base_uri": "https://localhost:8080/",
     "height": 424
    },
    "id": "gXEEkR4tgHHC",
    "outputId": "755e6a54-634b-432d-c0a6-070427ca272f"
   },
   "outputs": [
    {
     "data": {
      "text/html": [
       "\n",
       "  <div id=\"df-dcf482a0-5331-4e14-b7fe-4c70ac994c1f\">\n",
       "    <div class=\"colab-df-container\">\n",
       "      <div>\n",
       "<style scoped>\n",
       "    .dataframe tbody tr th:only-of-type {\n",
       "        vertical-align: middle;\n",
       "    }\n",
       "\n",
       "    .dataframe tbody tr th {\n",
       "        vertical-align: top;\n",
       "    }\n",
       "\n",
       "    .dataframe thead th {\n",
       "        text-align: right;\n",
       "    }\n",
       "</style>\n",
       "<table border=\"1\" class=\"dataframe\">\n",
       "  <thead>\n",
       "    <tr style=\"text-align: right;\">\n",
       "      <th></th>\n",
       "      <th>label</th>\n",
       "      <th>text</th>\n",
       "    </tr>\n",
       "  </thead>\n",
       "  <tbody>\n",
       "    <tr>\n",
       "      <th>0</th>\n",
       "      <td>negative</td>\n",
       "      <td>А попа подозревала давно,что ты с кавказа..пер...</td>\n",
       "    </tr>\n",
       "    <tr>\n",
       "      <th>1</th>\n",
       "      <td>speech</td>\n",
       "      <td>З прошедшим Днем Ангела))))))))</td>\n",
       "    </tr>\n",
       "    <tr>\n",
       "      <th>2</th>\n",
       "      <td>skip</td>\n",
       "      <td>Два дня до отлёта с острова!!!!!!!</td>\n",
       "    </tr>\n",
       "    <tr>\n",
       "      <th>3</th>\n",
       "      <td>negative</td>\n",
       "      <td>Блин, почему эта жизнь столь не справедлива ((((</td>\n",
       "    </tr>\n",
       "    <tr>\n",
       "      <th>4</th>\n",
       "      <td>skip</td>\n",
       "      <td>где еще встречать свой день рождения как не на...</td>\n",
       "    </tr>\n",
       "    <tr>\n",
       "      <th>...</th>\n",
       "      <td>...</td>\n",
       "      <td>...</td>\n",
       "    </tr>\n",
       "    <tr>\n",
       "      <th>21263</th>\n",
       "      <td>neutral</td>\n",
       "      <td>Анастасия, у меня есть друг, с которым вы хоро...</td>\n",
       "    </tr>\n",
       "    <tr>\n",
       "      <th>21264</th>\n",
       "      <td>neutral</td>\n",
       "      <td>Колька пошли гулять!!?</td>\n",
       "    </tr>\n",
       "    <tr>\n",
       "      <th>21265</th>\n",
       "      <td>neutral</td>\n",
       "      <td>Ура! Золото дают бесплатно!Напиши это в 4 комм...</td>\n",
       "    </tr>\n",
       "    <tr>\n",
       "      <th>21266</th>\n",
       "      <td>speech</td>\n",
       "      <td>С Праздником, Ксюнь! \\nЖенского счастья тебе!\\...</td>\n",
       "    </tr>\n",
       "    <tr>\n",
       "      <th>21267</th>\n",
       "      <td>positive</td>\n",
       "      <td>XXV МЕЖДУНАРОДНЫЙ МАРАФОН \"ЭРГО - БЕЛЫЕ НОЧИ\"....</td>\n",
       "    </tr>\n",
       "  </tbody>\n",
       "</table>\n",
       "<p>21268 rows × 2 columns</p>\n",
       "</div>\n",
       "      <button class=\"colab-df-convert\" onclick=\"convertToInteractive('df-dcf482a0-5331-4e14-b7fe-4c70ac994c1f')\"\n",
       "              title=\"Convert this dataframe to an interactive table.\"\n",
       "              style=\"display:none;\">\n",
       "        \n",
       "  <svg xmlns=\"http://www.w3.org/2000/svg\" height=\"24px\"viewBox=\"0 0 24 24\"\n",
       "       width=\"24px\">\n",
       "    <path d=\"M0 0h24v24H0V0z\" fill=\"none\"/>\n",
       "    <path d=\"M18.56 5.44l.94 2.06.94-2.06 2.06-.94-2.06-.94-.94-2.06-.94 2.06-2.06.94zm-11 1L8.5 8.5l.94-2.06 2.06-.94-2.06-.94L8.5 2.5l-.94 2.06-2.06.94zm10 10l.94 2.06.94-2.06 2.06-.94-2.06-.94-.94-2.06-.94 2.06-2.06.94z\"/><path d=\"M17.41 7.96l-1.37-1.37c-.4-.4-.92-.59-1.43-.59-.52 0-1.04.2-1.43.59L10.3 9.45l-7.72 7.72c-.78.78-.78 2.05 0 2.83L4 21.41c.39.39.9.59 1.41.59.51 0 1.02-.2 1.41-.59l7.78-7.78 2.81-2.81c.8-.78.8-2.07 0-2.86zM5.41 20L4 18.59l7.72-7.72 1.47 1.35L5.41 20z\"/>\n",
       "  </svg>\n",
       "      </button>\n",
       "      \n",
       "  <style>\n",
       "    .colab-df-container {\n",
       "      display:flex;\n",
       "      flex-wrap:wrap;\n",
       "      gap: 12px;\n",
       "    }\n",
       "\n",
       "    .colab-df-convert {\n",
       "      background-color: #E8F0FE;\n",
       "      border: none;\n",
       "      border-radius: 50%;\n",
       "      cursor: pointer;\n",
       "      display: none;\n",
       "      fill: #1967D2;\n",
       "      height: 32px;\n",
       "      padding: 0 0 0 0;\n",
       "      width: 32px;\n",
       "    }\n",
       "\n",
       "    .colab-df-convert:hover {\n",
       "      background-color: #E2EBFA;\n",
       "      box-shadow: 0px 1px 2px rgba(60, 64, 67, 0.3), 0px 1px 3px 1px rgba(60, 64, 67, 0.15);\n",
       "      fill: #174EA6;\n",
       "    }\n",
       "\n",
       "    [theme=dark] .colab-df-convert {\n",
       "      background-color: #3B4455;\n",
       "      fill: #D2E3FC;\n",
       "    }\n",
       "\n",
       "    [theme=dark] .colab-df-convert:hover {\n",
       "      background-color: #434B5C;\n",
       "      box-shadow: 0px 1px 3px 1px rgba(0, 0, 0, 0.15);\n",
       "      filter: drop-shadow(0px 1px 2px rgba(0, 0, 0, 0.3));\n",
       "      fill: #FFFFFF;\n",
       "    }\n",
       "  </style>\n",
       "\n",
       "      <script>\n",
       "        const buttonEl =\n",
       "          document.querySelector('#df-dcf482a0-5331-4e14-b7fe-4c70ac994c1f button.colab-df-convert');\n",
       "        buttonEl.style.display =\n",
       "          google.colab.kernel.accessAllowed ? 'block' : 'none';\n",
       "\n",
       "        async function convertToInteractive(key) {\n",
       "          const element = document.querySelector('#df-dcf482a0-5331-4e14-b7fe-4c70ac994c1f');\n",
       "          const dataTable =\n",
       "            await google.colab.kernel.invokeFunction('convertToInteractive',\n",
       "                                                     [key], {});\n",
       "          if (!dataTable) return;\n",
       "\n",
       "          const docLinkHtml = 'Like what you see? Visit the ' +\n",
       "            '<a target=\"_blank\" href=https://colab.research.google.com/notebooks/data_table.ipynb>data table notebook</a>'\n",
       "            + ' to learn more about interactive tables.';\n",
       "          element.innerHTML = '';\n",
       "          dataTable['output_type'] = 'display_data';\n",
       "          await google.colab.output.renderOutput(dataTable, element);\n",
       "          const docLink = document.createElement('div');\n",
       "          docLink.innerHTML = docLinkHtml;\n",
       "          element.appendChild(docLink);\n",
       "        }\n",
       "      </script>\n",
       "    </div>\n",
       "  </div>\n",
       "  "
      ],
      "text/plain": [
       "          label                                               text\n",
       "0      negative  А попа подозревала давно,что ты с кавказа..пер...\n",
       "1        speech                    З прошедшим Днем Ангела))))))))\n",
       "2          skip                 Два дня до отлёта с острова!!!!!!!\n",
       "3      negative   Блин, почему эта жизнь столь не справедлива ((((\n",
       "4          skip  где еще встречать свой день рождения как не на...\n",
       "...         ...                                                ...\n",
       "21263   neutral  Анастасия, у меня есть друг, с которым вы хоро...\n",
       "21264   neutral                             Колька пошли гулять!!?\n",
       "21265   neutral  Ура! Золото дают бесплатно!Напиши это в 4 комм...\n",
       "21266    speech  С Праздником, Ксюнь! \\nЖенского счастья тебе!\\...\n",
       "21267  positive  XXV МЕЖДУНАРОДНЫЙ МАРАФОН \"ЭРГО - БЕЛЫЕ НОЧИ\"....\n",
       "\n",
       "[21268 rows x 2 columns]"
      ]
     },
     "execution_count": 26,
     "metadata": {},
     "output_type": "execute_result"
    }
   ],
   "source": [
    "train"
   ]
  },
  {
   "cell_type": "code",
   "execution_count": 27,
   "metadata": {
    "colab": {
     "base_uri": "https://localhost:8080/",
     "height": 424
    },
    "id": "PDor1jZxgOQ7",
    "outputId": "9c8a90d7-0616-405a-ee44-f7d9d18a3bd5"
   },
   "outputs": [
    {
     "data": {
      "text/html": [
       "\n",
       "  <div id=\"df-b169f781-6f4f-4e36-864b-16fc3003b618\">\n",
       "    <div class=\"colab-df-container\">\n",
       "      <div>\n",
       "<style scoped>\n",
       "    .dataframe tbody tr th:only-of-type {\n",
       "        vertical-align: middle;\n",
       "    }\n",
       "\n",
       "    .dataframe tbody tr th {\n",
       "        vertical-align: top;\n",
       "    }\n",
       "\n",
       "    .dataframe thead th {\n",
       "        text-align: right;\n",
       "    }\n",
       "</style>\n",
       "<table border=\"1\" class=\"dataframe\">\n",
       "  <thead>\n",
       "    <tr style=\"text-align: right;\">\n",
       "      <th></th>\n",
       "      <th>label</th>\n",
       "      <th>text</th>\n",
       "    </tr>\n",
       "  </thead>\n",
       "  <tbody>\n",
       "    <tr>\n",
       "      <th>0</th>\n",
       "      <td>neutral</td>\n",
       "      <td>Александр, тебе к лицу эта пушка :)\\n</td>\n",
       "    </tr>\n",
       "    <tr>\n",
       "      <th>1</th>\n",
       "      <td>positive</td>\n",
       "      <td>Скоро ты вернешься домой, грязный, не бритый н...</td>\n",
       "    </tr>\n",
       "    <tr>\n",
       "      <th>2</th>\n",
       "      <td>neutral</td>\n",
       "      <td>помниш...))</td>\n",
       "    </tr>\n",
       "    <tr>\n",
       "      <th>3</th>\n",
       "      <td>skip</td>\n",
       "      <td>Мы просто с  [id12210212|Елисеем]  психанули )...</td>\n",
       "    </tr>\n",
       "    <tr>\n",
       "      <th>4</th>\n",
       "      <td>speech</td>\n",
       "      <td>ой, прости забыла поздравить, с праздничьком, ...</td>\n",
       "    </tr>\n",
       "    <tr>\n",
       "      <th>...</th>\n",
       "      <td>...</td>\n",
       "      <td>...</td>\n",
       "    </tr>\n",
       "    <tr>\n",
       "      <th>2962</th>\n",
       "      <td>neutral</td>\n",
       "      <td>Коллективно жмём F13! И наблюдаем за результатом!</td>\n",
       "    </tr>\n",
       "    <tr>\n",
       "      <th>2963</th>\n",
       "      <td>neutral</td>\n",
       "      <td>ану ка быстро цоя добавь!</td>\n",
       "    </tr>\n",
       "    <tr>\n",
       "      <th>2964</th>\n",
       "      <td>skip</td>\n",
       "      <td>Ты одна половинка - я вторая половинка...... А...</td>\n",
       "    </tr>\n",
       "    <tr>\n",
       "      <th>2965</th>\n",
       "      <td>positive</td>\n",
       "      <td>Люблю кису)))</td>\n",
       "    </tr>\n",
       "    <tr>\n",
       "      <th>2966</th>\n",
       "      <td>skip</td>\n",
       "      <td>Ахахахахах.Прикольно попереписувались.\\nаааааа...</td>\n",
       "    </tr>\n",
       "  </tbody>\n",
       "</table>\n",
       "<p>2967 rows × 2 columns</p>\n",
       "</div>\n",
       "      <button class=\"colab-df-convert\" onclick=\"convertToInteractive('df-b169f781-6f4f-4e36-864b-16fc3003b618')\"\n",
       "              title=\"Convert this dataframe to an interactive table.\"\n",
       "              style=\"display:none;\">\n",
       "        \n",
       "  <svg xmlns=\"http://www.w3.org/2000/svg\" height=\"24px\"viewBox=\"0 0 24 24\"\n",
       "       width=\"24px\">\n",
       "    <path d=\"M0 0h24v24H0V0z\" fill=\"none\"/>\n",
       "    <path d=\"M18.56 5.44l.94 2.06.94-2.06 2.06-.94-2.06-.94-.94-2.06-.94 2.06-2.06.94zm-11 1L8.5 8.5l.94-2.06 2.06-.94-2.06-.94L8.5 2.5l-.94 2.06-2.06.94zm10 10l.94 2.06.94-2.06 2.06-.94-2.06-.94-.94-2.06-.94 2.06-2.06.94z\"/><path d=\"M17.41 7.96l-1.37-1.37c-.4-.4-.92-.59-1.43-.59-.52 0-1.04.2-1.43.59L10.3 9.45l-7.72 7.72c-.78.78-.78 2.05 0 2.83L4 21.41c.39.39.9.59 1.41.59.51 0 1.02-.2 1.41-.59l7.78-7.78 2.81-2.81c.8-.78.8-2.07 0-2.86zM5.41 20L4 18.59l7.72-7.72 1.47 1.35L5.41 20z\"/>\n",
       "  </svg>\n",
       "      </button>\n",
       "      \n",
       "  <style>\n",
       "    .colab-df-container {\n",
       "      display:flex;\n",
       "      flex-wrap:wrap;\n",
       "      gap: 12px;\n",
       "    }\n",
       "\n",
       "    .colab-df-convert {\n",
       "      background-color: #E8F0FE;\n",
       "      border: none;\n",
       "      border-radius: 50%;\n",
       "      cursor: pointer;\n",
       "      display: none;\n",
       "      fill: #1967D2;\n",
       "      height: 32px;\n",
       "      padding: 0 0 0 0;\n",
       "      width: 32px;\n",
       "    }\n",
       "\n",
       "    .colab-df-convert:hover {\n",
       "      background-color: #E2EBFA;\n",
       "      box-shadow: 0px 1px 2px rgba(60, 64, 67, 0.3), 0px 1px 3px 1px rgba(60, 64, 67, 0.15);\n",
       "      fill: #174EA6;\n",
       "    }\n",
       "\n",
       "    [theme=dark] .colab-df-convert {\n",
       "      background-color: #3B4455;\n",
       "      fill: #D2E3FC;\n",
       "    }\n",
       "\n",
       "    [theme=dark] .colab-df-convert:hover {\n",
       "      background-color: #434B5C;\n",
       "      box-shadow: 0px 1px 3px 1px rgba(0, 0, 0, 0.15);\n",
       "      filter: drop-shadow(0px 1px 2px rgba(0, 0, 0, 0.3));\n",
       "      fill: #FFFFFF;\n",
       "    }\n",
       "  </style>\n",
       "\n",
       "      <script>\n",
       "        const buttonEl =\n",
       "          document.querySelector('#df-b169f781-6f4f-4e36-864b-16fc3003b618 button.colab-df-convert');\n",
       "        buttonEl.style.display =\n",
       "          google.colab.kernel.accessAllowed ? 'block' : 'none';\n",
       "\n",
       "        async function convertToInteractive(key) {\n",
       "          const element = document.querySelector('#df-b169f781-6f4f-4e36-864b-16fc3003b618');\n",
       "          const dataTable =\n",
       "            await google.colab.kernel.invokeFunction('convertToInteractive',\n",
       "                                                     [key], {});\n",
       "          if (!dataTable) return;\n",
       "\n",
       "          const docLinkHtml = 'Like what you see? Visit the ' +\n",
       "            '<a target=\"_blank\" href=https://colab.research.google.com/notebooks/data_table.ipynb>data table notebook</a>'\n",
       "            + ' to learn more about interactive tables.';\n",
       "          element.innerHTML = '';\n",
       "          dataTable['output_type'] = 'display_data';\n",
       "          await google.colab.output.renderOutput(dataTable, element);\n",
       "          const docLink = document.createElement('div');\n",
       "          docLink.innerHTML = docLinkHtml;\n",
       "          element.appendChild(docLink);\n",
       "        }\n",
       "      </script>\n",
       "    </div>\n",
       "  </div>\n",
       "  "
      ],
      "text/plain": [
       "         label                                               text\n",
       "0      neutral              Александр, тебе к лицу эта пушка :)\\n\n",
       "1     positive  Скоро ты вернешься домой, грязный, не бритый н...\n",
       "2      neutral                                        помниш...))\n",
       "3         skip  Мы просто с  [id12210212|Елисеем]  психанули )...\n",
       "4       speech  ой, прости забыла поздравить, с праздничьком, ...\n",
       "...        ...                                                ...\n",
       "2962   neutral  Коллективно жмём F13! И наблюдаем за результатом!\n",
       "2963   neutral                          ану ка быстро цоя добавь!\n",
       "2964      skip  Ты одна половинка - я вторая половинка...... А...\n",
       "2965  positive                                      Люблю кису)))\n",
       "2966      skip  Ахахахахах.Прикольно попереписувались.\\nаааааа...\n",
       "\n",
       "[2967 rows x 2 columns]"
      ]
     },
     "execution_count": 27,
     "metadata": {},
     "output_type": "execute_result"
    }
   ],
   "source": [
    "test"
   ]
  },
  {
   "cell_type": "code",
   "execution_count": 28,
   "metadata": {
    "colab": {
     "base_uri": "https://localhost:8080/"
    },
    "id": "WaZ_HTpggOOC",
    "outputId": "f7144ed4-3d5c-4958-cb8f-3cbb76a5da33"
   },
   "outputs": [
    {
     "name": "stdout",
     "output_type": "stream",
     "text": [
      "Looking in indexes: https://pypi.org/simple, https://us-python.pkg.dev/colab-wheels/public/simple/\n",
      "Collecting natasha\n",
      "  Downloading natasha-1.4.0-py3-none-any.whl (34.4 MB)\n",
      "\u001b[K     |████████████████████████████████| 34.4 MB 106 kB/s \n",
      "\u001b[?25hCollecting navec>=0.9.0\n",
      "  Downloading navec-0.10.0-py3-none-any.whl (23 kB)\n",
      "Collecting pymorphy2\n",
      "  Downloading pymorphy2-0.9.1-py3-none-any.whl (55 kB)\n",
      "\u001b[K     |████████████████████████████████| 55 kB 3.2 MB/s \n",
      "\u001b[?25hCollecting slovnet>=0.3.0\n",
      "  Downloading slovnet-0.5.0-py3-none-any.whl (49 kB)\n",
      "\u001b[K     |████████████████████████████████| 49 kB 6.4 MB/s \n",
      "\u001b[?25hCollecting razdel>=0.5.0\n",
      "  Downloading razdel-0.5.0-py3-none-any.whl (21 kB)\n",
      "Collecting ipymarkup>=0.8.0\n",
      "  Downloading ipymarkup-0.9.0-py3-none-any.whl (14 kB)\n",
      "Collecting yargy>=0.14.0\n",
      "  Downloading yargy-0.15.0-py3-none-any.whl (41 kB)\n",
      "\u001b[K     |████████████████████████████████| 41 kB 120 kB/s \n",
      "\u001b[?25hCollecting intervaltree>=3\n",
      "  Downloading intervaltree-3.1.0.tar.gz (32 kB)\n",
      "Requirement already satisfied: sortedcontainers<3.0,>=2.0 in /usr/local/lib/python3.7/dist-packages (from intervaltree>=3->ipymarkup>=0.8.0->natasha) (2.4.0)\n",
      "Requirement already satisfied: numpy in /usr/local/lib/python3.7/dist-packages (from navec>=0.9.0->natasha) (1.21.6)\n",
      "Collecting pymorphy2-dicts-ru<3.0,>=2.4\n",
      "  Downloading pymorphy2_dicts_ru-2.4.417127.4579844-py2.py3-none-any.whl (8.2 MB)\n",
      "\u001b[K     |████████████████████████████████| 8.2 MB 41.2 MB/s \n",
      "\u001b[?25hCollecting dawg-python>=0.7.1\n",
      "  Downloading DAWG_Python-0.7.2-py2.py3-none-any.whl (11 kB)\n",
      "Collecting docopt>=0.6\n",
      "  Downloading docopt-0.6.2.tar.gz (25 kB)\n",
      "Building wheels for collected packages: intervaltree, docopt\n",
      "  Building wheel for intervaltree (setup.py) ... \u001b[?25l\u001b[?25hdone\n",
      "  Created wheel for intervaltree: filename=intervaltree-3.1.0-py2.py3-none-any.whl size=26119 sha256=02db97525fead0f4384868c69c9ea41c71adbe7521aa99ffba70e0d72968f728\n",
      "  Stored in directory: /root/.cache/pip/wheels/16/85/bd/1001cbb46dcfb71c2001cd7401c6fb250392f22a81ce3722f7\n",
      "  Building wheel for docopt (setup.py) ... \u001b[?25l\u001b[?25hdone\n",
      "  Created wheel for docopt: filename=docopt-0.6.2-py2.py3-none-any.whl size=13723 sha256=75cca58d922c7d12874d333dc979f67f94270dd910b288784bb11f39c283afdd\n",
      "  Stored in directory: /root/.cache/pip/wheels/72/b0/3f/1d95f96ff986c7dfffe46ce2be4062f38ebd04b506c77c81b9\n",
      "Successfully built intervaltree docopt\n",
      "Installing collected packages: pymorphy2-dicts-ru, docopt, dawg-python, razdel, pymorphy2, navec, intervaltree, yargy, slovnet, ipymarkup, natasha\n",
      "  Attempting uninstall: intervaltree\n",
      "    Found existing installation: intervaltree 2.1.0\n",
      "    Uninstalling intervaltree-2.1.0:\n",
      "      Successfully uninstalled intervaltree-2.1.0\n",
      "Successfully installed dawg-python-0.7.2 docopt-0.6.2 intervaltree-3.1.0 ipymarkup-0.9.0 natasha-1.4.0 navec-0.10.0 pymorphy2-0.9.1 pymorphy2-dicts-ru-2.4.417127.4579844 razdel-0.5.0 slovnet-0.5.0 yargy-0.15.0\n"
     ]
    }
   ],
   "source": [
    "! pip install natasha"
   ]
  },
  {
   "cell_type": "code",
   "execution_count": 29,
   "metadata": {
    "colab": {
     "base_uri": "https://localhost:8080/"
    },
    "id": "pljkkqr_gRcp",
    "outputId": "6208350b-ddbe-4c81-ec3c-c7ac8f28944a"
   },
   "outputs": [
    {
     "name": "stdout",
     "output_type": "stream",
     "text": [
      "Александр, тебе к лицу эта пушка :)\n",
      "PER──────                          \n",
      "Скоро ты вернешься домой, грязный, не бритый но такой любимый ❤\n",
      "помниш...))\n",
      "Мы просто с  [id12210212|Елисеем]  психанули )))))\n",
      "                         PER────                  \n",
      "К новому году в бункере готовы!))))))\n",
      "Да, мы любим молоко! Когда стареешь -  переходишь на него вместо \n",
      "огненной воды🍹\n",
      "ой, прости забыла поздравить, с праздничьком, да ! ))))\n",
      "Наши красавцы. 1:3 в первом периоде и 7:3 в итоге.\n",
      "20% усилий приносят 80% результата\n",
      "ты для меня самый родной!!!\n",
      "нельзя общаться с людьми, которые нуждаются в тебе меньше чем ты в \n",
      "них... это самоунижение\n",
      "мы с Мангаром решили наведаться в гости к тебе)\n",
      "     PER─────                                  \n",
      "Друзья, скиньте клёвой музычки, в тачке не чего слушать???\n",
      "Селфи дня ))\n",
      "Проект Анастасия. Часть 1 — на Яндекс.Видео\n",
      "       PER──────               ORG─────────\n",
      "ВОТ ОДИН ИЗ ИНТЕРЕСНЫХ КОММЕНТАРИЕВ К ФИЛЬМУ:\n",
      "ORG                    ORG─────────          \n",
      "к сожалению отсутствие дара Различения у людей ввиду низкого уровня \n",
      "нравственности не позволяет людям отделить идею самодостаточности \n",
      "жизни на Земле от всего, что на неё не без помощи Мегре накрутили \n",
      "         LOC──                                    PER──           \n",
      "ловкие и умные кукловоды человечества.\n",
      "Человек имеет право быть счастливым на Земле, но он должен уметь при \n",
      "                                       LOC──                         \n",
      "этом уметь Различать Добро и Зло\n",
      "Смотрите фильм - это лучшая проверка самих себя на вшивость\n",
      "ДОБРОЕ ДОБРОЕ ДОБРОЕ утро...))))\n",
      "как ты?\n",
      "Хочу такую зиму. ❄\n",
      "Ураааа, нам сегодня три годика.....😊\n",
      "PER───                              \n",
      "Саша только что ответил на вопрос о тебе. Узнай, что он сказал! \n",
      "PER─                                                            \n",
      "Я не писал такое оскобление всем!!!!\n",
      "Меня, видимо взломали!!!!!\n",
      "Из дому вышел на 5 часов!\n",
      "Что за дела!?!?!\n",
      "...и так начало мини отпуска))И новых приключений))))\n",
      "Кинул в чс обиделся холоп понял что недостоин дружбы с царем!\n"
     ]
    }
   ],
   "source": [
    "from natasha import (\n",
    "    Segmenter,\n",
    "    MorphVocab,\n",
    "    \n",
    "    NewsEmbedding,\n",
    "    NewsMorphTagger,\n",
    "    NewsSyntaxParser,\n",
    "    NewsNERTagger,\n",
    "    \n",
    "    PER,\n",
    "    NamesExtractor,\n",
    "\n",
    "    Doc\n",
    ")\n",
    "\n",
    "segmenter = Segmenter()\n",
    "morph_vocab = MorphVocab()\n",
    "embadings = NewsEmbedding()\n",
    "\n",
    "morph_tagger = NewsMorphTagger(embadings)\n",
    "ner_tagger = NewsNERTagger(embadings)\n",
    "names_extractor = NamesExtractor(morph_vocab)\n",
    "\n",
    "for sent in test.text[:20]:\n",
    "  doc = Doc(sent)\n",
    "  doc.segment(segmenter)\n",
    "  doc.tag_ner(ner_tagger)\n",
    "  doc.tag_morph(morph_tagger)\n",
    "  doc.ner.print()"
   ]
  },
  {
   "cell_type": "code",
   "execution_count": 30,
   "metadata": {
    "colab": {
     "base_uri": "https://localhost:8080/"
    },
    "id": "JoDQLuNkhn2X",
    "outputId": "2448f0ae-a45c-4b26-ce7d-104a6503bb22"
   },
   "outputs": [
    {
     "name": "stdout",
     "output_type": "stream",
     "text": [
      "А попа подозревала давно,что ты с кавказа..перестану общаться с тобой\n",
      "З прошедшим Днем Ангела))))))))\n",
      "Два дня до отлёта с острова!!!!!!!\n",
      "Блин, почему эта жизнь столь не справедлива ((((\n",
      "где еще встречать свой день рождения как не на кладбище))))\n",
      "Решите уравнение мужских дел для жизни :\n",
      "Домов - 3\n",
      "Деревьев - 5 \n",
      "Сыновей - ?\n",
      "патамушта я крутая баба! ееее!!\n",
      "Просто пост :)\n",
      "урря!я дождался этой овцыы)\n",
      "С Днем Рождения желаю много счастья, любви и успехов во всем:) И еще с\n",
      " днем Защитника Отечества;))))))))\n",
      "Все мы - украинцы , белорусы, россияне - мечтаем жить вместе в одной \n",
      "большой, богатой и очень дружной стране. В Канаде, например.\n",
      "                                           LOC───           \n",
      "Наша гордость !\n",
      "Как мало надо для счастья. Как много надо для счастья...\n",
      "Походу, первым кто поздравил меня с 1 апреля - это РЖД, 40 мин жду \n",
      "                                                   ORG             \n",
      "электричку\n",
      "познакомил свою девушку с Ксюшей\n",
      "                          PER───\n",
      "сестричка* Ксюшка))\n",
      "Семизубая девчонка - это ты! =))\n",
      "На мой остров напали пираты!\n",
      "Помоги мне их прогнать!\n",
      "Тесака арестовали... \n",
      "PER───               \n",
      "З ДНЕМ НАРОДЖЕННЯ ^_^\n",
      "ТЫ МОЕ МАЛЕНЬКОЕ СЧАСТЬЕ !!!!!!! Я ТЕБЯ ЛЮБЛЮ ОЧЕНЬ СИЛЬНО !!!!!!!!!\n",
      "В этом﻿ ролике прекрасно абсолютно всё.\n",
      "Рекомендую смотреть это видео, раскрыв на весь экран, указав хорошее \n",
      "качество HD в плеере youtube и в наушниках )) Фоновый голос: \n",
      "Флигинских Александр.\n",
      "PER───────────────── \n",
      "Курсова у доброва)\n",
      "• Виздоровлюй    пошвидче!!! \n",
      "• Фото: vk.com/fotiko#photo1990201\n"
     ]
    }
   ],
   "source": [
    "for sent in train.text[:25]:\n",
    "  doc = Doc(sent)\n",
    "  doc.segment(segmenter)\n",
    "  doc.tag_ner(ner_tagger)\n",
    "  doc.tag_morph(morph_tagger)\n",
    "  doc.ner.print()"
   ]
  }
 ],
 "metadata": {
  "colab": {
   "collapsed_sections": [
    "7k12hsq6VEpE",
    "mgvr3IyoVMgP"
   ],
   "provenance": []
  },
  "kernelspec": {
   "display_name": "Python 3",
   "language": "python",
   "name": "python3"
  },
  "language_info": {
   "codemirror_mode": {
    "name": "ipython",
    "version": 3
   },
   "file_extension": ".py",
   "mimetype": "text/x-python",
   "name": "python",
   "nbconvert_exporter": "python",
   "pygments_lexer": "ipython3",
   "version": "3.9.2"
  }
 },
 "nbformat": 4,
 "nbformat_minor": 4
}
