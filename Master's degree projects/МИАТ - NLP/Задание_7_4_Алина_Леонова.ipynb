{
 "cells": [
  {
   "cell_type": "markdown",
   "metadata": {
    "id": "ojCqutxyZeUP"
   },
   "source": [
    "## Лабораторная работа №7 Классификация тональности\n",
    "#### Предмет: Методы интеллектуального анализа текстов\n",
    "#### Студент: Леонова Алина, СБ № 1032212306, НФИмд-01-21"
   ]
  },
  {
   "cell_type": "markdown",
   "metadata": {
    "id": "tMdze5ZQtCI_"
   },
   "source": [
    "### 7.4. Обучить fasttext-классификатор, сравнить качество классификации с предобученными эмбеддингами и обученными с нуля при классификации"
   ]
  },
  {
   "cell_type": "markdown",
   "metadata": {
    "id": "uXf0WQQoXpvB"
   },
   "source": [
    "Данные для обучения моделей:"
   ]
  },
  {
   "cell_type": "code",
   "execution_count": 1,
   "metadata": {
    "colab": {
     "base_uri": "https://localhost:8080/"
    },
    "id": "R60bKVG2Xrm3",
    "outputId": "1c702b9b-c301-4e54-b18e-79e1da76aaef"
   },
   "outputs": [
    {
     "name": "stdout",
     "output_type": "stream",
     "text": [
      "--2022-10-23 13:39:44--  https://www.dropbox.com/s/t1gs701zvqaxqnk/rusentiment_random_posts.csv\n",
      "Resolving www.dropbox.com (www.dropbox.com)... 162.125.7.18, 2620:100:601d:18::a27d:512\n",
      "Connecting to www.dropbox.com (www.dropbox.com)|162.125.7.18|:443... connected.\n",
      "HTTP request sent, awaiting response... 302 Found\n",
      "Location: /s/raw/t1gs701zvqaxqnk/rusentiment_random_posts.csv [following]\n",
      "--2022-10-23 13:39:45--  https://www.dropbox.com/s/raw/t1gs701zvqaxqnk/rusentiment_random_posts.csv\n",
      "Reusing existing connection to www.dropbox.com:443.\n",
      "HTTP request sent, awaiting response... 302 Found\n",
      "Location: https://uc372cbf8fd296c44c23754ef4f5.dl.dropboxusercontent.com/cd/0/inline/BvXo-Gjzy4x34PWp4XKSno-RYIAi-Bdz-HuOkswVJsWh8cfkLypzKnH-CposQ-XLUqYv6lTJwoL4KJqoay6G4Lxg9UriA2P1rM1QZRVfCqC7FjAh9jtMiw3ONkEcQNRqnwu8bny8nOg9MC1vJ_6Y3UT0ILzRiFmP_8p4lof4_-4vNw/file# [following]\n",
      "--2022-10-23 13:39:45--  https://uc372cbf8fd296c44c23754ef4f5.dl.dropboxusercontent.com/cd/0/inline/BvXo-Gjzy4x34PWp4XKSno-RYIAi-Bdz-HuOkswVJsWh8cfkLypzKnH-CposQ-XLUqYv6lTJwoL4KJqoay6G4Lxg9UriA2P1rM1QZRVfCqC7FjAh9jtMiw3ONkEcQNRqnwu8bny8nOg9MC1vJ_6Y3UT0ILzRiFmP_8p4lof4_-4vNw/file\n",
      "Resolving uc372cbf8fd296c44c23754ef4f5.dl.dropboxusercontent.com (uc372cbf8fd296c44c23754ef4f5.dl.dropboxusercontent.com)... 162.125.6.15, 2620:100:601c:15::a27d:60f\n",
      "Connecting to uc372cbf8fd296c44c23754ef4f5.dl.dropboxusercontent.com (uc372cbf8fd296c44c23754ef4f5.dl.dropboxusercontent.com)|162.125.6.15|:443... connected.\n",
      "HTTP request sent, awaiting response... 200 OK\n",
      "Length: 3158556 (3.0M) [text/plain]\n",
      "Saving to: ‘rusentiment_random_posts.csv’\n",
      "\n",
      "rusentiment_random_ 100%[===================>]   3.01M  --.-KB/s    in 0.02s   \n",
      "\n",
      "2022-10-23 13:39:45 (148 MB/s) - ‘rusentiment_random_posts.csv’ saved [3158556/3158556]\n",
      "\n"
     ]
    }
   ],
   "source": [
    "! wget https://www.dropbox.com/s/t1gs701zvqaxqnk/rusentiment_random_posts.csv"
   ]
  },
  {
   "cell_type": "markdown",
   "metadata": {
    "id": "NPr_dAG7Xxrv"
   },
   "source": [
    "Данные для тестирования моделей: "
   ]
  },
  {
   "cell_type": "code",
   "execution_count": 2,
   "metadata": {
    "colab": {
     "base_uri": "https://localhost:8080/"
    },
    "id": "1_8Y7Hq0X2bS",
    "outputId": "c0a3024e-1b86-4fde-e737-06fe01e93cac"
   },
   "outputs": [
    {
     "name": "stdout",
     "output_type": "stream",
     "text": [
      "--2022-10-23 13:39:46--  https://www.dropbox.com/s/gr4z1x39y1j6dtx/rusentiment_test.csv\n",
      "Resolving www.dropbox.com (www.dropbox.com)... 162.125.7.18, 2620:100:601d:18::a27d:512\n",
      "Connecting to www.dropbox.com (www.dropbox.com)|162.125.7.18|:443... connected.\n",
      "HTTP request sent, awaiting response... 302 Found\n",
      "Location: /s/raw/gr4z1x39y1j6dtx/rusentiment_test.csv [following]\n",
      "--2022-10-23 13:39:46--  https://www.dropbox.com/s/raw/gr4z1x39y1j6dtx/rusentiment_test.csv\n",
      "Reusing existing connection to www.dropbox.com:443.\n",
      "HTTP request sent, awaiting response... 302 Found\n",
      "Location: https://uc496f1dac67180a4cdfbf633b08.dl.dropboxusercontent.com/cd/0/inline/BvWSCErAfVPtK5FFVqIJSHnSXQ5j3z7WtH64CsVT1c6kggeFS2XHGXSB6wutnyq0WTm4mNETrbro_JbCL7rLFp8vrqrqDbVhQRgCXPRKPjn_ZGlKgFjRwXuRNnIKYulUMBLqtIpA0K0-RJ9am0ZoCRkXlrRVxhdbX5s3-pLhUtBg8Q/file# [following]\n",
      "--2022-10-23 13:39:46--  https://uc496f1dac67180a4cdfbf633b08.dl.dropboxusercontent.com/cd/0/inline/BvWSCErAfVPtK5FFVqIJSHnSXQ5j3z7WtH64CsVT1c6kggeFS2XHGXSB6wutnyq0WTm4mNETrbro_JbCL7rLFp8vrqrqDbVhQRgCXPRKPjn_ZGlKgFjRwXuRNnIKYulUMBLqtIpA0K0-RJ9am0ZoCRkXlrRVxhdbX5s3-pLhUtBg8Q/file\n",
      "Resolving uc496f1dac67180a4cdfbf633b08.dl.dropboxusercontent.com (uc496f1dac67180a4cdfbf633b08.dl.dropboxusercontent.com)... 162.125.6.15, 2620:100:6019:15::a27d:40f\n",
      "Connecting to uc496f1dac67180a4cdfbf633b08.dl.dropboxusercontent.com (uc496f1dac67180a4cdfbf633b08.dl.dropboxusercontent.com)|162.125.6.15|:443... connected.\n",
      "HTTP request sent, awaiting response... 200 OK\n",
      "Length: 441232 (431K) [text/plain]\n",
      "Saving to: ‘rusentiment_test.csv’\n",
      "\n",
      "rusentiment_test.cs 100%[===================>] 430.89K  --.-KB/s    in 0.004s  \n",
      "\n",
      "2022-10-23 13:39:46 (93.7 MB/s) - ‘rusentiment_test.csv’ saved [441232/441232]\n",
      "\n"
     ]
    }
   ],
   "source": [
    "! wget https://www.dropbox.com/s/gr4z1x39y1j6dtx/rusentiment_test.csv"
   ]
  },
  {
   "cell_type": "markdown",
   "metadata": {
    "id": "SwpmgsADy-Ff"
   },
   "source": [
    "В заданиях 7.1 - 7.3 заготовка кода есть в презентации."
   ]
  },
  {
   "cell_type": "code",
   "execution_count": 3,
   "metadata": {
    "id": "nUjiwxdzqN4A"
   },
   "outputs": [],
   "source": [
    "import pandas as pd\n",
    "import numpy as np\n",
    "\n",
    "train = pd.read_csv(\"rusentiment_random_posts.csv\")\n",
    "train = train.fillna(method=\"ffill\")\n",
    "\n",
    "test = pd.read_csv(\"rusentiment_test.csv\")\n",
    "test = test.fillna(method=\"ffill\")"
   ]
  },
  {
   "cell_type": "code",
   "execution_count": 4,
   "metadata": {
    "colab": {
     "base_uri": "https://localhost:8080/",
     "height": 424
    },
    "id": "PW4dIPweqTce",
    "outputId": "1efab33f-6eef-44f7-d8ef-60f12cf4126d"
   },
   "outputs": [
    {
     "data": {
      "text/html": [
       "\n",
       "  <div id=\"df-0ef86e3d-354b-401c-82a9-ae5784fc0267\">\n",
       "    <div class=\"colab-df-container\">\n",
       "      <div>\n",
       "<style scoped>\n",
       "    .dataframe tbody tr th:only-of-type {\n",
       "        vertical-align: middle;\n",
       "    }\n",
       "\n",
       "    .dataframe tbody tr th {\n",
       "        vertical-align: top;\n",
       "    }\n",
       "\n",
       "    .dataframe thead th {\n",
       "        text-align: right;\n",
       "    }\n",
       "</style>\n",
       "<table border=\"1\" class=\"dataframe\">\n",
       "  <thead>\n",
       "    <tr style=\"text-align: right;\">\n",
       "      <th></th>\n",
       "      <th>label</th>\n",
       "      <th>text</th>\n",
       "    </tr>\n",
       "  </thead>\n",
       "  <tbody>\n",
       "    <tr>\n",
       "      <th>0</th>\n",
       "      <td>negative</td>\n",
       "      <td>А попа подозревала давно,что ты с кавказа..пер...</td>\n",
       "    </tr>\n",
       "    <tr>\n",
       "      <th>1</th>\n",
       "      <td>speech</td>\n",
       "      <td>З прошедшим Днем Ангела))))))))</td>\n",
       "    </tr>\n",
       "    <tr>\n",
       "      <th>2</th>\n",
       "      <td>skip</td>\n",
       "      <td>Два дня до отлёта с острова!!!!!!!</td>\n",
       "    </tr>\n",
       "    <tr>\n",
       "      <th>3</th>\n",
       "      <td>negative</td>\n",
       "      <td>Блин, почему эта жизнь столь не справедлива ((((</td>\n",
       "    </tr>\n",
       "    <tr>\n",
       "      <th>4</th>\n",
       "      <td>skip</td>\n",
       "      <td>где еще встречать свой день рождения как не на...</td>\n",
       "    </tr>\n",
       "    <tr>\n",
       "      <th>...</th>\n",
       "      <td>...</td>\n",
       "      <td>...</td>\n",
       "    </tr>\n",
       "    <tr>\n",
       "      <th>21263</th>\n",
       "      <td>neutral</td>\n",
       "      <td>Анастасия, у меня есть друг, с которым вы хоро...</td>\n",
       "    </tr>\n",
       "    <tr>\n",
       "      <th>21264</th>\n",
       "      <td>neutral</td>\n",
       "      <td>Колька пошли гулять!!?</td>\n",
       "    </tr>\n",
       "    <tr>\n",
       "      <th>21265</th>\n",
       "      <td>neutral</td>\n",
       "      <td>Ура! Золото дают бесплатно!Напиши это в 4 комм...</td>\n",
       "    </tr>\n",
       "    <tr>\n",
       "      <th>21266</th>\n",
       "      <td>speech</td>\n",
       "      <td>С Праздником, Ксюнь! \\nЖенского счастья тебе!\\...</td>\n",
       "    </tr>\n",
       "    <tr>\n",
       "      <th>21267</th>\n",
       "      <td>positive</td>\n",
       "      <td>XXV МЕЖДУНАРОДНЫЙ МАРАФОН \"ЭРГО - БЕЛЫЕ НОЧИ\"....</td>\n",
       "    </tr>\n",
       "  </tbody>\n",
       "</table>\n",
       "<p>21268 rows × 2 columns</p>\n",
       "</div>\n",
       "      <button class=\"colab-df-convert\" onclick=\"convertToInteractive('df-0ef86e3d-354b-401c-82a9-ae5784fc0267')\"\n",
       "              title=\"Convert this dataframe to an interactive table.\"\n",
       "              style=\"display:none;\">\n",
       "        \n",
       "  <svg xmlns=\"http://www.w3.org/2000/svg\" height=\"24px\"viewBox=\"0 0 24 24\"\n",
       "       width=\"24px\">\n",
       "    <path d=\"M0 0h24v24H0V0z\" fill=\"none\"/>\n",
       "    <path d=\"M18.56 5.44l.94 2.06.94-2.06 2.06-.94-2.06-.94-.94-2.06-.94 2.06-2.06.94zm-11 1L8.5 8.5l.94-2.06 2.06-.94-2.06-.94L8.5 2.5l-.94 2.06-2.06.94zm10 10l.94 2.06.94-2.06 2.06-.94-2.06-.94-.94-2.06-.94 2.06-2.06.94z\"/><path d=\"M17.41 7.96l-1.37-1.37c-.4-.4-.92-.59-1.43-.59-.52 0-1.04.2-1.43.59L10.3 9.45l-7.72 7.72c-.78.78-.78 2.05 0 2.83L4 21.41c.39.39.9.59 1.41.59.51 0 1.02-.2 1.41-.59l7.78-7.78 2.81-2.81c.8-.78.8-2.07 0-2.86zM5.41 20L4 18.59l7.72-7.72 1.47 1.35L5.41 20z\"/>\n",
       "  </svg>\n",
       "      </button>\n",
       "      \n",
       "  <style>\n",
       "    .colab-df-container {\n",
       "      display:flex;\n",
       "      flex-wrap:wrap;\n",
       "      gap: 12px;\n",
       "    }\n",
       "\n",
       "    .colab-df-convert {\n",
       "      background-color: #E8F0FE;\n",
       "      border: none;\n",
       "      border-radius: 50%;\n",
       "      cursor: pointer;\n",
       "      display: none;\n",
       "      fill: #1967D2;\n",
       "      height: 32px;\n",
       "      padding: 0 0 0 0;\n",
       "      width: 32px;\n",
       "    }\n",
       "\n",
       "    .colab-df-convert:hover {\n",
       "      background-color: #E2EBFA;\n",
       "      box-shadow: 0px 1px 2px rgba(60, 64, 67, 0.3), 0px 1px 3px 1px rgba(60, 64, 67, 0.15);\n",
       "      fill: #174EA6;\n",
       "    }\n",
       "\n",
       "    [theme=dark] .colab-df-convert {\n",
       "      background-color: #3B4455;\n",
       "      fill: #D2E3FC;\n",
       "    }\n",
       "\n",
       "    [theme=dark] .colab-df-convert:hover {\n",
       "      background-color: #434B5C;\n",
       "      box-shadow: 0px 1px 3px 1px rgba(0, 0, 0, 0.15);\n",
       "      filter: drop-shadow(0px 1px 2px rgba(0, 0, 0, 0.3));\n",
       "      fill: #FFFFFF;\n",
       "    }\n",
       "  </style>\n",
       "\n",
       "      <script>\n",
       "        const buttonEl =\n",
       "          document.querySelector('#df-0ef86e3d-354b-401c-82a9-ae5784fc0267 button.colab-df-convert');\n",
       "        buttonEl.style.display =\n",
       "          google.colab.kernel.accessAllowed ? 'block' : 'none';\n",
       "\n",
       "        async function convertToInteractive(key) {\n",
       "          const element = document.querySelector('#df-0ef86e3d-354b-401c-82a9-ae5784fc0267');\n",
       "          const dataTable =\n",
       "            await google.colab.kernel.invokeFunction('convertToInteractive',\n",
       "                                                     [key], {});\n",
       "          if (!dataTable) return;\n",
       "\n",
       "          const docLinkHtml = 'Like what you see? Visit the ' +\n",
       "            '<a target=\"_blank\" href=https://colab.research.google.com/notebooks/data_table.ipynb>data table notebook</a>'\n",
       "            + ' to learn more about interactive tables.';\n",
       "          element.innerHTML = '';\n",
       "          dataTable['output_type'] = 'display_data';\n",
       "          await google.colab.output.renderOutput(dataTable, element);\n",
       "          const docLink = document.createElement('div');\n",
       "          docLink.innerHTML = docLinkHtml;\n",
       "          element.appendChild(docLink);\n",
       "        }\n",
       "      </script>\n",
       "    </div>\n",
       "  </div>\n",
       "  "
      ],
      "text/plain": [
       "          label                                               text\n",
       "0      negative  А попа подозревала давно,что ты с кавказа..пер...\n",
       "1        speech                    З прошедшим Днем Ангела))))))))\n",
       "2          skip                 Два дня до отлёта с острова!!!!!!!\n",
       "3      negative   Блин, почему эта жизнь столь не справедлива ((((\n",
       "4          skip  где еще встречать свой день рождения как не на...\n",
       "...         ...                                                ...\n",
       "21263   neutral  Анастасия, у меня есть друг, с которым вы хоро...\n",
       "21264   neutral                             Колька пошли гулять!!?\n",
       "21265   neutral  Ура! Золото дают бесплатно!Напиши это в 4 комм...\n",
       "21266    speech  С Праздником, Ксюнь! \\nЖенского счастья тебе!\\...\n",
       "21267  positive  XXV МЕЖДУНАРОДНЫЙ МАРАФОН \"ЭРГО - БЕЛЫЕ НОЧИ\"....\n",
       "\n",
       "[21268 rows x 2 columns]"
      ]
     },
     "execution_count": 4,
     "metadata": {},
     "output_type": "execute_result"
    }
   ],
   "source": [
    "train"
   ]
  },
  {
   "cell_type": "code",
   "execution_count": 5,
   "metadata": {
    "colab": {
     "base_uri": "https://localhost:8080/",
     "height": 424
    },
    "id": "LLj-zy5gqTZJ",
    "outputId": "d665a00c-e207-4b0e-a3e8-82656f0cbbe2"
   },
   "outputs": [
    {
     "data": {
      "text/html": [
       "\n",
       "  <div id=\"df-bd0ad57d-80b8-4fdc-b7d4-15baf1b1a11c\">\n",
       "    <div class=\"colab-df-container\">\n",
       "      <div>\n",
       "<style scoped>\n",
       "    .dataframe tbody tr th:only-of-type {\n",
       "        vertical-align: middle;\n",
       "    }\n",
       "\n",
       "    .dataframe tbody tr th {\n",
       "        vertical-align: top;\n",
       "    }\n",
       "\n",
       "    .dataframe thead th {\n",
       "        text-align: right;\n",
       "    }\n",
       "</style>\n",
       "<table border=\"1\" class=\"dataframe\">\n",
       "  <thead>\n",
       "    <tr style=\"text-align: right;\">\n",
       "      <th></th>\n",
       "      <th>label</th>\n",
       "      <th>text</th>\n",
       "    </tr>\n",
       "  </thead>\n",
       "  <tbody>\n",
       "    <tr>\n",
       "      <th>0</th>\n",
       "      <td>neutral</td>\n",
       "      <td>Александр, тебе к лицу эта пушка :)\\n</td>\n",
       "    </tr>\n",
       "    <tr>\n",
       "      <th>1</th>\n",
       "      <td>positive</td>\n",
       "      <td>Скоро ты вернешься домой, грязный, не бритый н...</td>\n",
       "    </tr>\n",
       "    <tr>\n",
       "      <th>2</th>\n",
       "      <td>neutral</td>\n",
       "      <td>помниш...))</td>\n",
       "    </tr>\n",
       "    <tr>\n",
       "      <th>3</th>\n",
       "      <td>skip</td>\n",
       "      <td>Мы просто с  [id12210212|Елисеем]  психанули )...</td>\n",
       "    </tr>\n",
       "    <tr>\n",
       "      <th>4</th>\n",
       "      <td>speech</td>\n",
       "      <td>ой, прости забыла поздравить, с праздничьком, ...</td>\n",
       "    </tr>\n",
       "    <tr>\n",
       "      <th>...</th>\n",
       "      <td>...</td>\n",
       "      <td>...</td>\n",
       "    </tr>\n",
       "    <tr>\n",
       "      <th>2962</th>\n",
       "      <td>neutral</td>\n",
       "      <td>Коллективно жмём F13! И наблюдаем за результатом!</td>\n",
       "    </tr>\n",
       "    <tr>\n",
       "      <th>2963</th>\n",
       "      <td>neutral</td>\n",
       "      <td>ану ка быстро цоя добавь!</td>\n",
       "    </tr>\n",
       "    <tr>\n",
       "      <th>2964</th>\n",
       "      <td>skip</td>\n",
       "      <td>Ты одна половинка - я вторая половинка...... А...</td>\n",
       "    </tr>\n",
       "    <tr>\n",
       "      <th>2965</th>\n",
       "      <td>positive</td>\n",
       "      <td>Люблю кису)))</td>\n",
       "    </tr>\n",
       "    <tr>\n",
       "      <th>2966</th>\n",
       "      <td>skip</td>\n",
       "      <td>Ахахахахах.Прикольно попереписувались.\\nаааааа...</td>\n",
       "    </tr>\n",
       "  </tbody>\n",
       "</table>\n",
       "<p>2967 rows × 2 columns</p>\n",
       "</div>\n",
       "      <button class=\"colab-df-convert\" onclick=\"convertToInteractive('df-bd0ad57d-80b8-4fdc-b7d4-15baf1b1a11c')\"\n",
       "              title=\"Convert this dataframe to an interactive table.\"\n",
       "              style=\"display:none;\">\n",
       "        \n",
       "  <svg xmlns=\"http://www.w3.org/2000/svg\" height=\"24px\"viewBox=\"0 0 24 24\"\n",
       "       width=\"24px\">\n",
       "    <path d=\"M0 0h24v24H0V0z\" fill=\"none\"/>\n",
       "    <path d=\"M18.56 5.44l.94 2.06.94-2.06 2.06-.94-2.06-.94-.94-2.06-.94 2.06-2.06.94zm-11 1L8.5 8.5l.94-2.06 2.06-.94-2.06-.94L8.5 2.5l-.94 2.06-2.06.94zm10 10l.94 2.06.94-2.06 2.06-.94-2.06-.94-.94-2.06-.94 2.06-2.06.94z\"/><path d=\"M17.41 7.96l-1.37-1.37c-.4-.4-.92-.59-1.43-.59-.52 0-1.04.2-1.43.59L10.3 9.45l-7.72 7.72c-.78.78-.78 2.05 0 2.83L4 21.41c.39.39.9.59 1.41.59.51 0 1.02-.2 1.41-.59l7.78-7.78 2.81-2.81c.8-.78.8-2.07 0-2.86zM5.41 20L4 18.59l7.72-7.72 1.47 1.35L5.41 20z\"/>\n",
       "  </svg>\n",
       "      </button>\n",
       "      \n",
       "  <style>\n",
       "    .colab-df-container {\n",
       "      display:flex;\n",
       "      flex-wrap:wrap;\n",
       "      gap: 12px;\n",
       "    }\n",
       "\n",
       "    .colab-df-convert {\n",
       "      background-color: #E8F0FE;\n",
       "      border: none;\n",
       "      border-radius: 50%;\n",
       "      cursor: pointer;\n",
       "      display: none;\n",
       "      fill: #1967D2;\n",
       "      height: 32px;\n",
       "      padding: 0 0 0 0;\n",
       "      width: 32px;\n",
       "    }\n",
       "\n",
       "    .colab-df-convert:hover {\n",
       "      background-color: #E2EBFA;\n",
       "      box-shadow: 0px 1px 2px rgba(60, 64, 67, 0.3), 0px 1px 3px 1px rgba(60, 64, 67, 0.15);\n",
       "      fill: #174EA6;\n",
       "    }\n",
       "\n",
       "    [theme=dark] .colab-df-convert {\n",
       "      background-color: #3B4455;\n",
       "      fill: #D2E3FC;\n",
       "    }\n",
       "\n",
       "    [theme=dark] .colab-df-convert:hover {\n",
       "      background-color: #434B5C;\n",
       "      box-shadow: 0px 1px 3px 1px rgba(0, 0, 0, 0.15);\n",
       "      filter: drop-shadow(0px 1px 2px rgba(0, 0, 0, 0.3));\n",
       "      fill: #FFFFFF;\n",
       "    }\n",
       "  </style>\n",
       "\n",
       "      <script>\n",
       "        const buttonEl =\n",
       "          document.querySelector('#df-bd0ad57d-80b8-4fdc-b7d4-15baf1b1a11c button.colab-df-convert');\n",
       "        buttonEl.style.display =\n",
       "          google.colab.kernel.accessAllowed ? 'block' : 'none';\n",
       "\n",
       "        async function convertToInteractive(key) {\n",
       "          const element = document.querySelector('#df-bd0ad57d-80b8-4fdc-b7d4-15baf1b1a11c');\n",
       "          const dataTable =\n",
       "            await google.colab.kernel.invokeFunction('convertToInteractive',\n",
       "                                                     [key], {});\n",
       "          if (!dataTable) return;\n",
       "\n",
       "          const docLinkHtml = 'Like what you see? Visit the ' +\n",
       "            '<a target=\"_blank\" href=https://colab.research.google.com/notebooks/data_table.ipynb>data table notebook</a>'\n",
       "            + ' to learn more about interactive tables.';\n",
       "          element.innerHTML = '';\n",
       "          dataTable['output_type'] = 'display_data';\n",
       "          await google.colab.output.renderOutput(dataTable, element);\n",
       "          const docLink = document.createElement('div');\n",
       "          docLink.innerHTML = docLinkHtml;\n",
       "          element.appendChild(docLink);\n",
       "        }\n",
       "      </script>\n",
       "    </div>\n",
       "  </div>\n",
       "  "
      ],
      "text/plain": [
       "         label                                               text\n",
       "0      neutral              Александр, тебе к лицу эта пушка :)\\n\n",
       "1     positive  Скоро ты вернешься домой, грязный, не бритый н...\n",
       "2      neutral                                        помниш...))\n",
       "3         skip  Мы просто с  [id12210212|Елисеем]  психанули )...\n",
       "4       speech  ой, прости забыла поздравить, с праздничьком, ...\n",
       "...        ...                                                ...\n",
       "2962   neutral  Коллективно жмём F13! И наблюдаем за результатом!\n",
       "2963   neutral                          ану ка быстро цоя добавь!\n",
       "2964      skip  Ты одна половинка - я вторая половинка...... А...\n",
       "2965  positive                                      Люблю кису)))\n",
       "2966      skip  Ахахахахах.Прикольно попереписувались.\\nаааааа...\n",
       "\n",
       "[2967 rows x 2 columns]"
      ]
     },
     "execution_count": 5,
     "metadata": {},
     "output_type": "execute_result"
    }
   ],
   "source": [
    "test"
   ]
  },
  {
   "cell_type": "markdown",
   "metadata": {
    "id": "3hO15Dk5Q5ar"
   },
   "source": [
    "#### Предобработка данных"
   ]
  },
  {
   "cell_type": "code",
   "execution_count": 6,
   "metadata": {
    "colab": {
     "base_uri": "https://localhost:8080/",
     "height": 460
    },
    "id": "yC6WMEmJjLDh",
    "outputId": "90a511ca-7555-43b6-d460-23413ec3a638"
   },
   "outputs": [
    {
     "name": "stderr",
     "output_type": "stream",
     "text": [
      "[nltk_data] Downloading package stopwords to /root/nltk_data...\n",
      "[nltk_data]   Package stopwords is already up-to-date!\n"
     ]
    },
    {
     "data": {
      "text/html": [
       "\n",
       "  <div id=\"df-cb6c2273-19ed-410d-a963-6a162b71a41c\">\n",
       "    <div class=\"colab-df-container\">\n",
       "      <div>\n",
       "<style scoped>\n",
       "    .dataframe tbody tr th:only-of-type {\n",
       "        vertical-align: middle;\n",
       "    }\n",
       "\n",
       "    .dataframe tbody tr th {\n",
       "        vertical-align: top;\n",
       "    }\n",
       "\n",
       "    .dataframe thead th {\n",
       "        text-align: right;\n",
       "    }\n",
       "</style>\n",
       "<table border=\"1\" class=\"dataframe\">\n",
       "  <thead>\n",
       "    <tr style=\"text-align: right;\">\n",
       "      <th></th>\n",
       "      <th>label</th>\n",
       "      <th>text</th>\n",
       "      <th>text_tokenized</th>\n",
       "      <th>cleaned_text</th>\n",
       "    </tr>\n",
       "  </thead>\n",
       "  <tbody>\n",
       "    <tr>\n",
       "      <th>0</th>\n",
       "      <td>negative</td>\n",
       "      <td>А попа подозревала давно,что ты с кавказа..пер...</td>\n",
       "      <td>[а, попа, подозревала, давно, что, ты, с, кавк...</td>\n",
       "      <td>попа подозревала давно кавказа перестану обща...</td>\n",
       "    </tr>\n",
       "    <tr>\n",
       "      <th>1</th>\n",
       "      <td>speech</td>\n",
       "      <td>З прошедшим Днем Ангела))))))))</td>\n",
       "      <td>[з, прошедшим, днем, ангела]</td>\n",
       "      <td>з прошедшим днем ангела</td>\n",
       "    </tr>\n",
       "    <tr>\n",
       "      <th>2</th>\n",
       "      <td>skip</td>\n",
       "      <td>Два дня до отлета с острова!!!!!!!</td>\n",
       "      <td>[два, дня, до, отлета, с, острова]</td>\n",
       "      <td>дня отлета острова</td>\n",
       "    </tr>\n",
       "    <tr>\n",
       "      <th>3</th>\n",
       "      <td>negative</td>\n",
       "      <td>Блин, почему эта жизнь столь не справедлива ((((</td>\n",
       "      <td>[блин, почему, эта, жизнь, столь, не, справедл...</td>\n",
       "      <td>блин почему эта жизнь столь справедлива</td>\n",
       "    </tr>\n",
       "    <tr>\n",
       "      <th>4</th>\n",
       "      <td>skip</td>\n",
       "      <td>где еще встречать свой день рождения как не на...</td>\n",
       "      <td>[где, еще, встречать, свой, день, рождения, ка...</td>\n",
       "      <td>встречать свой день рождения кладбище</td>\n",
       "    </tr>\n",
       "    <tr>\n",
       "      <th>...</th>\n",
       "      <td>...</td>\n",
       "      <td>...</td>\n",
       "      <td>...</td>\n",
       "      <td>...</td>\n",
       "    </tr>\n",
       "    <tr>\n",
       "      <th>21263</th>\n",
       "      <td>neutral</td>\n",
       "      <td>Анастасия, у меня есть друг, с которым вы хоро...</td>\n",
       "      <td>[анастасия, у, меня, есть, друг, с, которым, в...</td>\n",
       "      <td>анастасия друг которым смотрелись вместе узнай</td>\n",
       "    </tr>\n",
       "    <tr>\n",
       "      <th>21264</th>\n",
       "      <td>neutral</td>\n",
       "      <td>Колька пошли гулять!!?</td>\n",
       "      <td>[колька, пошли, гулять]</td>\n",
       "      <td>колька пошли гулять</td>\n",
       "    </tr>\n",
       "    <tr>\n",
       "      <th>21265</th>\n",
       "      <td>neutral</td>\n",
       "      <td>Ура! Золото дают бесплатно!Напиши это в 4 комм...</td>\n",
       "      <td>[ура, золото, дают, бесплатно, напиши, это, в,...</td>\n",
       "      <td>ура золото дают бесплатно напиши это коммента...</td>\n",
       "    </tr>\n",
       "    <tr>\n",
       "      <th>21266</th>\n",
       "      <td>speech</td>\n",
       "      <td>С Праздником, Ксюнь! Женского счастья тебе! Вы...</td>\n",
       "      <td>[с, праздником, ксюнь, женского, счастья, тебе...</td>\n",
       "      <td>праздником ксюнь женского счастья тебе выбира...</td>\n",
       "    </tr>\n",
       "    <tr>\n",
       "      <th>21267</th>\n",
       "      <td>positive</td>\n",
       "      <td>XXV МЕЖДУНАРОДНЫЙ МАРАФОН \"ЭРГО - БЕЛЫЕ НОЧИ\"....</td>\n",
       "      <td>[xxv, международный, марафон, эрго, белые, ноч...</td>\n",
       "      <td>международный марафон эрго белые ночи дистанц...</td>\n",
       "    </tr>\n",
       "  </tbody>\n",
       "</table>\n",
       "<p>21268 rows × 4 columns</p>\n",
       "</div>\n",
       "      <button class=\"colab-df-convert\" onclick=\"convertToInteractive('df-cb6c2273-19ed-410d-a963-6a162b71a41c')\"\n",
       "              title=\"Convert this dataframe to an interactive table.\"\n",
       "              style=\"display:none;\">\n",
       "        \n",
       "  <svg xmlns=\"http://www.w3.org/2000/svg\" height=\"24px\"viewBox=\"0 0 24 24\"\n",
       "       width=\"24px\">\n",
       "    <path d=\"M0 0h24v24H0V0z\" fill=\"none\"/>\n",
       "    <path d=\"M18.56 5.44l.94 2.06.94-2.06 2.06-.94-2.06-.94-.94-2.06-.94 2.06-2.06.94zm-11 1L8.5 8.5l.94-2.06 2.06-.94-2.06-.94L8.5 2.5l-.94 2.06-2.06.94zm10 10l.94 2.06.94-2.06 2.06-.94-2.06-.94-.94-2.06-.94 2.06-2.06.94z\"/><path d=\"M17.41 7.96l-1.37-1.37c-.4-.4-.92-.59-1.43-.59-.52 0-1.04.2-1.43.59L10.3 9.45l-7.72 7.72c-.78.78-.78 2.05 0 2.83L4 21.41c.39.39.9.59 1.41.59.51 0 1.02-.2 1.41-.59l7.78-7.78 2.81-2.81c.8-.78.8-2.07 0-2.86zM5.41 20L4 18.59l7.72-7.72 1.47 1.35L5.41 20z\"/>\n",
       "  </svg>\n",
       "      </button>\n",
       "      \n",
       "  <style>\n",
       "    .colab-df-container {\n",
       "      display:flex;\n",
       "      flex-wrap:wrap;\n",
       "      gap: 12px;\n",
       "    }\n",
       "\n",
       "    .colab-df-convert {\n",
       "      background-color: #E8F0FE;\n",
       "      border: none;\n",
       "      border-radius: 50%;\n",
       "      cursor: pointer;\n",
       "      display: none;\n",
       "      fill: #1967D2;\n",
       "      height: 32px;\n",
       "      padding: 0 0 0 0;\n",
       "      width: 32px;\n",
       "    }\n",
       "\n",
       "    .colab-df-convert:hover {\n",
       "      background-color: #E2EBFA;\n",
       "      box-shadow: 0px 1px 2px rgba(60, 64, 67, 0.3), 0px 1px 3px 1px rgba(60, 64, 67, 0.15);\n",
       "      fill: #174EA6;\n",
       "    }\n",
       "\n",
       "    [theme=dark] .colab-df-convert {\n",
       "      background-color: #3B4455;\n",
       "      fill: #D2E3FC;\n",
       "    }\n",
       "\n",
       "    [theme=dark] .colab-df-convert:hover {\n",
       "      background-color: #434B5C;\n",
       "      box-shadow: 0px 1px 3px 1px rgba(0, 0, 0, 0.15);\n",
       "      filter: drop-shadow(0px 1px 2px rgba(0, 0, 0, 0.3));\n",
       "      fill: #FFFFFF;\n",
       "    }\n",
       "  </style>\n",
       "\n",
       "      <script>\n",
       "        const buttonEl =\n",
       "          document.querySelector('#df-cb6c2273-19ed-410d-a963-6a162b71a41c button.colab-df-convert');\n",
       "        buttonEl.style.display =\n",
       "          google.colab.kernel.accessAllowed ? 'block' : 'none';\n",
       "\n",
       "        async function convertToInteractive(key) {\n",
       "          const element = document.querySelector('#df-cb6c2273-19ed-410d-a963-6a162b71a41c');\n",
       "          const dataTable =\n",
       "            await google.colab.kernel.invokeFunction('convertToInteractive',\n",
       "                                                     [key], {});\n",
       "          if (!dataTable) return;\n",
       "\n",
       "          const docLinkHtml = 'Like what you see? Visit the ' +\n",
       "            '<a target=\"_blank\" href=https://colab.research.google.com/notebooks/data_table.ipynb>data table notebook</a>'\n",
       "            + ' to learn more about interactive tables.';\n",
       "          element.innerHTML = '';\n",
       "          dataTable['output_type'] = 'display_data';\n",
       "          await google.colab.output.renderOutput(dataTable, element);\n",
       "          const docLink = document.createElement('div');\n",
       "          docLink.innerHTML = docLinkHtml;\n",
       "          element.appendChild(docLink);\n",
       "        }\n",
       "      </script>\n",
       "    </div>\n",
       "  </div>\n",
       "  "
      ],
      "text/plain": [
       "          label                                               text  \\\n",
       "0      negative  А попа подозревала давно,что ты с кавказа..пер...   \n",
       "1        speech                    З прошедшим Днем Ангела))))))))   \n",
       "2          skip                 Два дня до отлета с острова!!!!!!!   \n",
       "3      negative   Блин, почему эта жизнь столь не справедлива ((((   \n",
       "4          skip  где еще встречать свой день рождения как не на...   \n",
       "...         ...                                                ...   \n",
       "21263   neutral  Анастасия, у меня есть друг, с которым вы хоро...   \n",
       "21264   neutral                             Колька пошли гулять!!?   \n",
       "21265   neutral  Ура! Золото дают бесплатно!Напиши это в 4 комм...   \n",
       "21266    speech  С Праздником, Ксюнь! Женского счастья тебе! Вы...   \n",
       "21267  positive  XXV МЕЖДУНАРОДНЫЙ МАРАФОН \"ЭРГО - БЕЛЫЕ НОЧИ\"....   \n",
       "\n",
       "                                          text_tokenized  \\\n",
       "0      [а, попа, подозревала, давно, что, ты, с, кавк...   \n",
       "1                           [з, прошедшим, днем, ангела]   \n",
       "2                     [два, дня, до, отлета, с, острова]   \n",
       "3      [блин, почему, эта, жизнь, столь, не, справедл...   \n",
       "4      [где, еще, встречать, свой, день, рождения, ка...   \n",
       "...                                                  ...   \n",
       "21263  [анастасия, у, меня, есть, друг, с, которым, в...   \n",
       "21264                            [колька, пошли, гулять]   \n",
       "21265  [ура, золото, дают, бесплатно, напиши, это, в,...   \n",
       "21266  [с, праздником, ксюнь, женского, счастья, тебе...   \n",
       "21267  [xxv, международный, марафон, эрго, белые, ноч...   \n",
       "\n",
       "                                            cleaned_text  \n",
       "0       попа подозревала давно кавказа перестану обща...  \n",
       "1                               з прошедшим днем ангела   \n",
       "2                                    дня отлета острова   \n",
       "3               блин почему эта жизнь столь справедлива   \n",
       "4                 встречать свой день рождения кладбище   \n",
       "...                                                  ...  \n",
       "21263    анастасия друг которым смотрелись вместе узнай   \n",
       "21264                               колька пошли гулять   \n",
       "21265   ура золото дают бесплатно напиши это коммента...  \n",
       "21266   праздником ксюнь женского счастья тебе выбира...  \n",
       "21267   международный марафон эрго белые ночи дистанц...  \n",
       "\n",
       "[21268 rows x 4 columns]"
      ]
     },
     "execution_count": 6,
     "metadata": {},
     "output_type": "execute_result"
    }
   ],
   "source": [
    "# Очистка данных\n",
    "import nltk\n",
    "import string, re\n",
    "from collections import Counter, OrderedDict\n",
    "from nltk.tokenize import RegexpTokenizer\n",
    "\n",
    "tokenizer = RegexpTokenizer('\\W+', gaps=True)\n",
    "nltk.download('stopwords')\n",
    "stopwords = nltk.corpus.stopwords.words('russian')\n",
    "\n",
    "# минимальная обработка текста\n",
    "def clean(text):\n",
    "    text = re.sub('ё','е',str(text))\n",
    "    text = re.sub('\\\\n',' ',str(text)) # удаляет переносы строк\n",
    "    text = re.sub('\\s{2,}', \" \", text) # удаляет лишние пробелы\n",
    "    return text\n",
    "\n",
    "# чистит от стоп слов токенезированный текст\n",
    "def clean_from_stopwords(text):\n",
    "    text = [token for token in text if re.match(r'[а-яА-Я]', token) and token not in stopwords]\n",
    "    #text = re.sub('ё','е',str(text))\n",
    "    text = re.sub(r'[^\\яа-яА-Я0-9@]',' ',str(text))\n",
    "    text = re.sub(r'\\w*\\d+\\w*', '', text) # удаляет цифры\n",
    "    text = re.sub('\\s{2,}', \" \", text) # удаляет лишние пробелы\n",
    "    return text\n",
    "\n",
    "\n",
    "train['text'] = train['text'].apply(clean)\n",
    "test['text'] = test['text'].apply(clean)\n",
    "\n",
    "# токенизирование\n",
    "train['text_tokenized'] = train.text.map(lambda row: tokenizer.tokenize(row.lower()))\n",
    "test['text_tokenized'] = test.text.map(lambda row: tokenizer.tokenize(row.lower()))\n",
    "\n",
    "train['cleaned_text'] = train['text_tokenized'].apply(clean_from_stopwords)\n",
    "test['cleaned_text'] = test['text_tokenized'].apply(clean_from_stopwords)\n",
    "\n",
    "train"
   ]
  },
  {
   "cell_type": "code",
   "execution_count": 7,
   "metadata": {
    "colab": {
     "base_uri": "https://localhost:8080/"
    },
    "id": "Hl0N3_bzJcT4",
    "outputId": "162039fe-c78d-4dd6-db82-e9423551692e"
   },
   "outputs": [
    {
     "name": "stdout",
     "output_type": "stream",
     "text": [
      "Данные для обучения:\n",
      "__label__negative А попа подозревала давно,что ты с кавказа..перестану общаться с тобой\n",
      "__label__speech З прошедшим Днем Ангела))))))))\n",
      "__label__skip Два дня до отлета с острова!!!!!!!\n",
      "__label__negative Блин, почему эта жизнь столь не справедлива ((((\n",
      "__label__skip где еще встречать свой день рождения как не на кладбище))))\n",
      "__label__neutral Решите уравнение мужских дел для жизни : Домов - 3 Деревьев - 5 Сыновей - ?\n",
      "__label__positive патамушта я крутая баба! ееее!!\n",
      "__label__neutral Просто пост :)\n",
      "__label__positive урря!я дождался этой овцыы)\n",
      "__label__speech С Днем Рождения желаю много счастья, любви и успехов во всем:) И еще с днем Защитника Отечества;))))))))\n"
     ]
    }
   ],
   "source": [
    "# Создание текстовых файлов для обучения fasttext модели с лейблом и текстом\n",
    "def make_txt(data, column, file_name):\n",
    "    with open(file_name, 'w') as f:\n",
    "        for each_text, each_label in zip(data[column], data['label']):\n",
    "            f.writelines(f'__label__{each_label} {each_text}\\n')\n",
    "\n",
    "# файлы с минимально обработаннымм текстами\n",
    "make_txt(train, 'text', 'train-text.txt')\n",
    "make_txt(test, 'text', 'test-text.txt')\n",
    "\n",
    "print('Данные для обучения:')\n",
    "! head -n 10 train-text.txt"
   ]
  },
  {
   "cell_type": "code",
   "execution_count": 8,
   "metadata": {
    "colab": {
     "base_uri": "https://localhost:8080/"
    },
    "id": "jQQ0jN6XPoDc",
    "outputId": "60ad21f4-b06e-4f30-9f02-3f7cb7aba373"
   },
   "outputs": [
    {
     "name": "stdout",
     "output_type": "stream",
     "text": [
      "Данные для обучения:\n",
      "__label__negative  попа подозревала давно кавказа перестану общаться тобой \n",
      "__label__speech  з прошедшим днем ангела \n",
      "__label__skip  дня отлета острова \n",
      "__label__negative  блин почему эта жизнь столь справедлива \n",
      "__label__skip  встречать свой день рождения кладбище \n",
      "__label__neutral  решите уравнение мужских дел жизни домов деревьев сыновей \n",
      "__label__positive  патамушта крутая баба ееее \n",
      "__label__neutral  просто пост \n",
      "__label__positive  урря дождался овцыы \n",
      "__label__speech  днем рождения желаю счастья любви успехов всем днем защитника отечества \n"
     ]
    }
   ],
   "source": [
    "# файлы с текстами без знаков препинания и стоп слов\n",
    "make_txt(train, 'cleaned_text', 'train-cleaned.txt')\n",
    "make_txt(test, 'cleaned_text', 'test-cleaned.txt')\n",
    "\n",
    "print('Данные для обучения:')\n",
    "! head -n 10 train-cleaned.txt"
   ]
  },
  {
   "cell_type": "code",
   "execution_count": 9,
   "metadata": {
    "colab": {
     "base_uri": "https://localhost:8080/"
    },
    "id": "qo_tiq1O0Tlr",
    "outputId": "562a33b9-6786-4eb9-c54c-6b3a1699bdb0"
   },
   "outputs": [
    {
     "name": "stdout",
     "output_type": "stream",
     "text": [
      "Looking in indexes: https://pypi.org/simple, https://us-python.pkg.dev/colab-wheels/public/simple/\n",
      "Requirement already satisfied: fasttext in /usr/local/lib/python3.7/dist-packages (0.9.2)\n",
      "Requirement already satisfied: pybind11>=2.2 in /usr/local/lib/python3.7/dist-packages (from fasttext) (2.10.0)\n",
      "Requirement already satisfied: setuptools>=0.7.0 in /usr/local/lib/python3.7/dist-packages (from fasttext) (57.4.0)\n",
      "Requirement already satisfied: numpy in /usr/local/lib/python3.7/dist-packages (from fasttext) (1.21.6)\n"
     ]
    }
   ],
   "source": [
    "! pip install fasttext"
   ]
  },
  {
   "cell_type": "code",
   "execution_count": 10,
   "metadata": {
    "id": "ggBQVYipE313"
   },
   "outputs": [],
   "source": [
    "import fasttext\n",
    "from sklearn.metrics import f1_score\n",
    "\n",
    "# Печать результатов обучения модели\n",
    "def print_results(sample_size, precision, recall):\n",
    "    precision = round(precision, 2)\n",
    "    recall = round(recall, 2)\n",
    "    print('Размер выборки = ', sample_size)\n",
    "    print('Precision = ', precision)\n",
    "    print('Recall = ', recall)\n",
    "\n",
    "# Вычисление предсказаний для всех текстов и сравнение их с реальными\n",
    "def preds_f1(model, test_column):\n",
    "    pred = []\n",
    "    for line in test_column:\n",
    "        pred.append(model.predict(line)[0][0])\n",
    "\n",
    "    f1 = f1_score('__label__'+test.label, pred, average='macro')\n",
    "    print('\\nf1_score = ', f1)"
   ]
  },
  {
   "cell_type": "code",
   "execution_count": 11,
   "metadata": {
    "colab": {
     "base_uri": "https://localhost:8080/"
    },
    "id": "l8kcvrXdQsYj",
    "outputId": "e71e4b36-ba91-46c9-c722-e78b6bd1e0d0"
   },
   "outputs": [
    {
     "name": "stdout",
     "output_type": "stream",
     "text": [
      "Размер выборки =  2967\n",
      "Precision =  0.64\n",
      "Recall =  0.64\n",
      "\n",
      "f1_score =  0.5301124813074349\n"
     ]
    }
   ],
   "source": [
    "# Модель с базовыми параметрами на минимально обработанных данных\n",
    "model0 = fasttext.train_supervised('train-text.txt')\n",
    "\n",
    "print_results(*model0.test('test-text.txt'))\n",
    "preds_f1(model0, test['text'])"
   ]
  },
  {
   "cell_type": "code",
   "execution_count": 12,
   "metadata": {
    "colab": {
     "base_uri": "https://localhost:8080/"
    },
    "id": "-gp_1AULK5fZ",
    "outputId": "2ce5ca9c-78cc-4fc3-9a64-6f38adcf8bef"
   },
   "outputs": [
    {
     "name": "stdout",
     "output_type": "stream",
     "text": [
      "Размер выборки =  2967\n",
      "Precision =  0.67\n",
      "Recall =  0.67\n",
      "\n",
      "f1_score =  0.5918161895733179\n"
     ]
    }
   ],
   "source": [
    "# Модель с базовыми параметрами на данных без знаков препинания и стоп слов\n",
    "model1 = fasttext.train_supervised('train-cleaned.txt')\n",
    "\n",
    "print_results(*model1.test('test-cleaned.txt'))\n",
    "preds_f1(model1, test['cleaned_text'])"
   ]
  },
  {
   "cell_type": "markdown",
   "metadata": {
    "id": "31LsrQes92NF"
   },
   "source": [
    "Обучение для text оказалось лучше по train без знаков препинания и стоп слов"
   ]
  },
  {
   "cell_type": "markdown",
   "metadata": {
    "id": "uUJaG4TIlxvc"
   },
   "source": [
    "#### Теперь для той же задачи использую предобученную модель"
   ]
  },
  {
   "cell_type": "code",
   "execution_count": 13,
   "metadata": {
    "colab": {
     "base_uri": "https://localhost:8080/"
    },
    "id": "uemm2jZTqt76",
    "outputId": "59f66ebd-89e9-4935-d964-aa83da23f425"
   },
   "outputs": [
    {
     "name": "stdout",
     "output_type": "stream",
     "text": [
      "Looking in indexes: https://pypi.org/simple, https://us-python.pkg.dev/colab-wheels/public/simple/\n",
      "Requirement already satisfied: dostoevsky in /usr/local/lib/python3.7/dist-packages (0.6.0)\n",
      "Requirement already satisfied: fasttext==0.9.2 in /usr/local/lib/python3.7/dist-packages (from dostoevsky) (0.9.2)\n",
      "Requirement already satisfied: razdel==0.5.0 in /usr/local/lib/python3.7/dist-packages (from dostoevsky) (0.5.0)\n",
      "Requirement already satisfied: numpy in /usr/local/lib/python3.7/dist-packages (from fasttext==0.9.2->dostoevsky) (1.21.6)\n",
      "Requirement already satisfied: setuptools>=0.7.0 in /usr/local/lib/python3.7/dist-packages (from fasttext==0.9.2->dostoevsky) (57.4.0)\n",
      "Requirement already satisfied: pybind11>=2.2 in /usr/local/lib/python3.7/dist-packages (from fasttext==0.9.2->dostoevsky) (2.10.0)\n",
      "--2022-10-23 13:40:01--  https://storage.b-labs.pro/models/fasttext-social-network-model.bin\n",
      "Resolving storage.b-labs.pro (storage.b-labs.pro)... 104.21.14.222, 172.67.160.159, 2606:4700:3031::ac43:a09f, ...\n",
      "Connecting to storage.b-labs.pro (storage.b-labs.pro)|104.21.14.222|:443... connected.\n",
      "HTTP request sent, awaiting response... 200 OK\n",
      "Length: 84051390 (80M) [application/x-sega-cd-rom]\n",
      "Saving to: ‘fasttext-social-network-model.bin’\n",
      "\n",
      "fasttext-social-net 100%[===================>]  80.16M   117MB/s    in 0.7s    \n",
      "\n",
      "2022-10-23 13:40:01 (117 MB/s) - ‘fasttext-social-network-model.bin’ saved [84051390/84051390]\n",
      "\n"
     ]
    }
   ],
   "source": [
    "! pip install dostoevsky\n",
    "#! python dostoevsky download fasttext-social-network-model\n",
    "! wget https://storage.b-labs.pro/models/fasttext-social-network-model.bin"
   ]
  },
  {
   "cell_type": "code",
   "execution_count": 14,
   "metadata": {
    "colab": {
     "base_uri": "https://localhost:8080/"
    },
    "id": "oWO-ajV0rAYm",
    "outputId": "f6ea1c5d-08ae-4e8a-b94d-8316586cf96d"
   },
   "outputs": [
    {
     "name": "stdout",
     "output_type": "stream",
     "text": [
      "Александр, тебе к лицу эта пушка :)   ->  {'neutral': 0.30736804008483887, 'skip': 0.15611489117145538}\n",
      "Скоро ты вернешься домой, грязный, не бритый но такой любимый ❤  ->  {'positive': 0.8596737384796143, 'neutral': 0.040855713188648224}\n",
      "помниш...))  ->  {'positive': 0.46102678775787354, 'neutral': 0.4225146472454071}\n",
      "Мы просто с [id12210212|Елисеем] психанули ))))) К новому году в бункере готовы!)))))) Да, мы любим молоко! Когда стареешь - переходишь на него вместо огненной воды🍹  ->  {'positive': 0.6442351341247559, 'neutral': 0.1259327530860901}\n",
      "ой, прости забыла поздравить, с праздничьком, да ! ))))  ->  {'speech': 0.994098961353302, 'negative': 0.02518884465098381}\n"
     ]
    },
    {
     "name": "stderr",
     "output_type": "stream",
     "text": [
      "Warning : `load_model` does not return WordVectorModel or SupervisedModel any more, but a `FastText` object which is very similar.\n"
     ]
    }
   ],
   "source": [
    "from dostoevsky.tokenization import RegexTokenizer\n",
    "from dostoevsky.models import FastTextSocialNetworkModel\n",
    "FastTextSocialNetworkModel.MODEL_PATH = './fasttext-social-network-model.bin'\n",
    "\n",
    "tokenizer = RegexTokenizer()\n",
    "model2 = FastTextSocialNetworkModel(tokenizer=tokenizer)\n",
    "\n",
    "\n",
    "# Вывод первых двух по вероятности результатов для первых пяти строк теста\n",
    "ex =  test['text'][0:5]\n",
    "res = model2.predict(ex, k=2)\n",
    "\n",
    "for message, sentiment in zip(ex, res):\n",
    "    print(message, ' -> ', sentiment)"
   ]
  },
  {
   "cell_type": "code",
   "execution_count": 15,
   "metadata": {
    "colab": {
     "base_uri": "https://localhost:8080/"
    },
    "id": "tAEIuPZ_DErF",
    "outputId": "d7f6560e-3d28-445d-d575-8fe0c906f393"
   },
   "outputs": [
    {
     "name": "stdout",
     "output_type": "stream",
     "text": [
      "train\n",
      "f1_score =  0.8427868404031168\n",
      "f1_score =  0.7429676199442827\n",
      "test\n",
      "f1_score =  0.6550226772849912\n",
      "f1_score =  0.6048920995937775\n"
     ]
    }
   ],
   "source": [
    "def dostoevsky_check(test, column):\n",
    "    results = model2.predict(test[column], k=1)\n",
    "\n",
    "    pred = []\n",
    "    for sentiment in results:\n",
    "        pred.append(sentiment.popitem()[0])\n",
    "    \n",
    "    f1 = f1_score(test.label, pred, average='macro')\n",
    "    print('f1_score = ', f1)\n",
    "\n",
    "\n",
    "print('train')\n",
    "dostoevsky_check(train, 'text')\n",
    "dostoevsky_check(train, 'cleaned_text')\n",
    "print('test')\n",
    "dostoevsky_check(test, 'text')\n",
    "dostoevsky_check(test, 'cleaned_text')"
   ]
  },
  {
   "cell_type": "markdown",
   "metadata": {
    "id": "TKTagSac9YA2"
   },
   "source": [
    "Предобученная модель лучше себя показывает на начальном тексте, без удаления знаков препинания и стоп слов. \n",
    "\n",
    "Наилучший f1-score на тесте:"
   ]
  },
  {
   "cell_type": "code",
   "execution_count": 16,
   "metadata": {
    "colab": {
     "base_uri": "https://localhost:8080/"
    },
    "id": "lmso7J2Q8MzW",
    "outputId": "2edb5923-178f-4d95-f94e-8ec5b3e83223"
   },
   "outputs": [
    {
     "name": "stdout",
     "output_type": "stream",
     "text": [
      "f1_score =  0.6550226772849912\n"
     ]
    }
   ],
   "source": [
    "dostoevsky_check(test, 'text')"
   ]
  }
 ],
 "metadata": {
  "colab": {
   "collapsed_sections": [],
   "provenance": []
  },
  "kernelspec": {
   "display_name": "Python 3",
   "language": "python",
   "name": "python3"
  },
  "language_info": {
   "codemirror_mode": {
    "name": "ipython",
    "version": 3
   },
   "file_extension": ".py",
   "mimetype": "text/x-python",
   "name": "python",
   "nbconvert_exporter": "python",
   "pygments_lexer": "ipython3",
   "version": "3.9.2"
  }
 },
 "nbformat": 4,
 "nbformat_minor": 4
}
